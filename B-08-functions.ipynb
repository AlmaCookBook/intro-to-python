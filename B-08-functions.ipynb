{
 "cells": [
  {
   "cell_type": "markdown",
   "id": "ac3f5b79-7ace-4e0c-b625-43c19e44e978",
   "metadata": {},
   "source": [
    "<img src=\"../graphics/icr_logo.png\" alt=\"drawing\" width=\"300\"/>\n",
    "\n",
    "# Basic programming with Python\n",
    "## Part 08: Functions\n",
    "\n",
    "Newtonian physics tells us that the gravitational force between two objects is given by the simple relationship\n",
    "\n",
    "\\begin{equation}\n",
    "F = \\frac{G M_1 M_2}{r^2}\n",
    "\\end{equation}\n",
    "\n",
    "where $G$ is some constant, $M_1,M_2$ are the masses of the two objects, and $r$ is the distance between them... We could write some code to do this.\n",
    "\n",
    "For example, we could compute the force between the Earth and the Sun\n",
    "\n",
    "```python\n",
    "G = 6.67 * 10 ** -11\n",
    "M_sun = 2.00 * 10 ** 30\n",
    "M_earth = 5.97 * 10 ** 24\n",
    "r_se = 1.50 * 10 ** 11\n",
    "F_se = G * M_sun * M_earth / r_se ** 2 # 3.54x10^22\n",
    "```\n",
    "\n",
    "We then might want to extend this calculations for other planetary bodies, e.g., Mercury\n",
    "```python\n",
    "M_mercury = 3.28 * 10 ** 23\n",
    "r_sm = 5.7784 * 10 ** 8\n",
    "F_sm = G * M_sun * M_mercury / r_sm ** 2 # 1.31x10^26\n",
    "```\n",
    "\n",
    "***\n",
    "\n",
    "💡 ***Exercise***:\n",
    "- What are the issues with this approach?\n",
    "\n",
    "***"
   ]
  },
  {
   "cell_type": "markdown",
   "id": "a6069cfd-cf5c-4504-95bf-87836c6dd1bc",
   "metadata": {},
   "source": [
    "In the example we gave above, we are doing almost exactly the same calculation, but have just changed some of the values.\n",
    "\n",
    "In Python, we can use **functions** to address this tedium. *A function is a reusable piece of code, that works like a template.*\n",
    "\n",
    "Here is an example of a function that prints \"Hello!\":\n",
    "\n",
    "```python\n",
    "def hello():\n",
    "    print(\"Hello!\")\n",
    "```\n",
    "\n",
    "When a function is defined, on its own, it will appear to do nothing. To make the function \"do\" somethign, we must **call** it. To call the function above, we would call\n",
    "\n",
    "```python\n",
    "hello() # Prints out \"Hello!\"\n",
    "```\n",
    "\n",
    "\n",
    "***\n",
    "\n",
    "⚙️ ***Exercise:*** \n",
    "\n",
    "- Try this out for yourself in the following cell; try calling the function multiple times and observe the output.\n",
    "\n",
    "***"
   ]
  },
  {
   "cell_type": "code",
   "execution_count": null,
   "id": "6f2a1e0a-64d2-4ab5-9dc7-614819f2597d",
   "metadata": {},
   "outputs": [],
   "source": [
    "def hello():\n",
    "    print(\"Hello!\")"
   ]
  },
  {
   "cell_type": "markdown",
   "id": "dcbb910c-11a5-40f5-975d-c15be7b73cd4",
   "metadata": {},
   "source": [
    "We can introduce \"arguments\" to functions which can then be processed by the function, e.g., \n",
    "\n",
    "```python\n",
    "def hello(person):\n",
    "    print(\"Hello\", person)\n",
    "    \n",
    "hello(\"Harry\") # Prints \"Hello Harry\"\n",
    "```\n",
    "\n",
    "- In the cell below, try writing a similar function that takes a firstname and a surname, and prints \"Hello <firstname> <surname>\"."
   ]
  },
  {
   "cell_type": "code",
   "execution_count": null,
   "id": "c77c2ab1-1984-42c1-9d72-b0f4d1d27424",
   "metadata": {
    "tags": []
   },
   "outputs": [],
   "source": [
    "# Solution"
   ]
  },
  {
   "cell_type": "markdown",
   "id": "c22ec24a-dd65-424c-b950-7be911c7a15d",
   "metadata": {},
   "source": [
    "In most cases, we won't just be writing functions to print stuff out, but will want to extract the result from their process.\n",
    "\n",
    "To this end, we can **return** a value from a function. For example,\n",
    "\n",
    "```python\n",
    "def circle_area(radius):\n",
    "    pi = 3 # Approximate\n",
    "    return pi * radius ** 2\n",
    "\n",
    "area_1 = circle_area(1) # Valus is 3\n",
    "area_2 = circle_area(2) # Value is 12\n",
    "area_45 = circle_area(45) # Value 6075\n",
    "```\n",
    "\n",
    "\n",
    "***\n",
    "\n",
    "⚙️ ***Exercise:*** \n",
    "1. Refer back the gravitational equation presented at the top of this notebook. Write a function that implements this equation, using $M_1$, $M_2$ and $r$ as arguments.\n",
    "2. Compute and print out the gravitational force between the Sun and Earth\n",
    "3. Compute and print out the gravitational force between the Sun and Mercury\n",
    "\n",
    "***"
   ]
  },
  {
   "cell_type": "markdown",
   "id": "04a97fdb-a730-4f0e-9d66-13dba6da4169",
   "metadata": {},
   "source": [
    "### Built-in functions\n",
    "\n",
    "Python has a large number of built in functions, that are readily available for you to use! A non-exhaustive list includes\n",
    "\n",
    "| Method      | Description           \n",
    "| :---        |:---            \n",
    "| abs(<value>)    | Returns the absolute value of an object       \n",
    "| all(<iterable>)            | Returns True if all values in a container object are True, otherwise False\n",
    "| any(<iterable>)             | Returns True if any of the values in a container object are True, otherwise False\n",
    "| round(<value>, <precision>)     | Rounds a <value> to a certain amount of decimal <precision>\n",
    "| len(<object>) | Computes the length of an object\n",
    "| max(<iterable>)     | Returns the maximum value from an interable object\n",
    "| min(<iterable>)    | Returns the minimum value from an iterable object\n",
    "| sorted(<iterable>) | Returns the sorted interable object\n",
    "    \n",
    "\n",
    "***\n",
    "\n",
    "⚙️ ***Exercise:*** \n",
    "\n",
    "- In the cell below, there are a mixutre of objects. Compute their min and max values, then print them out in order.\n",
    "    \n",
    "***"
   ]
  },
  {
   "cell_type": "code",
   "execution_count": null,
   "id": "3778a5f5-9a13-4b11-a0e5-5e21e36788a0",
   "metadata": {
    "tags": []
   },
   "outputs": [],
   "source": [
    "num_list = [832, 4324, 43829, 12, 398203, 432]\n",
    "str_list = [\"cats\", \"dogs\", \"elephants\"]"
   ]
  }
 ],
 "metadata": {
  "kernelspec": {
   "display_name": "Python 3 (ipykernel)",
   "language": "python",
   "name": "python3"
  },
  "language_info": {
   "codemirror_mode": {
    "name": "ipython",
    "version": 3
   },
   "file_extension": ".py",
   "mimetype": "text/x-python",
   "name": "python",
   "nbconvert_exporter": "python",
   "pygments_lexer": "ipython3",
   "version": "3.11.0"
  }
 },
 "nbformat": 4,
 "nbformat_minor": 5
}
