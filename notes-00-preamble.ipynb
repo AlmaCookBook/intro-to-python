{
 "cells": [
  {
   "cell_type": "markdown",
   "id": "57151cecb24ed1dc",
   "metadata": {
    "collapsed": false,
    "jupyter": {
     "outputs_hidden": false
    }
   },
   "source": [
    "# An introduction to programming with Python\n",
    "## Part 00: Jupyter notebooks preamble"
   ]
  },
  {
   "cell_type": "markdown",
   "id": "373a4c0ce43c9dc2",
   "metadata": {
    "collapsed": false,
    "jupyter": {
     "outputs_hidden": false
    }
   },
   "source": [
    "A program is a set of instructions...\n",
    "- \"Do this; then do that.\"\n",
    "- \"If this condition is true, do this thing; otherwise do something else.\"\n",
    "- \"Repeat this action 1,345 times\"\n",
    "\n",
    "If we write these instructions into a file, or collection of files,\n",
    "then we define a programs _source code_.\n",
    "\n",
    "**The python interpreter is what reads and runs the source code.**\n",
    "\n",
    "In this course we are using a special type of source code known as a notebook."
   ]
  },
  {
   "cell_type": "markdown",
   "id": "2dd70798-9fbf-422d-98fa-a77da2406067",
   "metadata": {},
   "source": [
    "### Jupyter notebooks: basic cell operations\n",
    "\n",
    "Jupyter notebooks are **a collection of cells which can contain text, code and plots.**\n",
    "\n",
    "It is important to understand how to insert, delete, copy, cut & paste cells. To perform any of these operations, first click to the left of a cell then...\n",
    "\n",
    "- `a` will **insert** a new cell directly above the current selection;\n",
    "- `b` will **insert** a new cell directly below the current selection;\n",
    "- `dd` will **delete** the current selection;\n",
    "- `c` will **copy** the current selection;\n",
    "- `x` will **cut** the current selection;\n",
    "- `v` will **paste** a cell in the \"clipboard\" directly below the current selection;\n",
    "\n",
    "**Quick exercise:** Try inserting a new cell below this cell, then deleting it."
   ]
  },
  {
   "cell_type": "markdown",
   "id": "507be461-cba5-411d-8659-fb07791b8a63",
   "metadata": {},
   "source": [
    "### Jupyter notebooks: basic cell operations\n",
    "\n",
    "You can create, save and open notebooks via the `File` button in the top left corner of the notebook window, and make use of standard hotkeys for handling files (`ctrl+s`, `ctrl+o`, etc).\n",
    "\n",
    "Once you are ready, **open the next notebook** for this course \"notes-01-language-syntax.ipynb\"."
   ]
  },
  {
   "cell_type": "code",
   "execution_count": null,
   "id": "00656a63-e8d2-401a-86ee-ecf10f81d8b0",
   "metadata": {},
   "outputs": [],
   "source": []
  }
 ],
 "metadata": {
  "kernelspec": {
   "display_name": "Python 3 (ipykernel)",
   "language": "python",
   "name": "python3"
  },
  "language_info": {
   "codemirror_mode": {
    "name": "ipython",
    "version": 3
   },
   "file_extension": ".py",
   "mimetype": "text/x-python",
   "name": "python",
   "nbconvert_exporter": "python",
   "pygments_lexer": "ipython3",
   "version": "3.11.7"
  }
 },
 "nbformat": 4,
 "nbformat_minor": 5
}
