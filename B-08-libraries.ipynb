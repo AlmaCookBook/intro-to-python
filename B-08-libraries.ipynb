{
 "cells": [
  {
   "cell_type": "markdown",
   "id": "ac3f5b79-7ace-4e0c-b625-43c19e44e978",
   "metadata": {},
   "source": [
    "<img src=\"graphics/icr_logo.png\" alt=\"drawing\" width=\"300\"/>\n",
    "\n",
    "# Basic programming with Python\n",
    "## Part 08: Using Libraries\n",
    "\n",
    "We have seen how functions can be used to accelerate development and reduce repeated coding efforts via the use of functions. \n",
    "In Python we can go even further with this, and make use of an entire collection of pre-written code, known as a library.\n",
    "\n",
    "Rather than being a random ensemble of files, a library usually seeks to equip the user with a set of tools to address a specific sort of challenge. For example, this may be to retrieve dates and times, navigating your file system, or performing mathematical operations.\n",
    "\n",
    "### The Python standard library\n",
    "\n",
    "Many libraries come shipped with Python off-the-shelf: These are known as the standard libraries. The basic syntax for loading a library into memory is\n",
    "\n",
    "```python\n",
    "import <library_name>\n",
    "```\n",
    "\n",
    "#### The `datetime` library\n",
    "\n",
    "We can use `datetime` to get the date and time as seen by your computer system.\n",
    "\n",
    "Run the cell below to see how this works:"
   ]
  },
  {
   "cell_type": "code",
   "execution_count": null,
   "id": "d3a08f01-2829-48b6-aca0-e713cff82f95",
   "metadata": {
    "tags": []
   },
   "outputs": [],
   "source": [
    "import datetime\n",
    "\n",
    "# Gets the date and time (Y-M-D H-M-S)\n",
    "today_datetime = datetime.datetime.today()\n",
    "\n",
    "# Can be added to a datetime object to offset the date and time by some delta\n",
    "delta = datetime.timedelta(\n",
    "    days=7,\n",
    "    seconds=27,\n",
    "    minutes=5,\n",
    "    hours=8,\n",
    ")\n",
    "\n",
    "print(today_datetime)\n",
    "print(today_datetime + delta)"
   ]
  },
  {
   "cell_type": "markdown",
   "id": "413c00d9-af67-4608-8a7e-fde8a59b5671",
   "metadata": {},
   "source": [
    "#### The `os` library\n",
    "\n",
    "The `os` library helps check paths and directory on your file system."
   ]
  },
  {
   "cell_type": "code",
   "execution_count": null,
   "id": "9c2c0e10-9bf9-42c2-b2e9-f12d78559440",
   "metadata": {
    "tags": []
   },
   "outputs": [],
   "source": [
    "import os\n",
    "\n",
    "cwd = os.getcwd()\n",
    "\n",
    "print(cwd)\n",
    "\n",
    "notebook_path = os.path.join(cwd, \"B-09-libraries.ipynb\")\n",
    "\n",
    "print(os.path.exists(notebook_path))"
   ]
  },
  {
   "cell_type": "markdown",
   "id": "92420517-83fa-4e54-a204-3053a054ba50",
   "metadata": {},
   "source": [
    "#### The `math` library\n",
    "\n",
    "Simple standard mathematical functions and constants can be retrieved from the `math` library"
   ]
  },
  {
   "cell_type": "code",
   "execution_count": null,
   "id": "486a7a1c-bcbd-4fec-8ebc-e79f7f258ebd",
   "metadata": {
    "tags": []
   },
   "outputs": [],
   "source": [
    "import math\n",
    "\n",
    "def degrees2radians(degree):\n",
    "    return degree * math.pi / 180\n",
    "\n",
    "def radians2degrees(radian):\n",
    "    return radian * 180 / math.pi\n",
    "\n",
    "print(radians2degrees(math.pi / 2))\n",
    "print(degrees2radians(180))"
   ]
  },
  {
   "cell_type": "markdown",
   "id": "c9d83ee9-d423-4969-afc1-e49cdaa60447",
   "metadata": {},
   "source": [
    "## The non-standard library\n",
    "\n",
    "**There are hundreds of thousounds of libraries available for you to download outside of the Python standard library.** \n",
    "\n",
    "Python development is largely an open-source and community driven endeavour. These are reasons why the language is so popular and well maintained!\n",
    "\n",
    "Some excellent non-standard libraries to mention are `matplotlib` and `numpy`.\n",
    "\n",
    "To install these, you should open up another Anaconda shell, then run\n",
    "\n",
    "```shell\n",
    "conda install -c conda-forge matplotlib numpy\n",
    "```\n",
    "\n",
    "or\n",
    "\n",
    "```shell\n",
    "pip install matplotlib numpy\n",
    "```\n",
    "\n",
    "after doing so, restart the kernel and run the following cells:"
   ]
  },
  {
   "cell_type": "code",
   "execution_count": null,
   "id": "64c63777-fb4e-46cf-9218-e681007ee700",
   "metadata": {
    "tags": []
   },
   "outputs": [],
   "source": [
    "import numpy\n",
    "import matplotlib.pyplot as plt\n",
    "\n",
    "amplitude = 5\n",
    "exponent = -0.4\n",
    "\n",
    "x_data = numpy.linspace(0.1, numpy.pi * 10, 1000)\n",
    "envelope = amplitude * x_data ** exponent\n",
    "\n",
    "y_data = numpy.cos(x_data) * envelope\n",
    "\n",
    "plt.plot(x_data, y_data)\n",
    "plt.plot(x_data, envelope, c=\"g\", ls=\"--\")\n",
    "plt.plot(x_data, -envelope, c=\"g\", ls=\"--\")\n",
    "plt.grid()\n",
    "plt.axhline(0, c=\"k\", ls=\":\")\n",
    "\n",
    "plt.xlabel(\"Foo\")\n",
    "plt.ylabel(\"Bar\")"
   ]
  },
  {
   "cell_type": "code",
   "execution_count": null,
   "id": "a77a04c1-e5a2-45c7-b56c-f2804d7e2b4f",
   "metadata": {
    "tags": []
   },
   "outputs": [],
   "source": [
    "numpy.random.seed(123)\n",
    "x = numpy.random.normal(4, 3, 1000)\n",
    "y1 = numpy.random.normal(x, 1)\n",
    "y2 = numpy.random.normal(x + 10, 5)\n",
    "\n",
    "plt.grid()\n",
    "plt.scatter(x, y1, edgecolors=\"k\", label=\"Pop1\")\n",
    "plt.scatter(x, y2, color=\"r\", edgecolors=\"k\", label=\"Pop2\")\n",
    "plt.legend(loc=\"lower right\")\n",
    "plt.xlabel(\"Age\")\n",
    "plt.ylabel(\"Feature\")"
   ]
  }
 ],
 "metadata": {
  "kernelspec": {
   "display_name": "Python 3 (ipykernel)",
   "language": "python",
   "name": "python3"
  },
  "language_info": {
   "codemirror_mode": {
    "name": "ipython",
    "version": 3
   },
   "file_extension": ".py",
   "mimetype": "text/x-python",
   "name": "python",
   "nbconvert_exporter": "python",
   "pygments_lexer": "ipython3",
   "version": "3.10.9"
  }
 },
 "nbformat": 4,
 "nbformat_minor": 5
}
