{
 "cells": [
  {
   "cell_type": "markdown",
   "id": "ac3f5b79-7ace-4e0c-b625-43c19e44e978",
   "metadata": {},
   "source": [
    "<img src=\"graphics/icr_logo.png\" alt=\"drawing\" width=\"300\"/>\n",
    "\n",
    "# Basic programming with Python\n",
    "## Part 03: Conditional statements\n",
    "\n",
    "Conditional statements enable us to make \"decisions\" within your code.  \n",
    "The most straightforward condition to assess, is whether or not something is `True`.\n",
    "\n",
    "### The _if_ statement\n",
    "\n",
    "<img src=\"graphics/if_statement.jpg\" alt=\"if statement flow\" width=\"400\"/>\n",
    "\n",
    "In the cell below, we write some code for the above flow diagram...\n",
    "\n",
    "If the weather is good, we are going to do some activity. Irrespectively, the day will then resume.\n",
    "\n",
    "***\n",
    "\n",
    "⚙️ ***Exercise:***\n",
    "1. Try running the cell below;\n",
    "2. Modify the boolean variable then re-run the cell;\n",
    "3. What happens if you print something before/after the _if_ clause?\n",
    "\n",
    "***"
   ]
  },
  {
   "cell_type": "code",
   "execution_count": null,
   "id": "a8285f9a-b93a-4afb-accc-43286ae9b7e6",
   "metadata": {},
   "outputs": [],
   "source": [
    "weather_is_nice = True\n",
    "\n",
    "if weather_is_nice:\n",
    "    print(\"Go for a run\")\n",
    "\n",
    "print(\"... resuming day...\")"
   ]
  },
  {
   "cell_type": "markdown",
   "id": "f0c6d95d-51e8-4d45-912a-fe305aaa4a87",
   "metadata": {},
   "source": [
    "In Python, **the conditional code block must reside on the same indention level**, e.g.,\n",
    "\n",
    "✔️\n",
    "```python\n",
    "if True:\n",
    "    x = 1\n",
    "    y = 2\n",
    "```\n",
    "\n",
    "❌\n",
    "```python\n",
    "if True:\n",
    "    x = 1\n",
    "     y = 2\n",
    "```\n",
    "\n",
    "This is an important distinction from other languages, such as R, who make use of braces `{...}` rather than indentation to contain blocks of execution logic.\n",
    "\n",
    "In Python, **it is best practice to use a \"tab\" to represent an indentation level**; though you can actually use any number of consistent spaces.\n",
    "\n",
    "***\n",
    "\n",
    "⚙️ ***Exercise:***\n",
    "- Copy and paste the example of bad indentation above into a new cell below. Pay attention to how error responds to this sort of error... You'll likelye encounter this message again!\n",
    "***"
   ]
  },
  {
   "cell_type": "markdown",
   "id": "c8922c13-61b6-4a58-b843-5d341886e624",
   "metadata": {},
   "source": [
    "### The 'else' clause\n",
    "\n",
    "<img src=\"graphics/if_else_statement.jpg\" alt=\"if statement flow\" width=\"600\"/>\n",
    "\n",
    "Suppose now that we want to perform a different action if the weather is not nice.  \n",
    "We can achieve this by appending an `else` clause to our condition.\n",
    "\n",
    "***\n",
    "\n",
    "⚙️ ***Exercise:***\n",
    "1. As in the previous example, run the cell below, then change the boolean variable and run it again. Is this what you expect?\n",
    "2. What happens if you delete the `if` clause, leaving only `else`?\n",
    "\n",
    "***"
   ]
  },
  {
   "cell_type": "code",
   "execution_count": null,
   "id": "7dad5dff-86e3-4095-b407-8d4623eec5fe",
   "metadata": {},
   "outputs": [],
   "source": [
    "weather_is_nice = True\n",
    "\n",
    "print(\"Weather is nice:\", weather_is_nice)\n",
    "\n",
    "if weather_is_nice:\n",
    "    print(\"Going kyaking\")\n",
    "else:\n",
    "    print(\"Watching a film\")\n",
    "\n",
    "print(\"... resuming day...\")"
   ]
  },
  {
   "cell_type": "markdown",
   "id": "faeb6cf5-5b7f-4120-9e21-0b145013d47b",
   "metadata": {},
   "source": [
    "### The *elif* statement \n",
    "\n",
    "<img src=\"graphics/if_elif_else_statement.jpg\" alt=\"if statement flow\" width=\"700\"/>\n",
    "\n",
    "We can create even finer grained control over the program by using `elif` clauses.  \n",
    "\n",
    "These enable us to **check conditions one after another until something `True` has been detected**.\n",
    "\n",
    "***\n",
    "\n",
    "⚙️ ***Exercise:***\n",
    "1. Play around with the following code by varying the `temperature` variable to test the output\n",
    "2. Add another conditional statement that would print \"Going skiing\", if the temperature is less than -5\n",
    "\n",
    "***"
   ]
  },
  {
   "cell_type": "code",
   "execution_count": null,
   "id": "3402e463-5aac-4a2c-9aa1-b08b7177dc1f",
   "metadata": {},
   "outputs": [],
   "source": [
    "temperature = 23.4\n",
    "\n",
    "if 10 <= temperature < 20:\n",
    "    print(\"Going for a run\")\n",
    "elif 20 <= temperature < 30:\n",
    "    print(\"Going for a swim\")\n",
    "else:\n",
    "    print(\"Staying inside\")\n",
    "\n",
    "print(\"... resuming day ....\")"
   ]
  },
  {
   "cell_type": "markdown",
   "id": "1772fc65-d457-4492-8fa3-d9db62039f30",
   "metadata": {},
   "source": [
    "## Loops and iteration\n",
    "\n",
    "Loops in python enable us to repeat processes. The repetition is haulted by an **exit condition**.\n",
    "\n",
    "### The *for* loop\n",
    "\n",
    "Consider the code in the cell below. We want to print out each element from the list independently...."
   ]
  },
  {
   "cell_type": "code",
   "execution_count": null,
   "id": "b0c92ddb-51f5-46a1-8341-b4c030aad357",
   "metadata": {},
   "outputs": [],
   "source": [
    "values = [1, 32, 999, 4, 5]\n",
    "\n",
    "print(values[0])\n",
    "print(values[1])\n",
    "print(values[2])\n",
    "print(values[3])\n",
    "print(values[4])"
   ]
  },
  {
   "cell_type": "markdown",
   "id": "6c095109-7f35-41d5-894e-8a2a446c3ab1",
   "metadata": {},
   "source": [
    "***\n",
    "\n",
    "💡 ***Exercise***:\n",
    "- Are there any issues with this approach??\n",
    "\n",
    "***\n",
    "\n",
    "A for loop enables us to **iterate over a collection of objects**; such as those defined in a list, or similar.\n",
    "\n",
    "The general syntax to implement a 'for loop'is:\n",
    "\n",
    "```python\n",
    "for <item> in <iterable>:\n",
    "     # Do something with <item>\n",
    "     ...\n",
    "```\n",
    "\n",
    "Run the cell below to see this in action."
   ]
  },
  {
   "cell_type": "code",
   "execution_count": null,
   "id": "cc658f4a-0b6a-4662-9838-3a24e689d57f",
   "metadata": {},
   "outputs": [],
   "source": [
    "values = [1, 32, 999, 4, 5]\n",
    "\n",
    "for value in values:\n",
    "    print(value)"
   ]
  },
  {
   "cell_type": "markdown",
   "id": "b9d68ff2-a02f-4e09-ab30-7e0a855e2762",
   "metadata": {},
   "source": [
    "***\n",
    "\n",
    "💡 ***Exercise***: \n",
    "- In what ways is this a better solution?\n",
    "\n",
    "***\n",
    "\n",
    "It turns out that a for loop can be applied to any iterable object in Python. This includes lists, tuples and strings!\n",
    "\n",
    "***\n",
    "\n",
    "⚙️ ***Exercise:*** \n",
    "- Use a *for loop* to print out each item of the following iterables\n",
    "***"
   ]
  },
  {
   "cell_type": "code",
   "execution_count": null,
   "id": "8a958b12-3c1b-4b70-8da7-7a2ec1009f40",
   "metadata": {
    "tags": []
   },
   "outputs": [],
   "source": [
    "# List\n",
    "iter_list = [1, \"two\", 3, 4.0]\n",
    "\n",
    "# Tuple\n",
    "iter_tuple = (1, 2, 33, -1,)\n",
    "\n",
    "# Dictionary\n",
    "iter_dict = {'a': 123, 'b': 23, 'c': \"house\"}\n",
    "\n",
    "# String\n",
    "iter_str = \"Python\"\n",
    "\n",
    "\n",
    "# Write code to iterate through these below\n"
   ]
  },
  {
   "cell_type": "markdown",
   "id": "8f05bacb-c596-4575-b282-e027510674ca",
   "metadata": {},
   "source": [
    "***\n",
    "\n",
    "💡 ***Exercise***: \n",
    "- What do you observe for the different iterable objects?\n",
    "\n",
    "***\n",
    "\n",
    "⚙️ ***Exercise:*** \n",
    "- Recall that we can increment the value of variable using the `+=` operator. Write a for loop that computes the cumulative sum across the tuple of values in the cell below.\n",
    "\n",
    "***"
   ]
  },
  {
   "cell_type": "code",
   "execution_count": null,
   "id": "1d60c540-73be-4f98-9d25-b31ae26c7338",
   "metadata": {
    "tags": []
   },
   "outputs": [],
   "source": [
    "values = (1, 2, 3, 4, 5)\n",
    "cumulative_sum = 0\n",
    "\n",
    "# Write your for loop here that makes use of the variables above"
   ]
  },
  {
   "cell_type": "markdown",
   "id": "c77fe0c5-616a-4621-9d4d-adcab71ca9be",
   "metadata": {},
   "source": [
    "#### Iterating with a range of numbers\n",
    "\n",
    "You fill find that iterating over a list of ordered numbers is an ubiquitous component of solutions in programming. \n",
    "\n",
    "Python has a very useful *generator object* known as a *range* that can help with this. \n",
    "\n",
    "We can generate a sequence of numbers with: `range(START, STOP, STEP)`.\n",
    "\n",
    "\n",
    "***\n",
    "\n",
    "⚙️ ***Exercise:*** \n",
    "- Try printing the range generator `test_range`, is this what you expect?\n",
    "\n",
    "***"
   ]
  },
  {
   "cell_type": "code",
   "execution_count": null,
   "id": "7cc870af-3b6f-466e-a318-1dacbc2cc5df",
   "metadata": {},
   "outputs": [],
   "source": [
    "start = 4\n",
    "stop = 10\n",
    "step = 2\n",
    "test_range = range(start, stop, step)"
   ]
  },
  {
   "cell_type": "markdown",
   "id": "543d749d-5542-4629-9f99-040b0f56485a",
   "metadata": {},
   "source": [
    "One way to get the values from a range object is to iterate over it, using a _for_ loop!\n",
    "\n",
    "***\n",
    "\n",
    "⚙️ ***Exercise:***\n",
    "1. Run the following cell to observe how values are extracted from the range\n",
    "2. Re-run the cell omitting the \"step\" argument from the `range(...)` defintion\n",
    "3. Re-run the cell again, omitting the \"step\" and \"start\" argument from the `range(...)` defintion\n",
    "\n",
    "***"
   ]
  },
  {
   "cell_type": "code",
   "execution_count": null,
   "id": "cc1c102e-328a-48fe-9c92-91ae15372f99",
   "metadata": {},
   "outputs": [],
   "source": [
    "start = 4\n",
    "stop = 10\n",
    "step = 2\n",
    "test_range = range(start, stop, step)\n",
    "\n",
    "for value in test_range:\n",
    "    print(value)"
   ]
  },
  {
   "cell_type": "markdown",
   "id": "da43794c-fa33-402c-9be2-e2255f654495",
   "metadata": {},
   "source": [
    "In a lot of cases, we simply want a linear range of integers whose difference is one... to that end, we frequently use: `range(stop)`\n",
    "\n",
    "***\n",
    "\n",
    "💡 ***Exercise:*** \n",
    "- We previously mentioned that a loop requires an exit condition: Can you identify what this is for the `for` loop?\n",
    "\n",
    "***\n",
    "\n",
    "Iteration provides us with a mechanism for inspecting many items from a container in a single process...\n",
    "\n",
    "In the following example, we find all the numbers less than or equal to a variable `n_end`\n",
    "which share a common factor of 12 and 16.\n",
    "\n",
    "***\n",
    "\n",
    "⚙️ ***Exercise:***\n",
    "1. Run the cell below and try to understand the logic.\n",
    "2. Create an empty list called `factors_12`, and update the program to additionally *keep track of the factors of 12 only*.\n",
    "3. Create an empty list called `factors_16`, and modify the program to additionally *keep track of the factors of 16 only*.\n",
    "4. Adjust the print statement at the end of the cell to return the relevant information.\n",
    "***"
   ]
  },
  {
   "cell_type": "code",
   "execution_count": null,
   "id": "19b6ed37-d6f8-4485-92c3-9c9d3037f7be",
   "metadata": {
    "tags": []
   },
   "outputs": [],
   "source": [
    "n_start = 0\n",
    "n_end = 200\n",
    "\n",
    "# Initialise objects to store values in\n",
    "factors = []\n",
    "n_factors = 0\n",
    "\n",
    "# Iterate over numbers of interest\n",
    "for x in range(n_start, n_end + 1):\n",
    "\n",
    "    # Check for condition on number, x. Note '%' gives us the remainder\n",
    "    if x % 12 == 0 and x % 16 == 0:\n",
    "        # Add number to factors\n",
    "        factors.append(x)\n",
    "\n",
    "        # Increment counter\n",
    "        n_factors += 1\n",
    "\n",
    "        # The above is the same as n_factors = n_factors + 1\n",
    "\n",
    "print(\"There are\", n_factors, \"integers divisible by 12 AND 16 between\", n_start, \"and\", n_end, \":\")\n",
    "print(factors)"
   ]
  },
  {
   "cell_type": "markdown",
   "id": "03ea5092-02c6-4e41-8964-aae4f5a7c8a9",
   "metadata": {},
   "source": [
    "#### Nested Loops\n",
    "\n",
    "It is often useful to _nest_ loops...\n",
    "\n",
    "***\n",
    "\n",
    "⚙️ ***Exercise:***\n",
    "\n",
    "1. Run the following cell and observe how the output\n",
    "2. Modify the code to prevent animals chasing themselves\n",
    "3. Modify the program to prevent the \n",
    "\n",
    "***"
   ]
  },
  {
   "cell_type": "code",
   "execution_count": null,
   "id": "872e6ab5-a792-4dc0-9fe6-0002bdfbbf2c",
   "metadata": {
    "tags": []
   },
   "outputs": [],
   "source": [
    "animals = ['python', 'cat', 'rabbit']\n",
    "\n",
    "for animal_1 in animals:\n",
    "    for animal_2 in animals:\n",
    "        print(\"The\", animal_1, \"chased the\", animal_2)"
   ]
  },
  {
   "cell_type": "markdown",
   "id": "a6bedfae-988d-44a2-84f5-f41727a19e34",
   "metadata": {},
   "source": [
    "### While loops\n",
    "\n",
    "While loops enable us to perform a repetition, so long as a condition is `True`. The **exit condition** for a while loop is when a condition becomes `False`.\n",
    "\n",
    "<img src=\"graphics/while_loop.jpg\" alt=\"if statement flow\" width=\"800\"/>\n",
    "\n",
    "In the cell below we define some code that counts to 5"
   ]
  },
  {
   "cell_type": "code",
   "execution_count": null,
   "id": "363c5536-95fa-451c-a0e3-b386d460d849",
   "metadata": {},
   "outputs": [],
   "source": [
    "# Initilize a counter\n",
    "counter = 1\n",
    "\n",
    "# Enter the for loop. The condition here is that the counter, is less than 5\n",
    "while counter < 4:\n",
    "\n",
    "    # Print the counter\n",
    "    print(counter)\n",
    "\n",
    "    # Update the counter\n",
    "    counter += 1\n",
    "\n",
    "print(\"All done counting.\")"
   ]
  },
  {
   "cell_type": "markdown",
   "id": "ce88aef4-236d-403f-a24b-cccf1e903deb",
   "metadata": {},
   "source": [
    "***\n",
    "\n",
    "⚙️ ***Exercise:*** \n",
    "- It prints 1-3, can you make it print 1-10?\n",
    "\n",
    "***\n",
    "\n",
    "💡 ***Exercise***: \n",
    "- What could you do so that it never runs?\n",
    "- How could you make it infinite?\n",
    "\n",
    "***\n",
    "\n",
    "**Warning**: If you get stuck in a loop press the \"stop\"/\"square\" button at the top of the window. If that doesn't work press the \"refresh\" button next to it, to restart the kernel."
   ]
  },
  {
   "cell_type": "code",
   "execution_count": null,
   "id": "49b31f19-6dda-4c98-b7ac-958e78701c00",
   "metadata": {},
   "outputs": [],
   "source": []
  }
 ],
 "metadata": {
  "kernelspec": {
   "display_name": "Python 3 (ipykernel)",
   "language": "python",
   "name": "python3"
  },
  "language_info": {
   "codemirror_mode": {
    "name": "ipython",
    "version": 3
   },
   "file_extension": ".py",
   "mimetype": "text/x-python",
   "name": "python",
   "nbconvert_exporter": "python",
   "pygments_lexer": "ipython3",
   "version": "3.11.0"
  }
 },
 "nbformat": 4,
 "nbformat_minor": 5
}
