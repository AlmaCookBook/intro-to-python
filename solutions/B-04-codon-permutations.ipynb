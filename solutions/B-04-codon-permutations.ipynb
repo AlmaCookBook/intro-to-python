{
 "cells": [
  {
   "cell_type": "markdown",
   "id": "ac3f5b79-7ace-4e0c-b625-43c19e44e978",
   "metadata": {},
   "source": [
    "<img src=\"../graphics/icr_logo.png\" alt=\"drawing\" width=\"300\"/>\n",
    "\n",
    "# Basic programming with Python\n",
    "## Part 04: Codon permutations\n",
    "\n",
    "A DNA sequence is made up of a series of bases, typically labelled with the letters \n",
    "T, C, A, and G. A set of three bases makes up a codon.\n",
    "\n",
    "***\n",
    "\n",
    "⚙️ ***Exercise:*** \n",
    "1. Write a series of nested loops to find all the 3-base combinations\n",
    "2. Add each base combo to the base_combinations list\n",
    "3. Use len(...) to compute the total number of base combinations\n",
    "4. Print out combinations starting \"ag\"\n",
    "\n",
    "***"
   ]
  },
  {
   "cell_type": "code",
   "execution_count": 3,
   "id": "621646a5-2037-4195-a51e-5c3994ce8dcf",
   "metadata": {
    "tags": []
   },
   "outputs": [
    {
     "name": "stdout",
     "output_type": "stream",
     "text": [
      "agt\n",
      "agc\n",
      "aga\n",
      "agg\n",
      "64\n"
     ]
    }
   ],
   "source": [
    "bases = ('t', 'c', 'a', 'g')\n",
    "\n",
    "base_combinations = []\n",
    "\n",
    "for base1 in bases:\n",
    "    # Perform nested iteration over bases\n",
    "    for base2 in bases:\n",
    "        for base3 in bases:\n",
    "            \n",
    "            # Recall that strings can be added together to form a concatenated string\n",
    "            codon = base1 + base2 + base3\n",
    "            \n",
    "            # We can use the append method to update the 3-base combinations\n",
    "            base_combinations.append(codon)\n",
    "            \n",
    "            # Check first two letters of codon are ag\n",
    "            if codon[:2] == \"ag\":\n",
    "                print(codon)\n",
    "                \n",
    "print(len(base_combinations))"
   ]
  },
  {
   "cell_type": "code",
   "execution_count": null,
   "id": "11d8c470-6ae0-49c3-844d-6f3ddb016062",
   "metadata": {},
   "outputs": [],
   "source": []
  }
 ],
 "metadata": {
  "kernelspec": {
   "display_name": "Python 3 (ipykernel)",
   "language": "python",
   "name": "python3"
  },
  "language_info": {
   "codemirror_mode": {
    "name": "ipython",
    "version": 3
   },
   "file_extension": ".py",
   "mimetype": "text/x-python",
   "name": "python",
   "nbconvert_exporter": "python",
   "pygments_lexer": "ipython3",
   "version": "3.11.0"
  }
 },
 "nbformat": 4,
 "nbformat_minor": 5
}
