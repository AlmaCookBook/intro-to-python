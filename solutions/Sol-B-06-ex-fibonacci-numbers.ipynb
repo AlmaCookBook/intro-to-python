{
 "cells": [
  {
   "cell_type": "markdown",
   "id": "ac3f5b79-7ace-4e0c-b625-43c19e44e978",
   "metadata": {},
   "source": [
    "<img src=\"../graphics/icr_logo.png\" alt=\"drawing\" width=\"300\"/>\n",
    "\n",
    "# Basic programming with Python\n",
    "## Part 06: Fibonnaci Numbers\n",
    "\n",
    "A Fibonacci sequence can be defined by the recurrence relation;\n",
    "\n",
    "\\begin{align}\n",
    "F_0 &= 0 \\\\\n",
    "F_1 &= 1 \\\\\n",
    "F_n &= F_{n-1} + F_{n-2}\n",
    "\\end{align}\n",
    "\n",
    "for $n\\geq2$. This would imply that $F_3 = 1 + 0 = 1$, and then $F_4 = 1 + 1 = 2$, and so on.\n",
    "\n",
    "The code below prints out all of the Fibonacci numbers less than 100.\n",
    "\n",
    "***\n",
    "\n",
    "⚙️ ***Exercise B-06.01:*** \n",
    "1. Find the largest Fibonacci number under 1000\n",
    "2. Find the largest *even* Fibonacci number under 1000 \n",
    "3. Find the largest *odd* Fibonacci number under 1000\n",
    "4. How many Fibonacci numbers are under 1000?\n",
    "\n",
    "***"
   ]
  },
  {
   "cell_type": "code",
   "execution_count": 4,
   "id": "d9df2ba4-7226-456a-bb07-e9b362aaea07",
   "metadata": {
    "tags": []
   },
   "outputs": [
    {
     "name": "stdout",
     "output_type": "stream",
     "text": [
      "The largest Fibonacci number under 1000 is: 987\n",
      "The largest even Fibonacci number under 1000 is: 610\n",
      "The largest odd Fibonacci number under 1000 is: 987\n",
      "The total number of Fibonacci numbers under 1000 is: 17\n"
     ]
    }
   ],
   "source": [
    "# Initial sequence values\n",
    "f_sub_2 = 0\n",
    "f_sub_1 = 1\n",
    "\n",
    "even_fibs = [f_sub_2]\n",
    "odd_fibs = [f_sub_1]\n",
    "\n",
    "# While the next Fibonacci number is smaller than 100\n",
    "while f_sub_1 + f_sub_2 < 1000:\n",
    "    \n",
    "    # Update sequence values\n",
    "    f = f_sub_1 + f_sub_2\n",
    "    f_sub_2 = f_sub_1\n",
    "    f_sub_1 = f\n",
    "\n",
    "    if f % 2 == 0:\n",
    "        even_fibs.append(f)\n",
    "    else:\n",
    "        odd_fibs.append(f)\n",
    "        \n",
    "print(\"The largest Fibonacci number under 1000 is:\", f)\n",
    "print(\"The largest even Fibonacci number under 1000 is:\", even_fibs[-1])\n",
    "print(\"The largest odd Fibonacci number under 1000 is:\", odd_fibs[-1])\n",
    "print(\"The total number of Fibonacci numbers under 1000 is:\", len(even_fibs) + len(odd_fibs))"
   ]
  },
  {
   "cell_type": "code",
   "execution_count": null,
   "id": "b01cc747-3a99-4da6-942c-b4291f20c042",
   "metadata": {},
   "outputs": [],
   "source": []
  }
 ],
 "metadata": {
  "kernelspec": {
   "display_name": "Python 3 (ipykernel)",
   "language": "python",
   "name": "python3"
  },
  "language_info": {
   "codemirror_mode": {
    "name": "ipython",
    "version": 3
   },
   "file_extension": ".py",
   "mimetype": "text/x-python",
   "name": "python",
   "nbconvert_exporter": "python",
   "pygments_lexer": "ipython3",
   "version": "3.10.9"
  }
 },
 "nbformat": 4,
 "nbformat_minor": 5
}
