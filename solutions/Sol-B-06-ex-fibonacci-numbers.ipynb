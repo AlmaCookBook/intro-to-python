{
 "cells": [
  {
   "cell_type": "markdown",
   "id": "ac3f5b79-7ace-4e0c-b625-43c19e44e978",
   "metadata": {},
   "source": [
    "<img src=\"../graphics/icr_logo.png\" alt=\"drawing\" width=\"300\"/>\n",
    "\n",
    "# Basic programming with Python\n",
    "## Part 06: Fibonnaci Numbers\n",
    "\n",
    "A Fibonacci sequence can be defined by the recurrence relation;\n",
    "\n",
    "\\begin{align}\n",
    "F_0 &= 0 \\\\\n",
    "F_1 &= 1 \\\\\n",
    "F_n &= F_{n-1} + F_{n-2}\n",
    "\\end{align}\n",
    "\n",
    "for $n\\geq2$. This would imply that $F_3 = 1 + 0 = 1$, and then $F_4 = 1 + 1 = 2$, and so on.\n",
    "\n",
    "The code below prints out all of the Fibonacci numbers less than 100.\n",
    "\n",
    "***\n",
    "\n",
    "⚙️ ***Exercise B-06.01:*** \n",
    "1. Find the largest Fibonacci number under 1000\n",
    "2. Find the largest *even* Fibonacci number under 1000 \n",
    "3. Find the largest *odd* Fibonacci number under 1000\n",
    "4. How many Fibonacci numbers are under 1000?\n",
    "\n",
    "***"
   ]
  },
  {
   "cell_type": "markdown",
   "id": "90362e44-c1b2-4398-85b0-dedecbd592a2",
   "metadata": {},
   "source": [
    "### First Solution"
   ]
  },
  {
   "cell_type": "code",
   "execution_count": 11,
   "id": "d9df2ba4-7226-456a-bb07-e9b362aaea07",
   "metadata": {
    "tags": []
   },
   "outputs": [
    {
     "name": "stdout",
     "output_type": "stream",
     "text": [
      "The largest Fibonacci number under 1000 is: 987\n",
      "The largest even Fibonacci number under 1000 is: 610\n",
      "The largest odd Fibonacci number under 1000 is: 987\n",
      "The total number of Fibonacci numbers under 1000 is: 17\n",
      "[0, 2, 8, 34, 144, 610]\n",
      "[1, 1, 3, 5, 13, 21, 55, 89, 233, 377, 987]\n"
     ]
    }
   ],
   "source": [
    "# Initial sequence values\n",
    "f_sub_2 = 0\n",
    "f_sub_1 = 1\n",
    "\n",
    "even_fibs = [f_sub_2]\n",
    "odd_fibs = [f_sub_1]\n",
    "    \n",
    "# While the next Fibonacci number is smaller than 100\n",
    "while f_sub_1 + f_sub_2 < 1000:\n",
    "    \n",
    "    # Update sequence values\n",
    "    f = f_sub_1 + f_sub_2\n",
    "    f_sub_2 = f_sub_1\n",
    "    f_sub_1 = f\n",
    "\n",
    "    if f % 2 == 0:\n",
    "        even_fibs.append(f)\n",
    "    else:\n",
    "        odd_fibs.append(f)\n",
    "        \n",
    "print(\"The largest Fibonacci number under 1000 is:\", f)\n",
    "print(\"The largest even Fibonacci number under 1000 is:\", even_fibs[-1])\n",
    "print(\"The largest odd Fibonacci number under 1000 is:\", odd_fibs[-1])\n",
    "print(\"The total number of Fibonacci numbers under 1000 is:\", len(even_fibs) + len(odd_fibs))\n",
    "print(even_fibs)\n",
    "print(odd_fibs)"
   ]
  },
  {
   "cell_type": "markdown",
   "id": "5162c197-249f-4a13-81f0-76557cc77933",
   "metadata": {},
   "source": [
    "### Alternative solution using recursion"
   ]
  },
  {
   "cell_type": "code",
   "execution_count": 21,
   "id": "feaae2d4-533a-46e7-aad6-2b1ad5615d89",
   "metadata": {},
   "outputs": [
    {
     "name": "stdout",
     "output_type": "stream",
     "text": [
      "The 0 th fibonacci number is 0\n",
      "The 1 th fibonacci number is 1\n",
      "The 2 th fibonacci number is 1\n",
      "The 3 th fibonacci number is 2\n",
      "The 4 th fibonacci number is 3\n",
      "The 5 th fibonacci number is 5\n",
      "The 6 th fibonacci number is 8\n",
      "The 7 th fibonacci number is 13\n",
      "The 8 th fibonacci number is 21\n",
      "The 9 th fibonacci number is 34\n",
      "The 10 th fibonacci number is 55\n",
      "The 11 th fibonacci number is 89\n",
      "The 12 th fibonacci number is 144\n",
      "The 13 th fibonacci number is 233\n",
      "The 14 th fibonacci number is 377\n"
     ]
    }
   ],
   "source": [
    "# Python program to display the Fibonacci sequence\n",
    "# Not doing the same exercise, just displaying a \n",
    "# few of the numbers in the sequence\n",
    "\n",
    "# First define the function\n",
    "def recur_fibo(n):\n",
    "   if n <= 1:\n",
    "       return n\n",
    "   else:\n",
    "       return(recur_fibo(n-1) + recur_fibo(n-2))\n",
    "\n",
    "# Then use the function to find some of the fibonacci numbers\n",
    "for i in range(15):\n",
    "    fib = recur_fibo(i)\n",
    "    print(\"The\", i, \"th fibonacci number is\", fib)\n",
    "\n",
    " \n"
   ]
  },
  {
   "cell_type": "code",
   "execution_count": null,
   "id": "97dc7179-cc83-4aff-8806-feedd5abd86e",
   "metadata": {},
   "outputs": [],
   "source": []
  }
 ],
 "metadata": {
  "kernelspec": {
   "display_name": "Python 3 (ipykernel)",
   "language": "python",
   "name": "python3"
  },
  "language_info": {
   "codemirror_mode": {
    "name": "ipython",
    "version": 3
   },
   "file_extension": ".py",
   "mimetype": "text/x-python",
   "name": "python",
   "nbconvert_exporter": "python",
   "pygments_lexer": "ipython3",
   "version": "3.10.9"
  }
 },
 "nbformat": 4,
 "nbformat_minor": 5
}
