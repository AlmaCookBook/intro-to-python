{
 "cells": [
  {
   "cell_type": "markdown",
   "id": "1314c82c-8b0d-43fc-a476-55611986b152",
   "metadata": {},
   "source": [
    "<img src=\"../graphics/icr_logo.png\" alt=\"drawing\" width=\"300\"/>\n",
    "\n",
    "# Basic programming with Python\n",
    "## Part 02: Containers\n",
    "\n",
    "So far we have discussed how to assign _single_ values to a variable in Python. \n",
    "\n",
    "Python also enables us to store _multiple_ values within a single variable via the use of container objects. \n",
    "\n",
    "### Lists\n",
    "\n",
    "A list can be empty, or contain any type of objects. A list can be constructed with square brackets, containing comma seperated values.\n",
    "\n",
    "```python\n",
    "this_is_an_empty_list = []\n",
    "this_list_has_things = [1, \"dog\", \"meow\", -2.33]\n",
    "```\n",
    "\n",
    "The contents of a list are known as it's \"elements\". List elements can be accessed through their index. For example,\n",
    "\n",
    "```python\n",
    "this_list_has_things[0] # returns 1\n",
    "this_list_has_things[1] # returns \"dog\"\n",
    "this_list_has_things[2] # returns \"meow\"\n",
    "this_list_has_things[3] # returns -2.33\n",
    "```\n",
    "\n",
    "#### Slicing\n",
    "\n",
    "We can make use of indices to slice a list into chunks, e.g., \n",
    "\n",
    "```python\n",
    "my_list[START:STOP]\n",
    "```\n",
    "\n",
    "This will retrieve all the elements of `my_list` from the `START` index, up to but excluding the `STOP` index.\n",
    "\n",
    "It is important to note that index counting starts from 0 in Python. For example, given the list\n",
    "\n",
    "```python\n",
    "my_list = [1, 2, 3, 4, 5]\n",
    "```\n",
    "\n",
    "we have the index correspondence\n",
    "\n",
    "|       |     |     |       |      |      |\n",
    "| --:   | :-- | :-- | :--   | :--  | :--  |    \n",
    "| **Value** | 1 | 2 | 3 | 4 | 5 |    \n",
    "| **Index** | 0 | 1 | 2 | 3 | 4 |\n",
    "\n",
    "This may differ from other languages you have experienced; such as R, which counts indices from 1!\n",
    "\n",
    "A useful feature of the Python index convention is that you can use negative indices to retrieve elements backwards through a container.\n",
    "\n",
    "```\n",
    "this_list_has_things = [1, \"dog\", \"meow\", -2.33]\n",
    "print(this_list_has_things[-1]) # -2.33\n",
    "```\n",
    "\n",
    "Note that the last item of a container is indexed by `-1`. The reverse index correspondence for `my_list` is given by\n",
    "\n",
    "|       |     |     |       |      |      |\n",
    "| --:   | :-- | :-- | :--   | :--  | :--  |    \n",
    "| **Value** | 1 | 2 | 3 | 4 | 5 |    \n",
    "| **Index** | -5 | -4 | -3 | -2 | -1 |\n",
    "\n",
    "***\n",
    "\n",
    "⚙️ ***Exercise:***\n",
    "1. In the cell below, apply indexing to print the output `\"Radon\"`.\n",
    "2. In the cell below, apply index slicing to print the output `[\"Krypton\", \"Xenon\"]`.\n",
    "***"
   ]
  },
  {
   "cell_type": "code",
   "execution_count": 2,
   "id": "86942a21-41a3-4cbb-9c24-b7acc41c187d",
   "metadata": {
    "tags": []
   },
   "outputs": [
    {
     "name": "stdout",
     "output_type": "stream",
     "text": [
      "Radon\n",
      "['Krypton', 'Xenon']\n"
     ]
    }
   ],
   "source": [
    "noble_gases = [\"Helium\", \"Neon\", \"Argon\", \"Krypton\", \"Xenon\", \"Radon\"]\n",
    "\n",
    "print(noble_gases[-1])\n",
    "print(noble_gases[3:5])"
   ]
  },
  {
   "cell_type": "markdown",
   "id": "7569db3f-11ff-454c-b557-7f6e79583935",
   "metadata": {},
   "source": [
    "#### Lists are mutable\n",
    "\n",
    "We can change the content of a list after they have been created since they are **mutable objects**. \n",
    "\n",
    "We can modify the value of a lists element via it's index:\n",
    "\n",
    "```python\n",
    "odd_numbers = [1, 3, 4, 8, 9]\n",
    "odd_numbers[2] = 5\n",
    "odd_numbers[3] = 7\n",
    "print(odd_numbers) # [1, 3, 5, 7, 9]\n",
    "```\n",
    "\n",
    "We can simultaneously modify  multiple elements of a list via their index slicing:\n",
    "\n",
    "```python\n",
    "odd_numbers = [1, 3, 4, 8, 9]\n",
    "odd_numbers[2:4] = [5, 7]\n",
    "print(odd_numbers) # [1, 3, 5, 7, 9]\n",
    "```\n",
    "\n",
    "We can delete values of a list via the `del` operator\n",
    "\n",
    "```python\n",
    "odd_numbers = [1, 3, 5, 7, 10]\n",
    "del odd_numbers[4]\n",
    "print(odd_numbers) # [1, 3, 5, 7]\n",
    "```\n",
    "\n",
    "#### Some other properties of lists\n",
    "\n",
    "We can use **methods** that are bound to list objects. E.g.,\n",
    "\n",
    "```python\n",
    "my_list = [1, 2, 3, 4]\n",
    "my_list.append(5)\n",
    "print(my_list) # [1, 2, 3, 4, 5]\n",
    "```\n",
    "\n",
    "We can add lists together\n",
    "\n",
    "```python\n",
    "list_a = [1, 2, 3, 4]\n",
    "list_b = [5, 6]\n",
    "list_c = list_a + list_b\n",
    "print(list_c) # [1, 2, 3, 4, 5, 6]\n",
    "```\n",
    "\n",
    "We can repeat the elements of a list via multiplication with an integer\n",
    "\n",
    "```python\n",
    "my_list = [1, 2, 3]\n",
    "repeated_list = my_list * 3\n",
    "print(repeated_list) # [1, 2, 3, 1, 2, 3, 1, 2, 3]\n",
    "```\n",
    "\n",
    "#### List methods\n",
    "\n",
    "Similar to the previous example of `.append(...)`, there are numerous list methods available in Python:\n",
    "\n",
    "| Method      | Description           \n",
    "| :---        |:---            \n",
    "| append(<value>)    | Adds an element of some <value> to the end of the list       \n",
    "| clear()            | Removes all the elements from the list\n",
    "| copy()             | Returns a copy of the list \n",
    "| count(<value>)     | Returns the number of elements of whose value equals <value>\n",
    "| extend(<iterable>) | Adds all elements from an iterable object, such as a list, to the end of the list\n",
    "| index(<value>)     | Returns the index of the first element with the specified value \n",
    "| insert(<index_location>, <value>)    | Insert an element of some <value> into the list a position with <index_location>\n",
    "| pop(<index_location>)              | Removes and returns an element from a list. If no <index_location> is specified, removes the last element\n",
    "| remove(<value>)    | Removes the first occurance of <value> from the list\n",
    "| reverse()          | Reverses the order of the list\n",
    "| sort()             | Sorts the values within a list\n",
    "    \n",
    "***\n",
    "\n",
    "⚙️ ***Exercise:***\n",
    "1. In the cell below, we have defined 3 lists. Run the cell and check the output.\n",
    "2. Modify the zeroth element of `list_a` and re-run the cell: what do you observe?  \n",
    "    - *When `list_b` is created via the assignment operator, without `.copy()`, elements of `b` point to the same memory as the elemnts of `a`. Therfore, a change to `a` leads to a change in `b`. Beware of this behaviour if you are trying to copy and then manipulate a list.*\n",
    "***"
   ]
  },
  {
   "cell_type": "code",
   "execution_count": 3,
   "id": "d34197e9-4903-46ad-aa34-61bf29f8aa84",
   "metadata": {
    "tags": []
   },
   "outputs": [
    {
     "name": "stdout",
     "output_type": "stream",
     "text": [
      "[1, 2, 3] [1, 2, 3] [1, 2, 3]\n",
      "[123, 2, 3] [123, 2, 3] [1, 2, 3]\n"
     ]
    }
   ],
   "source": [
    "list_a = [1, 2, 3]\n",
    "list_b = list_a\n",
    "list_c = list_a.copy()\n",
    "\n",
    "print(list_a, list_b, list_c)\n",
    "\n",
    "list_a[0] = 123\n",
    "\n",
    "print(list_a, list_b, list_c)"
   ]
  },
  {
   "cell_type": "markdown",
   "id": "753a2e89-9e80-41eb-8355-ec56162746c4",
   "metadata": {},
   "source": [
    "### Tuples\n",
    "\n",
    "Tuples can be constructed in a similar way to lists. The syntactic difference is the use of round `(...)`, rather than square `[...]`, brackets, e.g.\n",
    "\n",
    "```python\n",
    "my_tuple = (1, 2, 3)\n",
    "```\n",
    "\n",
    "***\n",
    "\n",
    "⚙️ ***Exercise:***\n",
    "1. Create a tuple using a few variables of your choice. Validate that they can be indexed, sliced and repeated via `*`.\n",
    "2. Try to change the value of one of your elements, what do you observe? \n",
    "    - *TypeError: 'tuple' object does not support item assignment, **tuples are immutable objects**!*\n",
    "\n",
    "***"
   ]
  },
  {
   "cell_type": "code",
   "execution_count": 4,
   "id": "ec7baa42-febb-4ece-ba99-5273bfff4660",
   "metadata": {
    "tags": []
   },
   "outputs": [
    {
     "ename": "TypeError",
     "evalue": "'tuple' object does not support item assignment",
     "output_type": "error",
     "traceback": [
      "\u001b[1;31m---------------------------------------------------------------------------\u001b[0m",
      "\u001b[1;31mTypeError\u001b[0m                                 Traceback (most recent call last)",
      "Cell \u001b[1;32mIn[4], line 4\u001b[0m\n\u001b[0;32m      1\u001b[0m \u001b[38;5;66;03m# Solution\u001b[39;00m\n\u001b[0;32m      2\u001b[0m fruits \u001b[38;5;241m=\u001b[39m (\u001b[38;5;124m\"\u001b[39m\u001b[38;5;124mapple\u001b[39m\u001b[38;5;124m\"\u001b[39m, \u001b[38;5;124m\"\u001b[39m\u001b[38;5;124morange\u001b[39m\u001b[38;5;124m\"\u001b[39m)\n\u001b[1;32m----> 4\u001b[0m \u001b[43mfruits\u001b[49m\u001b[43m[\u001b[49m\u001b[38;5;241;43m0\u001b[39;49m\u001b[43m]\u001b[49m \u001b[38;5;241m=\u001b[39m \u001b[38;5;124m\"\u001b[39m\u001b[38;5;124mpear\u001b[39m\u001b[38;5;124m\"\u001b[39m\n",
      "\u001b[1;31mTypeError\u001b[0m: 'tuple' object does not support item assignment"
     ]
    }
   ],
   "source": [
    "# Solution\n",
    "fruits = (\"apple\", \"orange\")\n",
    "\n",
    "fruits[0] = \"pear\""
   ]
  },
  {
   "cell_type": "markdown",
   "id": "ab136a84-2fb6-4198-b889-64149138928b",
   "metadata": {},
   "source": [
    "*** \n",
    "\n",
    "💡 ***Exercise:*** \n",
    "\n",
    "- Based on your previous observation regarding mutability, can you guess which of the \"List methods\" mentioned above will and will not work for a tuples?\n",
    "    - *All the methods that modify a list should not be available to tuples since they are immutable.*\n",
    "- Why would you use a tuple?\n",
    "    - *You don't want to accidentally change values*\n",
    "    - *Memory of tuple is less than a list*\n",
    "\n",
    "***\n",
    "\n",
    "### Dictionaries\n",
    "\n",
    "A dictionary is a collection of key-value pairs:\n",
    "\n",
    "```python\n",
    "my_dict = {0: 123, \"cats\": \"dogs\", \"python is great\": True}\n",
    "```\n",
    "\n",
    "In the definition above, each key (0, \"cats\", \"python is great\") has a corresponding value (123, \"dogs\", True).\n",
    "\n",
    "In order to access a value stored inside of a dictionary, we can use its key\n",
    "\n",
    "```python\n",
    "my_dict[0] # 123\n",
    "my_dict[\"cats\"] # \"dogs\n",
    "my_dict[\"python is greaet\"] # True\n",
    "```\n",
    "\n",
    "By construction, you cannot dupicate the same key inside a dictionary.\n",
    "\n",
    "In dictionary can be instantiated with curly braces\n",
    "\n",
    "```python\n",
    "a_dict = {}\n",
    "```\n",
    "\n",
    "We can add new key-value pairs to them via\n",
    "\n",
    "```python\n",
    "a_dict[\"foo\"] = \"bar\"\n",
    "```\n",
    "\n",
    "They can similary be removed via a `del` operator\n",
    "\n",
    "```python\n",
    "del a_dict[\"foo\"]\n",
    "```\n",
    "\n",
    "To some extent, this behaviour is analgous to the mutation of lists via indices.\n",
    "\n",
    "**Dictionaries are mutable objects.**\n",
    "\n",
    "***\n",
    "\n",
    "⚙️ ***Exercise:***\n",
    "\n",
    "1. In the dictionary below, what happens if you try to add another key-value pair within the construction `{...}` with a key that already exists, e.g. `\"apples\"`?\n",
    "    - *The last key-value pair that appears in the dictionary \"wins\"*.\n",
    "2. What happens if you try to update the dictionary with an existing key, after it has been constructed, using e.g. `fruit_stock[\"pears\"]`?\n",
    "    - *The value of \"pairs\" is overwritten*\n",
    "***"
   ]
  },
  {
   "cell_type": "code",
   "execution_count": 1,
   "id": "a11c7945-ad27-487b-b20b-2a9298173b84",
   "metadata": {
    "tags": []
   },
   "outputs": [
    {
     "name": "stdout",
     "output_type": "stream",
     "text": [
      "{'apples': 32, 'pears': 32, 'oranges': 16}\n",
      "{'apples': 32, 'pears': 3, 'oranges': 16}\n"
     ]
    }
   ],
   "source": [
    "fruit_stock = {\"apples\": 28, \"pears\": 32, \"oranges\": 16, \"apples\": 32}\n",
    "\n",
    "print(fruit_stock)\n",
    "\n",
    "fruit_stock[\"pears\"] = 3\n",
    "\n",
    "print(fruit_stock)"
   ]
  },
  {
   "cell_type": "markdown",
   "id": "03bf0590-a6e1-4663-8eca-c9850445ce2e",
   "metadata": {},
   "source": [
    "### Nested data structures\n",
    "\n",
    "As you have seen from the previous examples: List, Tuples and Dictionaries can hold any data type. Beyond singular variables, they can further hold other containers...\n",
    "\n",
    "```python\n",
    "my_list = [[1, 2], (True, False), {\"dog\": \"cat\"}]\n",
    "```\n",
    "\n",
    "The containers within the list, can be accessed via\n",
    "\n",
    "```python\n",
    "my_list[0] # [1, 2]\n",
    "my_list[0][0] # 1\n",
    "my_list[0][1] # 2\n",
    "```\n",
    "\n",
    "***\n",
    "\n",
    "⚙️ ***Exercise:***\n",
    "\n",
    "1. Copy the list above into a new cell below. \n",
    "2. Print out the value of \"dog\" from the dictionary.\n",
    "3. Validate that you can delete the value `2` from the first element of the list.\n",
    "\n",
    "***"
   ]
  },
  {
   "cell_type": "code",
   "execution_count": 2,
   "id": "44835d7a-4eff-45bc-ba5c-668ba2a1bd5b",
   "metadata": {
    "tags": []
   },
   "outputs": [
    {
     "name": "stdout",
     "output_type": "stream",
     "text": [
      "cat\n",
      "[[1], (True, False), {'dog': 'cat'}]\n"
     ]
    }
   ],
   "source": [
    "my_list = [[1, 2], (True, False), {\"dog\": \"cat\"}]\n",
    "\n",
    "print(my_list[-1][\"dog\"])\n",
    "\n",
    "del my_list[0][1]\n",
    "\n",
    "print(my_list)"
   ]
  }
 ],
 "metadata": {
  "kernelspec": {
   "display_name": "Python 3 (ipykernel)",
   "language": "python",
   "name": "python3"
  },
  "language_info": {
   "codemirror_mode": {
    "name": "ipython",
    "version": 3
   },
   "file_extension": ".py",
   "mimetype": "text/x-python",
   "name": "python",
   "nbconvert_exporter": "python",
   "pygments_lexer": "ipython3",
   "version": "3.11.0"
  }
 },
 "nbformat": 4,
 "nbformat_minor": 5
}
