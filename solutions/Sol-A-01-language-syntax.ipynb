{
 "cells": [
  {
   "cell_type": "markdown",
   "id": "dffd78e3-f251-4ef7-9f33-74399e202672",
   "metadata": {},
   "source": [
    "<img src=\"../graphics/icr_logo.png\" alt=\"drawing\" width=\"300\"/>\n",
    "\n",
    "# An introduction to programming with Python\n",
    "## Part 01: language syntax"
   ]
  },
  {
   "cell_type": "markdown",
   "id": "1f7b8f62-3e91-4ddd-9e79-77c9f097be0c",
   "metadata": {},
   "source": [
    "A program is a set of instructions...\n",
    "- \"Do this; then do that.\"\n",
    "- \"If this condition is true, do this thing; otherwise do something else.\"\n",
    "- \"Repeat this action 1,345 times\"\n",
    "\n",
    "If we write these instructions into a file, or collection of files,\n",
    "then we define a programs _source code_.\n",
    "\n",
    "**The python interpreter is what reads and runs the source code.**\n",
    "\n",
    "In this course we are using a special type of source code known as a notebook."
   ]
  },
  {
   "cell_type": "markdown",
   "id": "96f0bf8d-b160-4d88-87a6-323234eaa479",
   "metadata": {},
   "source": [
    "### Defining variables\n",
    "\n",
    "Variables are a key component of all programming languages.  \n",
    "They **enable us to store and reuse information**.\n",
    "\n",
    "In python, we define variables with the **assignment operator**, `=`.\n",
    "We provide a name for the variable on the left hand side of the operator, and the value we want to assign to the right. \n",
    "\n",
    "This is demonstrated in the following cell..."
   ]
  },
  {
   "cell_type": "code",
   "execution_count": 5,
   "id": "ee43eeb4-3327-4e63-97d5-5466631b4196",
   "metadata": {},
   "outputs": [],
   "source": [
    "x = 456 # 123"
   ]
  },
  {
   "cell_type": "markdown",
   "id": "4acfd5aa-994a-4713-b35f-829876f72ccb",
   "metadata": {},
   "source": [
    "We can see this defintion explicitly from the cell above, but in general, this will not always be the case...\n",
    "\n",
    "In order to view the variables value, you can use the `print` function, as shown below"
   ]
  },
  {
   "cell_type": "code",
   "execution_count": 6,
   "id": "dd941a9f-a686-427c-b4b3-fc7a84613081",
   "metadata": {},
   "outputs": [
    {
     "name": "stdout",
     "output_type": "stream",
     "text": [
      "456\n"
     ]
    }
   ],
   "source": [
    "print(x)"
   ]
  },
  {
   "cell_type": "markdown",
   "id": "8898a073-cc4a-47bd-82fd-b9860b40dd85",
   "metadata": {},
   "source": [
    "This will be useful in a variety of contexts.  \n",
    "A nice feature of notebooks, however, is the ability to view the value of a variable by simply running a cell containing that value, e.g.,"
   ]
  },
  {
   "cell_type": "code",
   "execution_count": 7,
   "id": "ccacaaff-caeb-4783-992c-b587528ac740",
   "metadata": {},
   "outputs": [
    {
     "data": {
      "text/plain": [
       "456"
      ]
     },
     "execution_count": 7,
     "metadata": {},
     "output_type": "execute_result"
    }
   ],
   "source": [
    "x"
   ]
  },
  {
   "cell_type": "markdown",
   "id": "80443b12-3f6f-488c-809f-1c131f6a68ff",
   "metadata": {},
   "source": [
    "we see the same result as `print(x)`.\n",
    "\n",
    "***\n",
    "\n",
    "⚙️ ***Exercise A-01.01:***\n",
    "- Try changing the value that is assigned to `x` and re-run the subsequent cells.\n",
    "\n",
    "***\n",
    "\n",
    "⚙️ ***Exercise A-01.02***:\n",
    "1. What happens if you try to switch the variable name and variable value? \n",
    "    - *\"SyntaxError\"; you cannot redefine literal values, e.g., the number 2 is the number 2*\n",
    "2. What happens if you try creating a new variable (using some name that has not yet been used, i.e., not `x`), without assigning it a value?\n",
    "    - *\"NameError; variables must have their value assigned at the time of creation. Python will look and fail to find the variable.*\n",
    "\n",
    "***\n",
    "\n",
    "#### Remarks on variable names\n",
    "\n",
    "Variable names can be constructed from any combination of letters, numbers and underscores, so long as they do not start with a number!"
   ]
  },
  {
   "cell_type": "code",
   "execution_count": 8,
   "id": "d55dcd9e-72dd-4299-bbfa-9257c0fd5205",
   "metadata": {},
   "outputs": [
    {
     "ename": "SyntaxError",
     "evalue": "invalid decimal literal (2426775175.py, line 4)",
     "output_type": "error",
     "traceback": [
      "\u001b[1;36m  Cell \u001b[1;32mIn[8], line 4\u001b[1;36m\u001b[0m\n\u001b[1;33m    0patient = \"Ken\" # Note that this one throws an error!\u001b[0m\n\u001b[1;37m    ^\u001b[0m\n\u001b[1;31mSyntaxError\u001b[0m\u001b[1;31m:\u001b[0m invalid decimal literal\n"
     ]
    }
   ],
   "source": [
    "apples = 4\n",
    "TastyCake = 55\n",
    "patient0 = \"Carl\"\n",
    "0patient = \"Ken\" # Note that this one throws an error!"
   ]
  },
  {
   "cell_type": "markdown",
   "id": "99218142-a2c3-413f-a3ce-5379d1879264",
   "metadata": {},
   "source": [
    "### Comments\n",
    "\n",
    "It is sometimes useful to write code that \"does nothing\". For instance, you might want to add a small comment that you can refer to later when reviewing your calculation,  \n",
    "or temporarily omit a statement.\n",
    "\n",
    "We can use a hash, `#`, to indicate to the python interpretter that it should ignore whatever is to the right of the hash.\n",
    "\n",
    "Let's first validate that a hash makes python ignore things by running the following cell"
   ]
  },
  {
   "cell_type": "code",
   "execution_count": null,
   "id": "3009a1a3-da26-48a2-b1bd-ba9dab8b2e46",
   "metadata": {},
   "outputs": [],
   "source": [
    "# my_variable = 123\n",
    "print(my_variable)"
   ]
  },
  {
   "cell_type": "markdown",
   "id": "bf826304-22a6-407e-89d7-28a147f59c18",
   "metadata": {},
   "source": [
    "Since the assiginment of `my_variable = 123` was preceeded by a `#`, it was not interpretted.  \n",
    "This means that when we have tried to `print(my_variable)`, the program throws an error, since the variable does not exist."
   ]
  },
  {
   "cell_type": "markdown",
   "id": "ad8ce92d-856f-4fc0-990b-1b087fca5973",
   "metadata": {},
   "source": [
    "### Indentation\n",
    "\n",
    "Indentation is a feature of the python language, that indicates to the python intepreter how to process a block of code. For example"
   ]
  },
  {
   "cell_type": "code",
   "execution_count": null,
   "id": "b7f3a595-18fb-43eb-89e6-b2ec7b4eb7fc",
   "metadata": {},
   "outputs": [],
   "source": [
    "condition = True\n",
    "\n",
    "if condition:\n",
    "    # Everything below here has to be at the same indentation\n",
    "    x = 1\n",
    "    y = 2"
   ]
  },
  {
   "cell_type": "markdown",
   "id": "535d957f-b7af-424e-a534-44228fa0fbcb",
   "metadata": {},
   "source": [
    "We will circle back to concrete usages of indentation later, but be aware that it should not be used arbitrarily. "
   ]
  }
 ],
 "metadata": {
  "kernelspec": {
   "display_name": "Python 3 (ipykernel)",
   "language": "python",
   "name": "python3"
  },
  "language_info": {
   "codemirror_mode": {
    "name": "ipython",
    "version": 3
   },
   "file_extension": ".py",
   "mimetype": "text/x-python",
   "name": "python",
   "nbconvert_exporter": "python",
   "pygments_lexer": "ipython3",
   "version": "3.10.9"
  }
 },
 "nbformat": 4,
 "nbformat_minor": 5
}
