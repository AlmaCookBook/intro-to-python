{
 "cells": [
  {
   "cell_type": "markdown",
   "id": "ab136a84-2fb6-4198-b889-64149138928b",
   "metadata": {},
   "source": [
    "<img src=\"../graphics/icr_logo.png\" alt=\"drawing\" width=\"300\"/>\n",
    "\n",
    "# Basic programming with Python\n",
    "## Part 02: Dictionaries\n",
    "\n",
    "We have seen lists and tuples that contain a collection of more than 1 thing. Another example is a dictionary.\n",
    "\n",
    "A dictionary is a collection of key-value pairs:\n",
    "\n",
    "```python\n",
    "my_dict = {0: 123, \"cats\": \"dogs\", \"python is great\": True}\n",
    "```\n",
    "\n",
    "In the definition above, each key (0, \"cats\", \"python is great\") has a corresponding value (123, \"dogs\", True).\n",
    "\n",
    "In order to access a value stored inside of a dictionary, we can use its key\n",
    "\n",
    "```python\n",
    "my_dict[0] # 123\n",
    "my_dict[\"cats\"] # \"dogs\n",
    "my_dict[\"python is greaet\"] # True\n",
    "```\n",
    "\n",
    "By construction, you cannot dupicate the same key inside a dictionary.\n",
    "\n",
    "In dictionary can be instantiated with curly braces\n",
    "\n",
    "```python\n",
    "a_dict = {}\n",
    "```\n",
    "\n",
    "We can add new key-value pairs to them via\n",
    "\n",
    "```python\n",
    "a_dict[\"foo\"] = \"bar\"\n",
    "```\n",
    "\n",
    "They can similary be removed via a `del` operator\n",
    "\n",
    "```python\n",
    "del a_dict[\"foo\"]\n",
    "```\n",
    "\n",
    "To some extent, this behaviour is analgous to the mutation of lists via indices.\n",
    "\n",
    "**Dictionaries are mutable objects.**\n",
    "\n",
    "***\n",
    "\n",
    "⚙️ ***Exercise B-01.01:***\n",
    "\n",
    "1. In the dictionary below, what happens if you try to add another key-value pair within the construction `{...}` with a key that already exists, e.g. `\"apples\"`?\n",
    "    - *The last key-value pair that appears in the dictionary \"wins\"*.\n",
    "2. What happens if you try to update the dictionary with an existing key, after it has been constructed, using e.g. `fruit_stock[\"pears\"]`?\n",
    "    - *The value of \"pairs\" is overwritten*\n",
    "***"
   ]
  },
  {
   "cell_type": "code",
   "execution_count": 7,
   "id": "a11c7945-ad27-487b-b20b-2a9298173b84",
   "metadata": {
    "tags": []
   },
   "outputs": [
    {
     "name": "stdout",
     "output_type": "stream",
     "text": [
      "{'apples': 32, 'pears': 32, 'oranges': 16}\n",
      "{'apples': 32, 'pears': 3, 'oranges': 16}\n"
     ]
    }
   ],
   "source": [
    "fruit_stock = {\"apples\": 28, \"pears\": 32, \"oranges\": 16, \"apples\": 32}\n",
    "\n",
    "print(fruit_stock)\n",
    "\n",
    "fruit_stock[\"pears\"] = 3\n",
    "\n",
    "print(fruit_stock)"
   ]
  },
  {
   "cell_type": "markdown",
   "id": "7f06d61a-18da-42e8-960b-e3ffd70f60cb",
   "metadata": {},
   "source": [
    "***\n",
    "\n",
    "⚙️ ***Exercise B-01.02:*** \n",
    "- Use a *for loop* to print out each item of the following iterables\n",
    "***"
   ]
  },
  {
   "cell_type": "code",
   "execution_count": 8,
   "id": "355d1fa4-1ef9-423d-959c-4a1c4c3e69ee",
   "metadata": {},
   "outputs": [
    {
     "name": "stdout",
     "output_type": "stream",
     "text": [
      "[1, 'two', 3, 4.0]\n",
      "1\n",
      "two\n",
      "3\n",
      "4.0\n",
      "(1, 2, 33, -1)\n",
      "1\n",
      "2\n",
      "33\n",
      "-1\n",
      "{'a': 123, 'b': 23, 'c': 'house'}\n",
      "a\n",
      "b\n",
      "c\n",
      "Python\n",
      "P\n",
      "y\n",
      "t\n",
      "h\n",
      "o\n",
      "n\n"
     ]
    }
   ],
   "source": [
    "# List\n",
    "iter_list = [1, \"two\", 3, 4.0]\n",
    "\n",
    "# Tuple\n",
    "iter_tuple = (1, 2, 33, -1,)\n",
    "\n",
    "# Dictionary\n",
    "iter_dict = {'a': 123, 'b': 23, 'c': \"house\"}\n",
    "\n",
    "# String\n",
    "iter_str = \"Python\"\n",
    "\n",
    "\n",
    "# Write code to iterate through these below\n",
    "\n",
    "print(iter_list)\n",
    "for item in iter_list:\n",
    "    print(item)\n",
    "    \n",
    "print(iter_tuple)\n",
    "for item in iter_tuple:\n",
    "    print(item)\n",
    "    \n",
    "print(iter_dict)\n",
    "for item in iter_dict:\n",
    "    print(item)\n",
    "\n",
    "print(iter_str)\n",
    "for item in iter_str:\n",
    "    print(item)"
   ]
  },
  {
   "cell_type": "markdown",
   "id": "73ecfef2-ada0-4e2f-8816-d27f33301a12",
   "metadata": {},
   "source": [
    "***\n",
    "\n",
    "💡 ***Exercise B-01.03***: \n",
    "- What do you observe for the different iterable objects?\n",
    "    - *Iteration over list and tuple returns elements in turn*\n",
    "    - *Iteration over dict returns keys in turn*\n",
    "    - *Iteration over string returns each character (single string) in turn*\n",
    "\n",
    "***"
   ]
  },
  {
   "cell_type": "markdown",
   "id": "03bf0590-a6e1-4663-8eca-c9850445ce2e",
   "metadata": {},
   "source": [
    "### Nested data structures\n",
    "\n",
    "As you have seen from the previous examples: List, Tuples and Dictionaries can hold any data type. Beyond singular variables, they can further hold other containers...\n",
    "\n",
    "```python\n",
    "my_list = [[1, 2], (True, False), {\"dog\": \"cat\"}]\n",
    "```\n",
    "\n",
    "The containers within the list, can be accessed via\n",
    "\n",
    "```python\n",
    "my_list[0] # [1, 2]\n",
    "my_list[0][0] # 1\n",
    "my_list[0][1] # 2\n",
    "```\n",
    "\n",
    "***\n",
    "\n",
    "⚙️ ***Exercise B-01.04:***\n",
    "\n",
    "1. Copy the list above into a new cell below. \n",
    "2. Print out the value of \"dog\" from the dictionary.\n",
    "3. Validate that you can delete the value `2` from the first element of the list.\n",
    "\n",
    "***"
   ]
  },
  {
   "cell_type": "code",
   "execution_count": 9,
   "id": "44835d7a-4eff-45bc-ba5c-668ba2a1bd5b",
   "metadata": {
    "tags": []
   },
   "outputs": [
    {
     "name": "stdout",
     "output_type": "stream",
     "text": [
      "cat\n",
      "[[1], (True, False), {'dog': 'cat'}]\n"
     ]
    }
   ],
   "source": [
    "my_list = [[1, 2], (True, False), {\"dog\": \"cat\"}]\n",
    "\n",
    "print(my_list[-1][\"dog\"])\n",
    "\n",
    "del my_list[0][1]\n",
    "\n",
    "print(my_list)"
   ]
  }
 ],
 "metadata": {
  "kernelspec": {
   "display_name": "Python 3 (ipykernel)",
   "language": "python",
   "name": "python3"
  },
  "language_info": {
   "codemirror_mode": {
    "name": "ipython",
    "version": 3
   },
   "file_extension": ".py",
   "mimetype": "text/x-python",
   "name": "python",
   "nbconvert_exporter": "python",
   "pygments_lexer": "ipython3",
   "version": "3.10.9"
  }
 },
 "nbformat": 4,
 "nbformat_minor": 5
}
