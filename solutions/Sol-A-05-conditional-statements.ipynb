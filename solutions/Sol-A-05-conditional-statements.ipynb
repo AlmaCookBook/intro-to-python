{
 "cells": [
  {
   "cell_type": "markdown",
   "id": "ac3f5b79-7ace-4e0c-b625-43c19e44e978",
   "metadata": {},
   "source": [
    "<img src=\"../graphics/icr_logo.png\" alt=\"drawing\" width=\"300\"/>\n",
    "\n",
    "# An introduction to programming with Python\n",
    "## Part 05: Conditional statements\n",
    "\n",
    "Conditional statements enable us to make \"decisions\" within your code.  \n",
    "The most straightforward condition to assess, is whether or not something is `True`.\n",
    "\n",
    "### The _if_ statement\n",
    "\n",
    "<img src=\"../graphics/if_statement.jpg\" alt=\"if statement flow\" width=\"400\"/>\n",
    "\n",
    "Consider the following code which depends on the weather...\n",
    "\n",
    "If the weather is good, we are going to do some activity. Irrespectively, the day will then resume.\n",
    "\n",
    "***\n",
    "\n",
    "⚙️ ***Exercise A-05.01:***\n",
    "1. Try running the cell below;\n",
    "2. Modify the boolean variable then re-run the cell;\n",
    "    - *If False, then we don't go for a run*\n",
    "3. What happens if you print something before/after the _if_ clause?\n",
    "    - *Both always print. Going for a run appears in between if `weather_is_nice = True`. \"... resuming day...\" always appears last.*\n",
    "\n",
    "***"
   ]
  },
  {
   "cell_type": "code",
   "execution_count": 1,
   "id": "a8285f9a-b93a-4afb-accc-43286ae9b7e6",
   "metadata": {},
   "outputs": [
    {
     "name": "stdout",
     "output_type": "stream",
     "text": [
      "Going for a run\n",
      "... resuming day...\n"
     ]
    }
   ],
   "source": [
    "weather_is_nice = True\n",
    "\n",
    "if weather_is_nice:\n",
    "    print(\"Going for a run\")\n",
    "\n",
    "print(\"... resuming day...\")"
   ]
  },
  {
   "cell_type": "markdown",
   "id": "c8922c13-61b6-4a58-b843-5d341886e624",
   "metadata": {},
   "source": [
    "### The 'else' clause\n",
    "\n",
    "<img src=\"../graphics/if_else_statement.jpg\" alt=\"if statement flow\" width=\"600\"/>\n",
    "\n",
    "Suppose now that we want to perform a different action if the weather is not nice.  \n",
    "We can achieve this by appending an `else` clause to our condition.\n",
    "\n",
    "***\n",
    "\n",
    "⚙️ ***Exercise A-05.02:***\n",
    "1. As in the previous example, run the cell below, then change the boolean variable and run it again. Is this what you expect?\n",
    "2. Try deleting the `if` clause.\n",
    "    - *If we remove the 'if' part, we get a SyntaxError. else statements cannot live on their own.*\n",
    "\n",
    "***"
   ]
  },
  {
   "cell_type": "code",
   "execution_count": 2,
   "id": "7dad5dff-86e3-4095-b407-8d4623eec5fe",
   "metadata": {},
   "outputs": [
    {
     "ename": "SyntaxError",
     "evalue": "invalid syntax (847306024.py, line 7)",
     "output_type": "error",
     "traceback": [
      "\u001b[1;36m  Cell \u001b[1;32mIn[2], line 7\u001b[1;36m\u001b[0m\n\u001b[1;33m    else:\u001b[0m\n\u001b[1;37m    ^\u001b[0m\n\u001b[1;31mSyntaxError\u001b[0m\u001b[1;31m:\u001b[0m invalid syntax\n"
     ]
    }
   ],
   "source": [
    "weather_is_nice = True\n",
    "\n",
    "print(\"Weather is nice:\", weather_is_nice)\n",
    "\n",
    "# if weather_is_nice:\n",
    "#     print(\"Going kyaking\")\n",
    "else:\n",
    "    print(\"Watching a film\")\n",
    "\n",
    "print(\"... resuming day...\")"
   ]
  },
  {
   "cell_type": "markdown",
   "id": "faeb6cf5-5b7f-4120-9e21-0b145013d47b",
   "metadata": {},
   "source": [
    "### The *elif* statement \n",
    "\n",
    "<img src=\"../graphics/if_elif_else_statement.jpg\" alt=\"if statement flow\" width=\"700\"/>\n",
    "\n",
    "We can create even finer grained control over the program by using `elif` clauses.  \n",
    "These enable us to check conditions one after another until something `True` has been detected.\n",
    "\n",
    "***\n",
    "\n",
    "⚙️ ***Exercise A-05.03:***\n",
    "1. Play around with the following code by varying the `temperature` variable to test the output\n",
    "2. Add another conditional statement that would print \"Going skiing\", if the temperature is less than -5\n",
    "\n",
    "***"
   ]
  },
  {
   "cell_type": "code",
   "execution_count": null,
   "id": "3402e463-5aac-4a2c-9aa1-b08b7177dc1f",
   "metadata": {},
   "outputs": [],
   "source": [
    "temperature = -44\n",
    "\n",
    "if temperature < -5:\n",
    "    print(\"Going skiing\")\n",
    "elif 10 <= temperature < 20:\n",
    "    print(\"Going for a run\")\n",
    "elif 20 <= temperature < 30:\n",
    "    print(\"Going for a swim\")\n",
    "else:\n",
    "    print(\"Staying inside :(\")\n",
    "\n",
    "print(\"... resuming day ....\")"
   ]
  }
 ],
 "metadata": {
  "kernelspec": {
   "display_name": "Python 3 (ipykernel)",
   "language": "python",
   "name": "python3"
  },
  "language_info": {
   "codemirror_mode": {
    "name": "ipython",
    "version": 3
   },
   "file_extension": ".py",
   "mimetype": "text/x-python",
   "name": "python",
   "nbconvert_exporter": "python",
   "pygments_lexer": "ipython3",
   "version": "3.10.9"
  }
 },
 "nbformat": 4,
 "nbformat_minor": 5
}
