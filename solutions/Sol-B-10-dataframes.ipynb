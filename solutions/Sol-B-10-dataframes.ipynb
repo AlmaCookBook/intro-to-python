{
 "cells": [
  {
   "cell_type": "markdown",
   "id": "ac3f5b79-7ace-4e0c-b625-43c19e44e978",
   "metadata": {},
   "source": [
    "<img src=\"../graphics/icr_logo.png\" alt=\"drawing\" width=\"300\"/>\n",
    "\n",
    "# Basic programming with Python\n",
    "## Part 10: Tabular data and dataframes\n",
    "\n",
    "Tabular data is a common format where the data is arranged in rows and columns. Often, the columns will have a header like \"patient name\" and each row will be an instance of data, e.g. patient. The columns are delimitted by a character, usually a tab or a comma.\n",
    "\n",
    "There is a file in comma delimitted format in the data directory called [tp53.csv](data/tp53.csv), if you click on it jupyter notebook will format it nicely so it is easy to browse.\n",
    "\n",
    "Python uses the **pandas** library to interact with dataframes. Commonly using \"pd\" as an abbreviation:\n",
    "```python\n",
    "import pandas as pd\n",
    "```\n"
   ]
  },
  {
   "cell_type": "markdown",
   "id": "03fce555-9b85-4bf6-b66c-70fcffa5d5de",
   "metadata": {},
   "source": [
    "### Reading dataframes"
   ]
  },
  {
   "cell_type": "code",
   "execution_count": 1,
   "id": "ffaba4ec-71ac-4d77-a35b-a8cc19f9dc92",
   "metadata": {
    "tags": []
   },
   "outputs": [
    {
     "name": "stdout",
     "output_type": "stream",
     "text": [
      "       aa  rid atom  bfactor          x          y          z\n",
      "0     MET    1    N    40.87  39.264999  34.563999  20.674999\n",
      "1     MET    1   CA    40.87  39.233002  33.408001  21.587999\n",
      "2     MET    1    C    40.87  38.070000  32.562000  21.100000\n",
      "3     MET    1   CB    40.87  39.112000  33.867001  23.059999\n",
      "4     MET    1    O    40.87  36.952000  33.042000  21.166000\n",
      "...   ...  ...  ...      ...        ...        ...        ...\n",
      "3055  ASP  393    O    47.63  28.046000  58.320000  10.847000\n",
      "3056  ASP  393   CG    47.63  31.766001  58.821999  13.391000\n",
      "3057  ASP  393  OD1    47.63  31.367001  58.331001  14.475000\n",
      "3058  ASP  393  OD2    47.63  32.785000  59.555000  13.320000\n",
      "3059  ASP  393  OXT    47.63  27.871000  58.341999  13.064000\n",
      "\n",
      "[3060 rows x 7 columns]\n"
     ]
    }
   ],
   "source": [
    "import pandas as pd\n",
    "import os\n",
    "data_path = os.path.join(os.getcwd(), \"..\", \"data/\")\n",
    "data = pd.read_csv(data_path + \"tp53.csv\")\n",
    "print(data)"
   ]
  },
  {
   "cell_type": "markdown",
   "id": "97bd6e9b-6f25-4b40-97eb-1a74adab6435",
   "metadata": {},
   "source": [
    "### Browsing dataframes\n",
    "\n",
    "As you can see above, we can use print in a familiar way - it won't show everything if there is too much information, just a summary. We can also print out the head or tail."
   ]
  },
  {
   "cell_type": "code",
   "execution_count": 2,
   "id": "29fb8685-ca8e-4c39-80e6-b353abf57bd6",
   "metadata": {},
   "outputs": [
    {
     "name": "stdout",
     "output_type": "stream",
     "text": [
      "    aa  rid atom  bfactor          x          y          z\n",
      "0  MET    1    N    40.87  39.264999  34.563999  20.674999\n",
      "1  MET    1   CA    40.87  39.233002  33.408001  21.587999\n"
     ]
    }
   ],
   "source": [
    "print(data.head(2)) # top 2 lines"
   ]
  },
  {
   "cell_type": "code",
   "execution_count": 3,
   "id": "92eae3eb-e789-403d-9cce-be0b879d0a52",
   "metadata": {},
   "outputs": [
    {
     "name": "stdout",
     "output_type": "stream",
     "text": [
      "       aa  rid atom  bfactor       x          y       z\n",
      "3058  ASP  393  OD2    47.63  32.785  59.555000  13.320\n",
      "3059  ASP  393  OXT    47.63  27.871  58.341999  13.064\n"
     ]
    }
   ],
   "source": [
    "print(data.tail(2)) # bottom 2 lines"
   ]
  },
  {
   "cell_type": "markdown",
   "id": "28660837-9bf9-42c9-a94d-e55eeeb96ee7",
   "metadata": {},
   "source": [
    "#### Indexing into a dataframe\n",
    "\n",
    "Like with lists and dictionaries we can index into dataframes using either the numeric location or the key.\n",
    "The keys are the header names, or optionally the row names if you have used indexes (which are row names).\n",
    "\n",
    "In this example I want to find the coordinates of the CA atom of residue 1.  \n",
    "_iloc_ is used for numerical indexing  \n",
    "_loc_ is used for key indexing (the row keys are numbers in this case)  "
   ]
  },
  {
   "cell_type": "code",
   "execution_count": 4,
   "id": "cefa7bf1-8e2e-4f12-9714-5addabc8869d",
   "metadata": {},
   "outputs": [
    {
     "ename": "IndexError",
     "evalue": "index 7 is out of bounds for axis 0 with size 7",
     "output_type": "error",
     "traceback": [
      "\u001b[1;31m---------------------------------------------------------------------------\u001b[0m",
      "\u001b[1;31mIndexError\u001b[0m                                Traceback (most recent call last)",
      "Cell \u001b[1;32mIn[4], line 4\u001b[0m\n\u001b[0;32m      2\u001b[0m x1 \u001b[38;5;241m=\u001b[39m data\u001b[38;5;241m.\u001b[39miloc[\u001b[38;5;241m1\u001b[39m,\u001b[38;5;241m5\u001b[39m]\n\u001b[0;32m      3\u001b[0m y1 \u001b[38;5;241m=\u001b[39m data\u001b[38;5;241m.\u001b[39miloc[\u001b[38;5;241m1\u001b[39m,\u001b[38;5;241m6\u001b[39m]\n\u001b[1;32m----> 4\u001b[0m z1 \u001b[38;5;241m=\u001b[39m \u001b[43mdata\u001b[49m\u001b[38;5;241;43m.\u001b[39;49m\u001b[43miloc\u001b[49m\u001b[43m[\u001b[49m\u001b[38;5;241;43m1\u001b[39;49m\u001b[43m,\u001b[49m\u001b[38;5;241;43m7\u001b[39;49m\u001b[43m]\u001b[49m\n\u001b[0;32m      5\u001b[0m \u001b[38;5;28mprint\u001b[39m(x1,y1,z1)\n\u001b[0;32m      7\u001b[0m \u001b[38;5;66;03m# Better to use the column headers to get a list first\u001b[39;00m\n",
      "File \u001b[1;32m~\\AppData\\Local\\anaconda3\\lib\\site-packages\\pandas\\core\\indexing.py:1066\u001b[0m, in \u001b[0;36m_LocationIndexer.__getitem__\u001b[1;34m(self, key)\u001b[0m\n\u001b[0;32m   1064\u001b[0m     key \u001b[38;5;241m=\u001b[39m \u001b[38;5;28mtuple\u001b[39m(com\u001b[38;5;241m.\u001b[39mapply_if_callable(x, \u001b[38;5;28mself\u001b[39m\u001b[38;5;241m.\u001b[39mobj) \u001b[38;5;28;01mfor\u001b[39;00m x \u001b[38;5;129;01min\u001b[39;00m key)\n\u001b[0;32m   1065\u001b[0m     \u001b[38;5;28;01mif\u001b[39;00m \u001b[38;5;28mself\u001b[39m\u001b[38;5;241m.\u001b[39m_is_scalar_access(key):\n\u001b[1;32m-> 1066\u001b[0m         \u001b[38;5;28;01mreturn\u001b[39;00m \u001b[38;5;28;43mself\u001b[39;49m\u001b[38;5;241;43m.\u001b[39;49m\u001b[43mobj\u001b[49m\u001b[38;5;241;43m.\u001b[39;49m\u001b[43m_get_value\u001b[49m\u001b[43m(\u001b[49m\u001b[38;5;241;43m*\u001b[39;49m\u001b[43mkey\u001b[49m\u001b[43m,\u001b[49m\u001b[43m \u001b[49m\u001b[43mtakeable\u001b[49m\u001b[38;5;241;43m=\u001b[39;49m\u001b[38;5;28;43mself\u001b[39;49m\u001b[38;5;241;43m.\u001b[39;49m\u001b[43m_takeable\u001b[49m\u001b[43m)\u001b[49m\n\u001b[0;32m   1067\u001b[0m     \u001b[38;5;28;01mreturn\u001b[39;00m \u001b[38;5;28mself\u001b[39m\u001b[38;5;241m.\u001b[39m_getitem_tuple(key)\n\u001b[0;32m   1068\u001b[0m \u001b[38;5;28;01melse\u001b[39;00m:\n\u001b[0;32m   1069\u001b[0m     \u001b[38;5;66;03m# we by definition only have the 0th axis\u001b[39;00m\n",
      "File \u001b[1;32m~\\AppData\\Local\\anaconda3\\lib\\site-packages\\pandas\\core\\frame.py:3914\u001b[0m, in \u001b[0;36mDataFrame._get_value\u001b[1;34m(self, index, col, takeable)\u001b[0m\n\u001b[0;32m   3895\u001b[0m \u001b[38;5;124;03m\"\"\"\u001b[39;00m\n\u001b[0;32m   3896\u001b[0m \u001b[38;5;124;03mQuickly retrieve single value at passed column and index.\u001b[39;00m\n\u001b[0;32m   3897\u001b[0m \n\u001b[1;32m   (...)\u001b[0m\n\u001b[0;32m   3911\u001b[0m \u001b[38;5;124;03m`self.columns._index_as_unique`; Caller is responsible for checking.\u001b[39;00m\n\u001b[0;32m   3912\u001b[0m \u001b[38;5;124;03m\"\"\"\u001b[39;00m\n\u001b[0;32m   3913\u001b[0m \u001b[38;5;28;01mif\u001b[39;00m takeable:\n\u001b[1;32m-> 3914\u001b[0m     series \u001b[38;5;241m=\u001b[39m \u001b[38;5;28;43mself\u001b[39;49m\u001b[38;5;241;43m.\u001b[39;49m\u001b[43m_ixs\u001b[49m\u001b[43m(\u001b[49m\u001b[43mcol\u001b[49m\u001b[43m,\u001b[49m\u001b[43m \u001b[49m\u001b[43maxis\u001b[49m\u001b[38;5;241;43m=\u001b[39;49m\u001b[38;5;241;43m1\u001b[39;49m\u001b[43m)\u001b[49m\n\u001b[0;32m   3915\u001b[0m     \u001b[38;5;28;01mreturn\u001b[39;00m series\u001b[38;5;241m.\u001b[39m_values[index]\n\u001b[0;32m   3917\u001b[0m series \u001b[38;5;241m=\u001b[39m \u001b[38;5;28mself\u001b[39m\u001b[38;5;241m.\u001b[39m_get_item_cache(col)\n",
      "File \u001b[1;32m~\\AppData\\Local\\anaconda3\\lib\\site-packages\\pandas\\core\\frame.py:3728\u001b[0m, in \u001b[0;36mDataFrame._ixs\u001b[1;34m(self, i, axis)\u001b[0m\n\u001b[0;32m   3724\u001b[0m     \u001b[38;5;28;01mreturn\u001b[39;00m result\n\u001b[0;32m   3726\u001b[0m \u001b[38;5;66;03m# icol\u001b[39;00m\n\u001b[0;32m   3727\u001b[0m \u001b[38;5;28;01melse\u001b[39;00m:\n\u001b[1;32m-> 3728\u001b[0m     label \u001b[38;5;241m=\u001b[39m \u001b[38;5;28;43mself\u001b[39;49m\u001b[38;5;241;43m.\u001b[39;49m\u001b[43mcolumns\u001b[49m\u001b[43m[\u001b[49m\u001b[43mi\u001b[49m\u001b[43m]\u001b[49m\n\u001b[0;32m   3730\u001b[0m     col_mgr \u001b[38;5;241m=\u001b[39m \u001b[38;5;28mself\u001b[39m\u001b[38;5;241m.\u001b[39m_mgr\u001b[38;5;241m.\u001b[39miget(i)\n\u001b[0;32m   3731\u001b[0m     result \u001b[38;5;241m=\u001b[39m \u001b[38;5;28mself\u001b[39m\u001b[38;5;241m.\u001b[39m_box_col_values(col_mgr, i)\n",
      "File \u001b[1;32m~\\AppData\\Local\\anaconda3\\lib\\site-packages\\pandas\\core\\indexes\\base.py:5320\u001b[0m, in \u001b[0;36mIndex.__getitem__\u001b[1;34m(self, key)\u001b[0m\n\u001b[0;32m   5317\u001b[0m \u001b[38;5;28;01mif\u001b[39;00m is_integer(key) \u001b[38;5;129;01mor\u001b[39;00m is_float(key):\n\u001b[0;32m   5318\u001b[0m     \u001b[38;5;66;03m# GH#44051 exclude bool, which would return a 2d ndarray\u001b[39;00m\n\u001b[0;32m   5319\u001b[0m     key \u001b[38;5;241m=\u001b[39m com\u001b[38;5;241m.\u001b[39mcast_scalar_indexer(key, warn_float\u001b[38;5;241m=\u001b[39m\u001b[38;5;28;01mTrue\u001b[39;00m)\n\u001b[1;32m-> 5320\u001b[0m     \u001b[38;5;28;01mreturn\u001b[39;00m \u001b[43mgetitem\u001b[49m\u001b[43m(\u001b[49m\u001b[43mkey\u001b[49m\u001b[43m)\u001b[49m\n\u001b[0;32m   5322\u001b[0m \u001b[38;5;28;01mif\u001b[39;00m \u001b[38;5;28misinstance\u001b[39m(key, \u001b[38;5;28mslice\u001b[39m):\n\u001b[0;32m   5323\u001b[0m     \u001b[38;5;66;03m# This case is separated from the conditional above to avoid\u001b[39;00m\n\u001b[0;32m   5324\u001b[0m     \u001b[38;5;66;03m# pessimization com.is_bool_indexer and ndim checks.\u001b[39;00m\n\u001b[0;32m   5325\u001b[0m     result \u001b[38;5;241m=\u001b[39m getitem(key)\n",
      "\u001b[1;31mIndexError\u001b[0m: index 7 is out of bounds for axis 0 with size 7"
     ]
    }
   ],
   "source": [
    "# Since I know it is the second row and 6th, 7th, 8th columns I can use iloc\n",
    "x1 = data.iloc[1,5]\n",
    "y1 = data.iloc[1,6]\n",
    "z1 = data.iloc[1,7]\n",
    "print(x1,y1,z1)\n",
    "\n",
    "# Better to use the column headers to get a list first\n",
    "x2 = data.loc[1,\"x\"]\n",
    "y2 = data.loc[1,\"y\"]\n",
    "z2 = data.loc[1,\"z\"]\n",
    "print(x2,y2,z2)"
   ]
  },
  {
   "cell_type": "code",
   "execution_count": null,
   "id": "ed82b57d-fd46-45b9-87ed-fe7078dab2ec",
   "metadata": {},
   "outputs": [],
   "source": [
    "# We can slice the data too, this shows everything from x to z and 0:3\n",
    "data.loc[0:3:,\"x\":\"z\"]"
   ]
  },
  {
   "cell_type": "markdown",
   "id": "f79dbd1a-b36d-4568-b013-f02a48fa7d68",
   "metadata": {},
   "source": [
    "*** \n",
    "\n",
    "⚙️ ***Exercise B-10.01***: \n",
    "- Modify the cell below to find out what atom is the 50th row in the dataframe?\n",
    "\n",
    "***"
   ]
  },
  {
   "cell_type": "code",
   "execution_count": null,
   "id": "db8b4869-9a04-4052-804c-96a63e0c74cf",
   "metadata": {},
   "outputs": [],
   "source": [
    "import pandas as pd\n",
    "data = pd.read_csv(data_path + \"tp53.csv\")\n",
    "..."
   ]
  },
  {
   "cell_type": "markdown",
   "id": "3140fbb7-7101-45bb-b02d-2f61f3df6749",
   "metadata": {},
   "source": [
    "#### Transposing a dataframe\n",
    "\n",
    "Dataframes can be transposed using .T, when this tp53 dataframe is transposed you can see the data is very wide and the \\ character is used to show it overruns lines."
   ]
  },
  {
   "cell_type": "code",
   "execution_count": null,
   "id": "95e97278-44f3-4770-9e90-db4c0eb964b1",
   "metadata": {
    "tags": []
   },
   "outputs": [],
   "source": [
    "print(data.T)"
   ]
  },
  {
   "cell_type": "markdown",
   "id": "26c01d23-eaf2-42bd-8848-7d7b060890a5",
   "metadata": {
    "tags": []
   },
   "source": [
    "*** \n",
    "\n",
    "⚙️ ***Exercise B-10.02***: \n",
    "- Use the cell below to find the first 3 rows of the dataframe and transpose them.\n",
    "\n",
    "💡 - What is different about the slicing and the indexes?  \n",
    "When using iloc it is the usual way and the range is exclusive of the uppoer bound.\n",
    "When using loc, because it is a key and could be a string, it is inclusive. See the difference in the 2 outputs (and beware!).\n",
    "\n",
    "***"
   ]
  },
  {
   "cell_type": "code",
   "execution_count": null,
   "id": "d251c2a8-16d3-440d-a460-d6d8dff1e16b",
   "metadata": {},
   "outputs": [],
   "source": [
    "print(\"loc------\\n\",data.loc[0:2,:].T)\n",
    "print(\"\\niloc------\\n\",data.iloc[0:2,:].T)"
   ]
  },
  {
   "cell_type": "markdown",
   "id": "f33caf35-314b-4f9f-a7bc-f701e7d9ff02",
   "metadata": {},
   "source": [
    "#### Summary statistics (describe)\n",
    "\n",
    "There is a very convenient build in method to calculate the summary statistics of a dataframe. Numerical and string columns behave a little differently."
   ]
  },
  {
   "cell_type": "code",
   "execution_count": null,
   "id": "46ef4eb0-9b97-4c59-bee2-8025459970be",
   "metadata": {},
   "outputs": [],
   "source": [
    "print(data.describe())"
   ]
  },
  {
   "cell_type": "markdown",
   "id": "a3b5bf08-7ce7-4787-bd47-7b59845ffd9d",
   "metadata": {},
   "source": [
    "*** \n",
    "\n",
    "💡 ***Exercise B-10:03:*** \n",
    "- Explain what the describe function does  \n",
    "It calculates mean, max min and quartiles\n",
    "\n",
    "\n",
    "- Is there anything missing from the output that you expected?  \n",
    "It only has numerical data, all the categorical/discrete data has been ignored\n",
    "\n",
    "***"
   ]
  },
  {
   "cell_type": "markdown",
   "id": "771ea1b7-bccf-4145-9f7e-792be827d266",
   "metadata": {},
   "source": [
    "### Writing dataframes\n",
    "\n",
    "It is just as easy to write out data, we use the method **to_csv**. In the cell below I load in the tp53 data, add a column, and write it out again to another file. "
   ]
  },
  {
   "cell_type": "code",
   "execution_count": null,
   "id": "8b3c6e42-2056-49d6-afe2-ca4f6076a77a",
   "metadata": {},
   "outputs": [],
   "source": [
    "import pandas as pd\n",
    "data = pd.read_csv(data_path + \"tp53.csv\")\n",
    "data[\"new_col\"] = \"type anything in\" #try changing this\n",
    "data.to_csv(data_path + \"tp53_v2.csv\")"
   ]
  },
  {
   "cell_type": "markdown",
   "id": "483f8e38-bcdf-4037-804e-f89e7a955b36",
   "metadata": {},
   "source": [
    "Check the [file is there](data/tp53_v2.csv) once you have run the cell."
   ]
  },
  {
   "cell_type": "markdown",
   "id": "0e93e45c-b56e-4429-957f-6ba02479b878",
   "metadata": {},
   "source": [
    "If you want to create a dataframe from scratch you can use various methods. One simple one way is to use a dictionary."
   ]
  },
  {
   "cell_type": "code",
   "execution_count": null,
   "id": "5438e9ad-619d-4469-8a47-8d6fa0cdbc32",
   "metadata": {
    "tags": []
   },
   "outputs": [],
   "source": [
    "my_dic_data = {'Name': ['Tom', 'nick', 'krish', 'jack'],'Age': [20, 21, 19, 18]}\n",
    "my_df_data = pd.DataFrame(my_dic_data)\n",
    "print(my_df_data)"
   ]
  },
  {
   "cell_type": "markdown",
   "id": "1ee1456e-f43e-4c14-ae9e-6e52efb5938f",
   "metadata": {},
   "source": [
    "*** \n",
    "\n",
    "⚙️ ***Exercise B-10.04***: \n",
    "- In cell above can you modify it and also add a department?\n",
    "\n",
    "***"
   ]
  },
  {
   "cell_type": "markdown",
   "id": "25a2c9cd-5017-4d6d-b69e-cf8302d72df8",
   "metadata": {},
   "source": [
    "### Plotting dataframes\n",
    "\n",
    "matplotlib is the most widely used plotting library, but we will also have a very quick look at plotly due to its interactive features.\n",
    "\n",
    "Install by running the pip install line in the cell below."
   ]
  },
  {
   "cell_type": "code",
   "execution_count": null,
   "id": "e9a451b8-86fe-49d7-87dc-231fed5087aa",
   "metadata": {
    "tags": []
   },
   "outputs": [],
   "source": [
    "pip install matplotlib plotly"
   ]
  },
  {
   "cell_type": "markdown",
   "id": "a6069cfd-cf5c-4504-95bf-87836c6dd1bc",
   "metadata": {},
   "source": [
    "##### A very simple 1d plot"
   ]
  },
  {
   "cell_type": "code",
   "execution_count": null,
   "id": "6508ccd0-0b88-4fda-88b5-0befb627c18d",
   "metadata": {},
   "outputs": [],
   "source": [
    "data.T.loc[\"bfactor\"].plot()\n",
    "plt.legend()"
   ]
  },
  {
   "cell_type": "markdown",
   "id": "9f485ba4-ed67-4dfe-a436-755552b85b2a",
   "metadata": {},
   "source": [
    "##### A simple scatter plot"
   ]
  },
  {
   "cell_type": "code",
   "execution_count": null,
   "id": "8e426af9-3bb6-4db3-816a-9a59b3c76425",
   "metadata": {
    "tags": []
   },
   "outputs": [],
   "source": [
    "import matplotlib.pyplot as plt\n",
    "xs = data.loc[:,\"x\"]\n",
    "ys = data.loc[:,\"y\"]\n",
    "plt.xlabel(\"TP53 x values\")\n",
    "plt.ylabel(\"TP53 y values\")\n",
    "plt.plot(xs,ys,\"r*\")"
   ]
  },
  {
   "cell_type": "markdown",
   "id": "de96a3d6-6601-4ff6-aa1b-0576f2e76121",
   "metadata": {},
   "source": [
    "We can change the colours and the markers with a few simple options:\n",
    "_  .  --  *  |  \n",
    "'b' as blue  \n",
    "'g' as green  \n",
    "'r' as red  \n",
    "'c' as cyan  \n",
    "'m' as magenta  \n",
    "'y' as yellow  \n",
    "'k' as black  \n",
    "'w' as white  \n",
    "(the default colour is a more muted blue)"
   ]
  },
  {
   "cell_type": "markdown",
   "id": "1c7cdb0e-5872-4f17-805c-dcf4ae24c449",
   "metadata": {},
   "source": [
    "***\n",
    "\n",
    "⚙️ ***Exercise B-10:05:*** \n",
    "- Play around with the plotting values (k.) in the cell above and see the different colours and marker styles.\n",
    "\n",
    "***"
   ]
  },
  {
   "cell_type": "markdown",
   "id": "f9673142-df00-411b-b903-459f984e0dfe",
   "metadata": {},
   "source": [
    "### Saving the plots\n",
    "\n",
    "You can change how you save the file depending on the extension you choose."
   ]
  },
  {
   "cell_type": "code",
   "execution_count": null,
   "id": "92ed4347-52fa-49c5-a393-cfa9fcc73299",
   "metadata": {},
   "outputs": [],
   "source": [
    "plt.plot(xs,ys,\".\")\n",
    "plt.savefig(data_path + \"my_plot.png\")\n",
    "plt.savefig(data_path + \"my_plot.pdf\")"
   ]
  },
  {
   "cell_type": "markdown",
   "id": "04a97fdb-a730-4f0e-9d66-13dba6da4169",
   "metadata": {},
   "source": [
    "***\n",
    "\n",
    "⚙️ ***Exercise:B-10:06*** \n",
    "\n",
    "- Can you create and save 3 images of the TP53 coordinates? The x-y, x-z and y-z projections \n",
    "n.b. call plt.close() between each plot to clear it out othr they write ontop of each other (which you may want sometimes).\n",
    "    \n",
    "***"
   ]
  },
  {
   "cell_type": "code",
   "execution_count": null,
   "id": "1c389414-0b99-4bbc-8aaf-a4d0c93fe5e3",
   "metadata": {},
   "outputs": [],
   "source": [
    "import matplotlib.pyplot as plt\n",
    "xs = data.loc[:,\"x\"]\n",
    "ys = data.loc[:,\"y\"]\n",
    "zs = data.loc[:,\"z\"]\n",
    "\n",
    "#x-y\n",
    "plt.xlabel(\"TP53 x values\")\n",
    "plt.ylabel(\"TP53 y values\")\n",
    "plt.plot(xs,ys,\"b.\")\n",
    "plt.savefig(data_path + \"my_plot_xy.pdf\")\n",
    "plt.close()\n",
    "\n",
    "#x-z\n",
    "plt.xlabel(\"TP53 x values\")\n",
    "plt.ylabel(\"TP53 z values\")\n",
    "plt.plot(xs,zs,\"r.\")\n",
    "plt.savefig(data_path + \"my_plot_xz.pdf\")\n",
    "plt.close()\n",
    "\n",
    "#y-z\n",
    "plt.xlabel(\"TP53 y values\")\n",
    "plt.ylabel(\"TP53 z values\")\n",
    "plt.plot(ys,zs,\"y.\")\n",
    "plt.savefig(data_path + \"my_plot_yz.pdf\")\n",
    "plt.close()"
   ]
  },
  {
   "cell_type": "markdown",
   "id": "e9a12c2d-feba-4b72-a2cf-a934e2a4b075",
   "metadata": {},
   "source": [
    "# Plotly\n",
    "\n",
    "For completeness this shows you a use of the plotly library with this data in 2d and 3d, the main difference being the interactive element."
   ]
  },
  {
   "cell_type": "code",
   "execution_count": null,
   "id": "a4864dd4-fbe3-4aff-9ff3-0ce9a32cecd9",
   "metadata": {},
   "outputs": [],
   "source": [
    "import plotly.express as px\n",
    "fig = px.scatter(data, x='x', y='y',color='bfactor',title='',width=900, height=500, \n",
    "                    opacity=0.65, color_continuous_scale=px.colors.sequential.Viridis)\n",
    "fig.update_traces(marker=dict(size=4,line=dict(width=0.000,color='grey')),selector=dict(mode='markers'))\n",
    "fig.show()"
   ]
  },
  {
   "cell_type": "markdown",
   "id": "4487122c-c22d-44ec-b932-c57ad1110dd9",
   "metadata": {},
   "source": [
    "The hue can also be categorical data"
   ]
  },
  {
   "cell_type": "code",
   "execution_count": null,
   "id": "3fa6d0dc-ee3c-4ea7-a841-5fe433e8e1cb",
   "metadata": {},
   "outputs": [],
   "source": [
    "import plotly.express as px\n",
    "fig = px.scatter(data, x='x', y='y',color='aa',title='',width=900, height=500, \n",
    "                    opacity=0.65,color_discrete_sequence =px.colors.qualitative.Alphabet )\n",
    "fig.update_traces(marker=dict(size=4,line=dict(width=0.000,color='grey')),selector=dict(mode='markers'))\n",
    "fig.show()"
   ]
  },
  {
   "cell_type": "markdown",
   "id": "272d5fd3-3fb6-4f2a-ae8f-2e2804685bb5",
   "metadata": {},
   "source": [
    "*** \n",
    "\n",
    "💡 ***Exercise B-10:07:*** \n",
    "- What has changed in the 2 calls to plotly?  \n",
    "The color has gone from continuous to discrete and is Alphabet instead of Viridis\n",
    "- What is different about the data?  \n",
    "The data is categorical rather than numerical, in this case there are 20 amino acids.\n",
    "\n",
    "***"
   ]
  },
  {
   "cell_type": "code",
   "execution_count": null,
   "id": "0ba78cea-9d26-4d9f-9cfd-f7cb70d6565d",
   "metadata": {
    "tags": []
   },
   "outputs": [],
   "source": [
    "import plotly.express as px\n",
    "fig = px.scatter_3d(data, x='x', y='y', z='z',color='bfactor',title='',width=900, height=500, \n",
    "                    opacity=0.65, color_continuous_scale=px.colors.sequential.Viridis)\n",
    "fig.update_traces(marker=dict(size=4,line=dict(width=0.000,color='grey')),selector=dict(mode='markers'))\n",
    "fig.show()"
   ]
  },
  {
   "cell_type": "markdown",
   "id": "04668f9c-d389-416e-9749-3329bf73ef68",
   "metadata": {},
   "source": [
    "Ploty images can be saved as html files which retain their interactive elements."
   ]
  },
  {
   "cell_type": "code",
   "execution_count": null,
   "id": "3a7bf42e-0c99-4bfc-b37f-05d9e971616c",
   "metadata": {
    "tags": []
   },
   "outputs": [],
   "source": [
    "fig.write_html(data_path + \"plotly.html\")"
   ]
  },
  {
   "cell_type": "markdown",
   "id": "10689e2d-5f83-44b7-910e-03e824f95657",
   "metadata": {},
   "source": [
    "### Resources for matplotlib\n",
    "https://matplotlib.org/  \n",
    "https://python-graph-gallery.com/matplotlib/\n",
    "\n",
    "### Resources for plotly\n",
    "https://plotly.com/python/  \n",
    "https://plotly.com/python/discrete-color/#color-sequences-in-plotly-express  \n",
    "https://plotly.com/python/builtin-colorscales/#continuous-color-scales-in-dash  "
   ]
  }
 ],
 "metadata": {
  "kernelspec": {
   "display_name": "Python 3 (ipykernel)",
   "language": "python",
   "name": "python3"
  },
  "language_info": {
   "codemirror_mode": {
    "name": "ipython",
    "version": 3
   },
   "file_extension": ".py",
   "mimetype": "text/x-python",
   "name": "python",
   "nbconvert_exporter": "python",
   "pygments_lexer": "ipython3",
   "version": "3.10.9"
  }
 },
 "nbformat": 4,
 "nbformat_minor": 5
}
