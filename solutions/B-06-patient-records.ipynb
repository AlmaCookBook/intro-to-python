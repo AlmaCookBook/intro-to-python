{
 "cells": [
  {
   "cell_type": "markdown",
   "id": "ac3f5b79-7ace-4e0c-b625-43c19e44e978",
   "metadata": {},
   "source": [
    "<img src=\"../graphics/icr_logo.png\" alt=\"drawing\" width=\"300\"/>\n",
    "\n",
    "# Basic programming with Python\n",
    "## Part 06: Patient Records\n",
    "\n",
    "In this Notebook, we define a program that is designed to search a through a database of patient records,\n",
    "and retrieve patient data based on the surname of the patient provided.\n",
    "\n",
    "You will be prompted, as a user of the program to provide an input. We haven't covered this, but you will figure it out!\n",
    "\n",
    "***\n",
    "\n",
    "⚙️ ***Exercise:*** \n",
    "\n",
    "1. Run the program and try to understand how the program is working.\n",
    "2. Ammend the `while` loop such that a user is asked whether to \"Exit the program?\" at the end of each iteration.\n",
    "    - If the response is \"yes\", exit loop\n",
    "\n",
    "***Hints***:\n",
    "- Explore the type returned from `input(...)`.\n",
    "- You can exit a loop at any time using the statement `break`.\n",
    "\n",
    "\n",
    "***"
   ]
  },
  {
   "cell_type": "code",
   "execution_count": 3,
   "id": "d9df2ba4-7226-456a-bb07-e9b362aaea07",
   "metadata": {
    "tags": []
   },
   "outputs": [],
   "source": [
    "# Create database\n",
    "patient_records = {\n",
    "    'Smith': {'age': 27, 'sex': 'm', 'tested': False, 'received_results': False},\n",
    "    'Matthews': {'age': 34, 'sex': 'f', 'tested': True, 'received_results': False},\n",
    "    'Fry': {'age': 30, 'sex': 'f', 'tested': True, 'received_results': True},\n",
    "    'Sanchez': {'age': 21, 'sex': 'm', 'tested': True, 'received_results': True}\n",
    "}"
   ]
  },
  {
   "cell_type": "code",
   "execution_count": 4,
   "id": "5214e854-dd72-49ee-97fa-db5e4a099d1a",
   "metadata": {
    "tags": []
   },
   "outputs": [
    {
     "name": "stdin",
     "output_type": "stream",
     "text": [
      "Which patient data would you like to check? (enter last name) Smith\n"
     ]
    },
    {
     "name": "stdout",
     "output_type": "stream",
     "text": [
      "Name: Smith\n",
      "Age: 27\n",
      "Sex: m\n",
      "Tested: False\n",
      "Received results: False\n"
     ]
    },
    {
     "name": "stdin",
     "output_type": "stream",
     "text": [
      "Exit the program? Enter 'yes' to exit. ve\n",
      "Which patient data would you like to check? (enter last name) fe\n"
     ]
    },
    {
     "name": "stdout",
     "output_type": "stream",
     "text": [
      "fe not in records.\n"
     ]
    },
    {
     "name": "stdin",
     "output_type": "stream",
     "text": [
      "Exit the program? Enter 'yes' to exit. yes\n"
     ]
    }
   ],
   "source": [
    "# Run program indefinitely\n",
    "while True:\n",
    "\n",
    "    # Request a patient id input from user\n",
    "    patient_id = input(\"Which patient data would you like to check? (enter last name)\")\n",
    "    \n",
    "    # Check whether the patient id is in the records    \n",
    "    if patient_id in patient_records:\n",
    "\n",
    "        # Print out patient information\n",
    "        print(\"Name:\", patient_id)\n",
    "        print(\"Age:\", patient_records[patient_id]['age'])\n",
    "        print(\"Sex:\", patient_records[patient_id]['sex'])\n",
    "        print(\"Tested:\", patient_records[patient_id]['tested'])\n",
    "        print(\"Received results:\", patient_records[patient_id]['received_results'])\n",
    "    else:\n",
    "        print(patient_id, \"not in records.\")\n",
    "\n",
    "\n",
    "    # Add another user input here\n",
    "    search_again = input(\"Exit the program? Enter 'yes' to exit.\")\n",
    "    \n",
    "    if search_again == \"yes\":\n",
    "        break"
   ]
  },
  {
   "cell_type": "markdown",
   "id": "a1e61ba7-a12d-435d-8bc4-68629cbf7705",
   "metadata": {},
   "source": [
    "***\n",
    "\n",
    "💡 ***Exercise***: \n",
    "\n",
    "- How do we add user input to a program?\n",
    "    - *Use the `input(...)` function*\n",
    "- What type is returned by a user input?\n",
    "    - *String, `str`*\n",
    "\n",
    "****"
   ]
  },
  {
   "cell_type": "code",
   "execution_count": null,
   "id": "87273bdb-1c1f-4091-907f-7e497743542f",
   "metadata": {},
   "outputs": [],
   "source": []
  }
 ],
 "metadata": {
  "kernelspec": {
   "display_name": "Python 3 (ipykernel)",
   "language": "python",
   "name": "python3"
  },
  "language_info": {
   "codemirror_mode": {
    "name": "ipython",
    "version": 3
   },
   "file_extension": ".py",
   "mimetype": "text/x-python",
   "name": "python",
   "nbconvert_exporter": "python",
   "pygments_lexer": "ipython3",
   "version": "3.11.0"
  }
 },
 "nbformat": 4,
 "nbformat_minor": 5
}
