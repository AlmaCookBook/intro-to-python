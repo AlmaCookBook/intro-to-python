{
 "cells": [
  {
   "cell_type": "markdown",
   "id": "87ef7037-0839-424b-9d34-876c9c2ed44b",
   "metadata": {},
   "source": [
    "<img src=\"../graphics/icr_logo.png\" alt=\"drawing\" width=\"300\"/>\n",
    "\n",
    "# An introduction to programming with Python\n",
    "## Part 02: Variables and data types\n",
    "\n",
    "As previously mentioned, variables provide us with a way to store values inside a programs memory.  \n",
    "An important feature of variables is there associated **type**\n",
    "\n",
    "Let's define the following collection of variables"
   ]
  },
  {
   "cell_type": "code",
   "execution_count": 1,
   "id": "59caa5cb-2348-45a0-a14a-9c834a467306",
   "metadata": {},
   "outputs": [],
   "source": [
    "w = 1\n",
    "x = 1.0\n",
    "y = \"1\"\n",
    "z = True"
   ]
  },
  {
   "cell_type": "markdown",
   "id": "0ea5e34f-5376-48ae-b36d-78aaefa618e6",
   "metadata": {},
   "source": [
    "We can use the `type(...)` function to retrieve the corresponding type, e.g.,"
   ]
  },
  {
   "cell_type": "code",
   "execution_count": 2,
   "id": "b43d98af-1ab1-44fb-8ef0-21287c68156c",
   "metadata": {},
   "outputs": [
    {
     "name": "stdout",
     "output_type": "stream",
     "text": [
      "<class 'int'>\n",
      "<class 'float'>\n",
      "<class 'str'>\n",
      "<class 'bool'>\n"
     ]
    }
   ],
   "source": [
    "print(type(w))\n",
    "print(type(x))\n",
    "print(type(y))\n",
    "print(type(z))"
   ]
  },
  {
   "cell_type": "markdown",
   "id": "06cb7eb4-e6b5-416a-b13f-228999303854",
   "metadata": {},
   "source": [
    "***\n",
    "\n",
    "⚙️ ***Exercise:*** \n",
    "- Check the type of the remaining variables `x, y, z`.\n",
    "\n",
    "***"
   ]
  },
  {
   "cell_type": "markdown",
   "id": "c1d13f97-ff05-47f4-8040-c9d25c8907e6",
   "metadata": {},
   "source": [
    "### Numerical types\n",
    "\n",
    "Python has two main types of number\n",
    "\n",
    "- `int` : Interegers are *whole* numbers. These can be zero, positively or negatively valued.\n",
    "- `float` : Floats, i.e., floating point numbers, can be thought of as decimals. They can similarly be zero, positively or negatively valued."
   ]
  },
  {
   "cell_type": "code",
   "execution_count": 3,
   "id": "ea8b0da4-9b91-4a05-8692-050928edd7b0",
   "metadata": {},
   "outputs": [],
   "source": [
    "# Integers\n",
    "int_zero = 0\n",
    "int_pos = 1\n",
    "int_neg = -1\n",
    "\n",
    "# Floats\n",
    "float_zero = 0.\n",
    "float_pos = 1.23\n",
    "float_neg = -1.56"
   ]
  },
  {
   "cell_type": "markdown",
   "id": "75fb49c6-69bd-42eb-a68c-2d3547b7fe7e",
   "metadata": {},
   "source": [
    "Sometimes we may want to switch between `float` and `int` types. We can do so using the `float(...)` and `int(...)` functions.\n",
    "\n",
    "***\n",
    "\n",
    "⚙️ ***Exercise:*** \n",
    "1. Check the type of the variables below after they are *cast* between types and inspect their resulting values. Is this what you expect?\n",
    "2. Try changing the value of `y1` to 1.99, is the result after casting to an integer what you expect?\n",
    "\n",
    "***"
   ]
  },
  {
   "cell_type": "code",
   "execution_count": 7,
   "id": "274ae796-d586-46ce-9313-dfce82cf23fa",
   "metadata": {},
   "outputs": [
    {
     "name": "stdout",
     "output_type": "stream",
     "text": [
      "1 1.0 <class 'int'> <class 'float'>\n",
      "1.23 1 <class 'float'> <class 'int'>\n",
      "1.99 1 <class 'float'> <class 'int'>\n"
     ]
    }
   ],
   "source": [
    "x1 = 1\n",
    "x2 = float(x1)\n",
    "\n",
    "print(x1, x2, type(x1), type(x2))\n",
    "\n",
    "y1 = 1.23\n",
    "y2 = int(y1)\n",
    "\n",
    "print(y1, y2, type(y1), type(y2))\n",
    "\n",
    "# Redefine y1\n",
    "y1 = 1.99\n",
    "y2 = int(y1)\n",
    "\n",
    "print(y1, y2, type(y1), type(y2))\n",
    "\n",
    "# Note how casting a flaot to int rounds \"down\" "
   ]
  },
  {
   "cell_type": "markdown",
   "id": "f58b5fe9-4a4d-4523-bc50-9980a5392322",
   "metadata": {},
   "source": [
    "### Strings\n",
    "\n",
    "Strings are used to represent textual information. In order to define a string, we can do so using double quotation or single quotation/apostrophe markers (`\"...\"` or `'...'`)"
   ]
  },
  {
   "cell_type": "code",
   "execution_count": 8,
   "id": "0637bf20-6ccf-4192-b464-b0edcc863a20",
   "metadata": {},
   "outputs": [],
   "source": [
    "a_string = \"This is a string!\"\n",
    "another_string = 'This is also a string :)'"
   ]
  },
  {
   "cell_type": "markdown",
   "id": "5696bc88-bfef-4aa7-8f25-f5281b2d2abf",
   "metadata": {},
   "source": [
    "You can embed one type of string marker inside of another. For example, if you want to use an apostrophe, you should then ensure the string markers are defined by double quotes:"
   ]
  },
  {
   "cell_type": "code",
   "execution_count": 9,
   "id": "eb299c09-250a-45be-a319-602b4da8ccd6",
   "metadata": {},
   "outputs": [],
   "source": [
    "amazing_words = \"I own 10 dogs\""
   ]
  },
  {
   "cell_type": "markdown",
   "id": "b0a0b5bc-f9d7-481c-8c4e-497262fade52",
   "metadata": {},
   "source": [
    "Similarly to our conversion between floats and integers, we can perform similar operations between strings using the `str(...)` operator\n",
    "\n",
    "***\n",
    "\n",
    "⚙️ ***Exercise:*** \n",
    "- In the cell below we have defined some string and float variables. Convert the string variable to an integer, and the float variable to a string.\n",
    "***"
   ]
  },
  {
   "cell_type": "code",
   "execution_count": 12,
   "id": "962a6f89-30e0-4094-a395-fd915943d802",
   "metadata": {},
   "outputs": [],
   "source": [
    "initial_str = \"1234\"\n",
    "initial_float = 1.0\n",
    "\n",
    "to_int = int(initial_str)\n",
    "to_str = str(initial_float)"
   ]
  },
  {
   "cell_type": "markdown",
   "id": "43ae1577-8007-4685-a08b-15eef42c1e73",
   "metadata": {},
   "source": [
    "### Booleans\n",
    "\n",
    "Boolean values can be used to represent `True` and `False` values. **The capitalization of the leading letter is important!**\n",
    "\n",
    "Boolean values can used to control the behaviour of a program...\n",
    "E.g., \"Do this thing if my variable is True\"\n",
    "\n",
    "*More on this later.*\n",
    "\n",
    "***\n",
    "\n",
    "⚙️ ***Exercise:*** \n",
    "- Run the following cell and inspect the resulting error... what does this mean?\n",
    "    - *\"True\" is a special built-in value in Python. \"true\" is not, and therefore is intrpretted like a variable, which in this case has not been defined!* \n",
    "\n",
    "***"
   ]
  },
  {
   "cell_type": "code",
   "execution_count": 13,
   "id": "62835ae1-8261-4348-958f-e314695b2493",
   "metadata": {},
   "outputs": [
    {
     "ename": "NameError",
     "evalue": "name 'true' is not defined",
     "output_type": "error",
     "traceback": [
      "\u001b[1;31m---------------------------------------------------------------------------\u001b[0m",
      "\u001b[1;31mNameError\u001b[0m                                 Traceback (most recent call last)",
      "Cell \u001b[1;32mIn[13], line 2\u001b[0m\n\u001b[0;32m      1\u001b[0m x1 \u001b[38;5;241m=\u001b[39m \u001b[38;5;28;01mTrue\u001b[39;00m\n\u001b[1;32m----> 2\u001b[0m x2 \u001b[38;5;241m=\u001b[39m \u001b[43mtrue\u001b[49m \n",
      "\u001b[1;31mNameError\u001b[0m: name 'true' is not defined"
     ]
    }
   ],
   "source": [
    "x1 = True\n",
    "x2 = true "
   ]
  },
  {
   "cell_type": "markdown",
   "id": "4556752b-9fce-4303-9eee-b8536f3bbf90",
   "metadata": {},
   "source": [
    "### Summary of basic types\n",
    "\n",
    "- `int` : Integers ~ whole numbers\n",
    "- `float` : Floating point numbers ~ decimal numbers\n",
    "- `str` : Strings ~ text\n",
    "- `bool` : ~ True or False\n",
    "\n",
    "You can \"cast\" between types by appending `(...)` to the type name, e.g., `int(...)`.\n",
    "\n",
    "***\n",
    "\n",
    "⚙️ ***Exercise:*** \n",
    "- Starting the integer variables defined below, try casting between the various types `float`, `str` and `bool`... do these behave as you expect?\n",
    "    - *Ints to floats are relatively straightforward.*\n",
    "    - *The canonical representation of True or False is 0 and 1.*\n",
    "    - *Python has rules for what otherwise is considered \"truthy\" and \"falsey\" when we are interpretting other things via `bool(...)`.* \n",
    "    - **With regards to numbers, everything except for zero is Truthy, hence bool(2) ~ True**.  \n",
    "***"
   ]
  },
  {
   "cell_type": "code",
   "execution_count": 14,
   "id": "38effc36-efac-401d-87bc-693229cb7188",
   "metadata": {},
   "outputs": [
    {
     "name": "stdout",
     "output_type": "stream",
     "text": [
      "0 0.0 0 False\n",
      "1 1.0 1 True\n",
      "2 2.0 2 True\n"
     ]
    }
   ],
   "source": [
    "a = 0\n",
    "b = 1\n",
    "c = 2\n",
    "\n",
    "a_float = float(a)\n",
    "a_str = str(a)\n",
    "a_bool = bool(a)\n",
    "\n",
    "print(a, a_float, a_str, a_bool)\n",
    "\n",
    "b_float = float(b)\n",
    "b_str = str(b)\n",
    "b_bool = bool(b)\n",
    "\n",
    "print(b, b_float, b_str, b_bool)\n",
    "\n",
    "c_float = float(c)\n",
    "c_str = str(c)\n",
    "c_bool = bool(c)\n",
    "\n",
    "print(c, c_float, c_str, c_bool)"
   ]
  }
 ],
 "metadata": {
  "kernelspec": {
   "display_name": "Python 3 (ipykernel)",
   "language": "python",
   "name": "python3"
  },
  "language_info": {
   "codemirror_mode": {
    "name": "ipython",
    "version": 3
   },
   "file_extension": ".py",
   "mimetype": "text/x-python",
   "name": "python",
   "nbconvert_exporter": "python",
   "pygments_lexer": "ipython3",
   "version": "3.11.0"
  }
 },
 "nbformat": 4,
 "nbformat_minor": 5
}
