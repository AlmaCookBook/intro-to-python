{
 "cells": [
  {
   "cell_type": "markdown",
   "id": "ac3f5b79-7ace-4e0c-b625-43c19e44e978",
   "metadata": {},
   "source": [
    "<img src=\"../graphics/icr_logo.png\" alt=\"drawing\" width=\"300\"/>\n",
    "\n",
    "# Basic programming with Python\n",
    "## Part 02: More loops"
   ]
  },
  {
   "cell_type": "markdown",
   "id": "da43794c-fa33-402c-9be2-e2255f654495",
   "metadata": {},
   "source": [
    "Iteration provides us with a mechanism for inspecting many items from a container in a single process...\n",
    "\n",
    "In the following example, we find all the numbers less than or equal to a variable `n_end`\n",
    "which share a common factor of 12 and 16.\n",
    "\n",
    "***\n",
    "\n",
    "⚙️ ***Exercise:***\n",
    "In this exercise, the code starts of keeping a track of numbers that are factors of both 12 and 16. We want to *also* keep a track of numbers that are just factors of 12 and that are just factors of 16.\n",
    "\n",
    "1. Run the cell below and try to understand the logic.\n",
    "2. Create an empty list called `factors_12`, and update the program to additionally *keep track of the factors of 12 only*.\n",
    "3. Create an empty list called `factors_16`, and modify the program to additionally *keep track of the factors of 16 only*.\n",
    "4. Adjust the print statement at the end of the cell to return the relevant information.\n",
    "***"
   ]
  },
  {
   "cell_type": "code",
   "execution_count": 2,
   "id": "19b6ed37-d6f8-4485-92c3-9c9d3037f7be",
   "metadata": {
    "tags": []
   },
   "outputs": [
    {
     "name": "stdout",
     "output_type": "stream",
     "text": [
      "There are 5 integers divisible by 12 AND 16 between 0 and 200 :\n",
      "[0, 48, 96, 144, 192]\n",
      "There are 12 integers divisible by 12 between 0 and 200 :\n",
      "[12, 24, 36, 60, 72, 84, 108, 120, 132, 156, 168, 180]\n",
      "There are 8 integers divisible by 16 between 0 and 200 :\n",
      "[16, 32, 64, 80, 112, 128, 160, 176]\n"
     ]
    }
   ],
   "source": [
    "n_start = 0\n",
    "n_end = 200\n",
    "\n",
    "# Initialise objects to store values in\n",
    "factors = []\n",
    "factors_12 = []\n",
    "factors_16 = []\n",
    "\n",
    "n_factors = 0\n",
    "n_factors_12 = 0\n",
    "n_factors_16 = 0\n",
    "\n",
    "# Iterate over numbers of interest\n",
    "for x in range(n_start, n_end + 1):\n",
    "\n",
    "    # Check for condition on number, x. Note '%' gives us the remainder\n",
    "    if x % 12 == 0 and x % 16 == 0:\n",
    "        # Add number to factors\n",
    "        factors.append(x)        \n",
    "        n_factors += 1 # Increment counter\n",
    "        \n",
    "    elif x % 12 == 0:\n",
    "        factors_12.append(x)\n",
    "        n_factors_12 += 1\n",
    "        \n",
    "    elif x % 16 == 0:\n",
    "        factors_16.append(x)\n",
    "        n_factors_16 += 1\n",
    "\n",
    "print(\"There are\", n_factors, \"integers divisible by 12 AND 16 between\", n_start, \"and\", n_end, \":\")\n",
    "print(factors)\n",
    "\n",
    "print(\"There are\", n_factors_12, \"integers divisible by 12 between\", n_start, \"and\", n_end, \":\")\n",
    "print(factors_12)\n",
    "\n",
    "print(\"There are\", n_factors_16, \"integers divisible by 16 between\", n_start, \"and\", n_end, \":\")\n",
    "print(factors_16)"
   ]
  },
  {
   "cell_type": "markdown",
   "id": "03ea5092-02c6-4e41-8964-aae4f5a7c8a9",
   "metadata": {},
   "source": [
    "#### Nested Loops\n",
    "\n",
    "It is often useful to _nest_ loops...\n",
    "\n",
    "***\n",
    "\n",
    "⚙️ ***Exercise B-02.02:***\n",
    "\n",
    "1. Run the following cell and observe how the output\n",
    "2. Modify the code to prevent animals chasing themselves\n",
    "3. Make a copy of the cell, and modify the code such that a predator cannot be chased by it's prey!\n",
    "\n",
    "***"
   ]
  },
  {
   "cell_type": "code",
   "execution_count": 3,
   "id": "872e6ab5-a792-4dc0-9fe6-0002bdfbbf2c",
   "metadata": {
    "tags": []
   },
   "outputs": [
    {
     "name": "stdout",
     "output_type": "stream",
     "text": [
      "The python chased the cat\n",
      "The python chased the rabbit\n",
      "The cat chased the python\n",
      "The cat chased the rabbit\n",
      "The rabbit chased the python\n",
      "The rabbit chased the cat\n"
     ]
    }
   ],
   "source": [
    "animals = ['python', 'cat', 'rabbit']\n",
    "\n",
    "for animal_1 in animals:\n",
    "    for animal_2 in animals:\n",
    "        if animal_1 != animal_2:\n",
    "            print(\"The\", animal_1, \"chased the\", animal_2)"
   ]
  },
  {
   "cell_type": "code",
   "execution_count": 4,
   "id": "fa875310-4ee3-4d3a-acee-3fe73ea28c10",
   "metadata": {
    "tags": []
   },
   "outputs": [
    {
     "name": "stdout",
     "output_type": "stream",
     "text": [
      "The python chased the cat\n",
      "The python chased the rabbit\n",
      "The cat chased the rabbit\n"
     ]
    }
   ],
   "source": [
    "animals = ['python', 'cat', 'rabbit']\n",
    "\n",
    "# This solution only works so long as the animals are ordered from most to least \"predatory\"\n",
    "\n",
    "for animal_1 in animals:\n",
    "    for animal_2 in animals:\n",
    "        if animals.index(animal_1) < animals.index(animal_2):\n",
    "            print(\"The\", animal_1, \"chased the\", animal_2)"
   ]
  },
  {
   "cell_type": "markdown",
   "id": "a6bedfae-988d-44a2-84f5-f41727a19e34",
   "metadata": {},
   "source": [
    "### While loops\n",
    "\n",
    "While loops enable us to perform a repetition, so long as a condition is `True`. The **exit condition** for a while loop is when a condition becomes `False`.\n",
    "\n",
    "<img src=\"../graphics/while_loop.jpg\" alt=\"if statement flow\" width=\"800\"/>\n",
    "\n",
    "In the cell below we define some code that counts to 3"
   ]
  },
  {
   "cell_type": "code",
   "execution_count": 5,
   "id": "363c5536-95fa-451c-a0e3-b386d460d849",
   "metadata": {},
   "outputs": [
    {
     "name": "stdout",
     "output_type": "stream",
     "text": [
      "1\n",
      "2\n",
      "3\n",
      "4\n",
      "5\n",
      "6\n",
      "7\n",
      "8\n",
      "9\n",
      "10\n",
      "All done counting.\n"
     ]
    }
   ],
   "source": [
    "# Initilize a counter\n",
    "counter = 1\n",
    "\n",
    "# Enter the for loop. The condition here is that the counter, is less than 5\n",
    "while counter < 11:\n",
    "\n",
    "    # Print the counter\n",
    "    print(counter)\n",
    "\n",
    "    # Update the counter\n",
    "    counter += 1\n",
    "\n",
    "print(\"All done counting.\")"
   ]
  },
  {
   "cell_type": "markdown",
   "id": "ce88aef4-236d-403f-a24b-cccf1e903deb",
   "metadata": {},
   "source": [
    "***\n",
    "\n",
    "⚙️ ***Exercise B-02.03:*** \n",
    "- It prints 1-3, can you make it print 1-10?\n",
    "\n",
    "***\n",
    "\n",
    "💡 ***Exercise B-02.04***: \n",
    "- What could you do so that it never runs?\n",
    "    - *Construct some `<condition>` such that `while <condition>` is equivalent to `while False`*\n",
    "- How could you make it infinite?\n",
    "    - *Construct some `<condition>` such that `while <condition>` is always equivalent to `while True`*\n",
    "\n",
    "***\n",
    "\n",
    "**Warning**: If you get stuck in a loop press the \"stop\"/\"square\" button at the top of the window. If that doesn't work press the \"refresh\" button next to it, to restart the kernel."
   ]
  }
 ],
 "metadata": {
  "kernelspec": {
   "display_name": "Python 3 (ipykernel)",
   "language": "python",
   "name": "python3"
  },
  "language_info": {
   "codemirror_mode": {
    "name": "ipython",
    "version": 3
   },
   "file_extension": ".py",
   "mimetype": "text/x-python",
   "name": "python",
   "nbconvert_exporter": "python",
   "pygments_lexer": "ipython3",
   "version": "3.10.9"
  }
 },
 "nbformat": 4,
 "nbformat_minor": 5
}
