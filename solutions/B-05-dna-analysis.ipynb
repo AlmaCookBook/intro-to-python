{
 "cells": [
  {
   "cell_type": "markdown",
   "id": "ac3f5b79-7ace-4e0c-b625-43c19e44e978",
   "metadata": {},
   "source": [
    "<img src=\"../graphics/icr_logo.png\" alt=\"drawing\" width=\"300\"/>\n",
    "\n",
    "# Basic programming with Python\n",
    "## Part 05: DNA Analysis\n",
    "\n",
    "With a few tweaks, we can extend the codon script to analyse a DNA sequence; Thalassiosira pseudonana CCMP1335 breast cancer 2 early onset (BRCA2).\n",
    "\n",
    "***\n",
    "\n",
    "⚙️ ***Exercise:*** \n",
    "- Count the number of occurances of each distinct codon from the BRCA2 sequence.\n",
    "\n",
    "***"
   ]
  },
  {
   "cell_type": "code",
   "execution_count": 1,
   "id": "621646a5-2037-4195-a51e-5c3994ce8dcf",
   "metadata": {
    "tags": []
   },
   "outputs": [
    {
     "name": "stdout",
     "output_type": "stream",
     "text": [
      "{'ttt': 0, 'ttc': 0, 'tta': 0, 'ttg': 0, 'tct': 0, 'tcc': 0, 'tca': 0, 'tcg': 0, 'tat': 0, 'tac': 0, 'taa': 0, 'tag': 0, 'tgt': 0, 'tgc': 0, 'tga': 0, 'tgg': 0, 'ctt': 0, 'ctc': 0, 'cta': 0, 'ctg': 0, 'cct': 0, 'ccc': 0, 'cca': 0, 'ccg': 0, 'cat': 0, 'cac': 0, 'caa': 0, 'cag': 0, 'cgt': 0, 'cgc': 0, 'cga': 0, 'cgg': 0, 'att': 0, 'atc': 0, 'ata': 0, 'atg': 0, 'act': 0, 'acc': 0, 'aca': 0, 'acg': 0, 'aat': 0, 'aac': 0, 'aaa': 0, 'aag': 0, 'agt': 0, 'agc': 0, 'aga': 0, 'agg': 0, 'gtt': 0, 'gtc': 0, 'gta': 0, 'gtg': 0, 'gct': 0, 'gcc': 0, 'gca': 0, 'gcg': 0, 'gat': 0, 'gac': 0, 'gaa': 0, 'gag': 0, 'ggt': 0, 'ggc': 0, 'gga': 0, 'ggg': 0}\n"
     ]
    }
   ],
   "source": [
    "bases = ('t', 'c', 'a', 'g')\n",
    "\n",
    "codon_counters = {}\n",
    "\n",
    "# Start base pairs\n",
    "for base1 in bases:\n",
    "    for base2 in bases:\n",
    "        for base3 in bases:\n",
    "            # Add a key to the codon_counters dictionary using the bases you have iterated over.\n",
    "            # What is their initial \"count\"?\n",
    "            codon_counters[base1 + base2 + base3] = 0\n",
    "            \n",
    "\n",
    "# Check whether our calculation makes sense\n",
    "print(codon_counters)"
   ]
  },
  {
   "cell_type": "code",
   "execution_count": 2,
   "id": "f000c2ef-f695-420b-81d8-1d2aa921f440",
   "metadata": {
    "tags": []
   },
   "outputs": [],
   "source": [
    "# You don't need to modify this cell: we have just defined the sequence here.\n",
    "\n",
    "# https://www.genome.jp/dbget-bin/www_bget?tps:THAPS_263089\n",
    "# Thalassiosira pseudonana CCMP1335 breast cancer 2 early onset (BRAC2), partial mRNA\n",
    "DNA_seq = 'gggtgcgacgattcattgttttcggacaagtggataggcaaccactaccggtggattgtc' + \\\n",
    "          'tggaagctagcagcaatggagagacggtttccacaccatcttggaggacattacttgacg' + \\\n",
    "          'tacgagcgtgtgctgaaacaaatgaagggccgctacgataaggaacttcgtaatttcaga' + \\\n",
    "          'cggcctgcagtacgcataatgctcaaccgagatgttgcagcgagtttgccagtcatctta' + \\\n",
    "          'tgcgtaagccaaatccttcgattcaaatcaagaccgccaaaaggaagttcttccgacgag' + \\\n",
    "          'atcaaagaagaagtccgactggagttgacggatggatggtactcactacctgctgtagtg' + \\\n",
    "          'gacgaaatactgttgaagtttgttgaagaaaggagaatcgcagtgggatcaaaactaatg' + \\\n",
    "          'atttgcaatgggcagttagttggatctgatgacggagtggagcctctcgatgacagctac' + \\\n",
    "          'tcatcttccaaacgagattgtcctctattgctgggcatctctgccaacaactcccgttta' + \\\n",
    "          'gcaagatgggatgcaactctaggttttgtacctcgcaacaactctaatctatacggcggc' + \\\n",
    "          'aatcttttggtcaaatccctgcaagacattttcatcggcggaggtactgttccggctatt' + \\\n",
    "          'gatttggttgtttgtaagaagtacccaaggatgtttctagagcaattaaacggtggagct' + \\\n",
    "          'tccattcatcttacagaagccgaagaagcagcacgccaaagtgagtacgattcaaggcat' + \\\n",
    "          'cagcgagcaagcgagagatatgccgacgatgctacgaaggaatgttcagaggtaagttca' + \\\n",
    "          'ttgctgttcacattcttcactatgaagccacttccgttgctttggtacaatcttgtcact' + \\\n",
    "          'gactcatcttttggcgttcatgattcgcacaggaaatcgatgaggatgctcctactcagt' + \\\n",
    "          'ggaaagagatga'\n",
    "\n",
    "# Calculate length of sequence\n",
    "sequence_length = len(DNA_seq)"
   ]
  },
  {
   "cell_type": "code",
   "execution_count": 3,
   "id": "647b2159-e0ce-4894-8239-26ffe3169973",
   "metadata": {
    "tags": []
   },
   "outputs": [],
   "source": [
    "# Iterate over the number of trinucleotides: starting with index locations 0, 3, 6, ....\n",
    "for index_start in range(0, sequence_length, 3):    \n",
    "    index_end = index_start + 3\n",
    "\n",
    "    # Get slices of the sequence using the variables index_start and index_end\n",
    "    codon = DNA_seq[index_start:index_end]\n",
    "\n",
    "    # Update the codon_counters dictionary object\n",
    "    codon_counters[codon] += 1"
   ]
  },
  {
   "cell_type": "code",
   "execution_count": 4,
   "id": "b0d12c7a-d237-4569-b3d0-ca9af608087a",
   "metadata": {
    "tags": []
   },
   "outputs": [
    {
     "name": "stdout",
     "output_type": "stream",
     "text": [
      "ttt : 6\n",
      "ttc : 6\n",
      "tta : 4\n",
      "ttg : 10\n",
      "tct : 6\n",
      "tcc : 5\n",
      "tca : 9\n",
      "tcg : 3\n",
      "tat : 1\n",
      "tac : 10\n",
      "tgt : 3\n",
      "tgc : 3\n",
      "tga : 1\n",
      "tgg : 6\n",
      "ctt : 8\n",
      "ctc : 4\n",
      "cta : 8\n",
      "ctg : 6\n",
      "cct : 5\n",
      "cca : 5\n",
      "ccg : 3\n",
      "cat : 5\n",
      "cac : 3\n",
      "caa : 5\n",
      "cag : 2\n",
      "cgt : 3\n",
      "cgc : 4\n",
      "cga : 5\n",
      "cgg : 3\n",
      "att : 5\n",
      "atc : 6\n",
      "ata : 3\n",
      "atg : 8\n",
      "act : 4\n",
      "aca : 2\n",
      "acg : 3\n",
      "aat : 5\n",
      "aac : 7\n",
      "aaa : 8\n",
      "aag : 10\n",
      "agt : 5\n",
      "agc : 3\n",
      "aga : 7\n",
      "agg : 5\n",
      "gtt : 7\n",
      "gtc : 5\n",
      "gta : 5\n",
      "gtg : 4\n",
      "gct : 4\n",
      "gcc : 3\n",
      "gca : 10\n",
      "gcg : 1\n",
      "gat : 12\n",
      "gac : 9\n",
      "gaa : 10\n",
      "gag : 9\n",
      "ggt : 3\n",
      "ggc : 7\n",
      "gga : 10\n",
      "ggg : 2\n"
     ]
    }
   ],
   "source": [
    "# Iterate over (key, value) pairs in the codon_counters dictionary\n",
    "for key, value in codon_counters.items():\n",
    "\n",
    "    # If the value is greater than zero, we'll print it out\n",
    "    if value > 0:\n",
    "        print(key, \":\", value)\n"
   ]
  }
 ],
 "metadata": {
  "kernelspec": {
   "display_name": "Python 3 (ipykernel)",
   "language": "python",
   "name": "python3"
  },
  "language_info": {
   "codemirror_mode": {
    "name": "ipython",
    "version": 3
   },
   "file_extension": ".py",
   "mimetype": "text/x-python",
   "name": "python",
   "nbconvert_exporter": "python",
   "pygments_lexer": "ipython3",
   "version": "3.11.0"
  }
 },
 "nbformat": 4,
 "nbformat_minor": 5
}
