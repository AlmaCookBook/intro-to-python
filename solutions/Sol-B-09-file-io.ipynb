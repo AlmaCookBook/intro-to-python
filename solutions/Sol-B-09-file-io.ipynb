{
 "cells": [
  {
   "cell_type": "markdown",
   "id": "ac3f5b79-7ace-4e0c-b625-43c19e44e978",
   "metadata": {},
   "source": [
    "<img src=\"../graphics/icr_logo.png\" alt=\"drawing\" width=\"300\"/>\n",
    "\n",
    "# Basic programming with Python\n",
    "## Part 09: File Inputs and Outputs\n",
    "\n",
    "Something we regularly want to do able to do when writing code is read in data from a file or save data to a file."
   ]
  },
  {
   "cell_type": "markdown",
   "id": "a6069cfd-cf5c-4504-95bf-87836c6dd1bc",
   "metadata": {},
   "source": [
    "We can use \"with\" to create an io stream that safely closes when we have finished with it.\n",
    "\n",
    "### Reading files\n",
    "\n",
    "```python\n",
    "with open(\"hamlet.txt\", \"r\") as f:\n",
    "    ...\n",
    "```\n",
    "\n",
    "We can read all the lines at once using the readlines() method:\n",
    "\n",
    "```python\n",
    "with open(\"hamlet.txt\", \"r\") as f:\n",
    "    lines = f.readlines()\n",
    "\n",
    "for line in lines:\n",
    "    print(line)\n",
    "```\n",
    "\n",
    "### Writing files\n",
    "We can write to a new file in **write** mode:\n",
    "\n",
    "```python\n",
    "with open(\"newfile.txt\", \"w\") as f:\n",
    "    f.write(\"Hello world!\\n\") # \\n is a newline character\n",
    "```\n",
    "\n",
    "### File paths\n",
    "\n",
    "In the above example, we have simply written the file names, but we can more precisely define a complete path. The `os` module can help us achieve this."
   ]
  },
  {
   "cell_type": "code",
   "execution_count": 1,
   "id": "8e426af9-3bb6-4db3-816a-9a59b3c76425",
   "metadata": {
    "tags": []
   },
   "outputs": [],
   "source": [
    "import os\n",
    "hamlet_path = os.path.join(os.getcwd(), \"..\", \"data\", \"hamlet.txt\")"
   ]
  },
  {
   "cell_type": "markdown",
   "id": "1c7cdb0e-5872-4f17-805c-dcf4ae24c449",
   "metadata": {},
   "source": [
    "***\n",
    "\n",
    "⚙️ ***Exercise B-09.01:*** \n",
    "- In the cell below, use the `hamlet_path` that has already been defined to print the file contents.\n",
    "\n",
    "***"
   ]
  },
  {
   "cell_type": "code",
   "execution_count": 2,
   "id": "511697ff-1f1f-4b4d-9c76-226abb65bcc4",
   "metadata": {
    "tags": []
   },
   "outputs": [
    {
     "name": "stdout",
     "output_type": "stream",
     "text": [
      "Bernardo. Who's there?\n",
      "\n",
      "Francisco. Nay, answer me. Stand and unfold yourself.\n",
      "\n",
      "Bernardo. Long live the King!\n",
      "\n",
      "Francisco. Bernardo?5\n",
      "\n",
      "Bernardo. He.\n",
      "\n",
      "Francisco. You come most carefully upon your hour.\n",
      "\n",
      "Bernardo. 'Tis now struck twelve. Get thee to bed, Francisco.\n",
      "\n",
      "Francisco. For this relief much thanks. 'Tis bitter cold,\n",
      "\n",
      "And I am sick at heart.10\n",
      "\n",
      "Bernardo. Have you had quiet guard?\n",
      "\n",
      "Francisco. Not a mouse stirring.\n",
      "\n",
      "Bernardo. Well, good night.\n",
      "\n",
      "If you do meet Horatio and Marcellus,\n",
      "\n",
      "The rivals of my watch, bid them make haste.15\n"
     ]
    }
   ],
   "source": [
    "# Open, read, and print out the lines from hamlet here\n",
    "\n",
    "with open(hamlet_path, \"r\") as f:\n",
    "    lines = f.readlines()\n",
    "    \n",
    "for line in lines:\n",
    "    print(line)"
   ]
  },
  {
   "cell_type": "markdown",
   "id": "04a97fdb-a730-4f0e-9d66-13dba6da4169",
   "metadata": {},
   "source": [
    "***\n",
    "\n",
    "⚙️ ***Exercise B-09.02:*** \n",
    "\n",
    "- Can you write a file called \"numbers.txt\" that contains the numbers 1 to 10, each on a new line?\n",
    "- Can you read it in?\n",
    "    - *Yes, but the numbers are text objects with a trailing \"\\n\". We can remove these via using the `.strip()` method. We could then further cast them to integers using `int`.*\n",
    "- Do you know where the file went on your file system?\n",
    "    - *Unless a relative or absolute path has been defined, files will always be written to the current working directory. (Usually wherever the running file resides.)*\n",
    "    \n",
    "***"
   ]
  },
  {
   "cell_type": "code",
   "execution_count": 7,
   "id": "65f1df8b-5891-43ff-99ca-d03a8c5f83bf",
   "metadata": {},
   "outputs": [
    {
     "name": "stdout",
     "output_type": "stream",
     "text": [
      "['1\\n', '2\\n', '3\\n', '4\\n', '5\\n', '6\\n', '7\\n', '8\\n', '9\\n', '10\\n']\n"
     ]
    }
   ],
   "source": [
    "with open(\"numbers.txt\", \"w\") as f:\n",
    "    for ii in range(1, 11):\n",
    "        f.write(str(ii) + \"\\n\")\n",
    "        \n",
    "with open(\"numbers.txt\", \"r\") as f:\n",
    "    numbers = f.readlines()\n",
    "    \n",
    "print(numbers)"
   ]
  }
 ],
 "metadata": {
  "kernelspec": {
   "display_name": "Python 3 (ipykernel)",
   "language": "python",
   "name": "python3"
  },
  "language_info": {
   "codemirror_mode": {
    "name": "ipython",
    "version": 3
   },
   "file_extension": ".py",
   "mimetype": "text/x-python",
   "name": "python",
   "nbconvert_exporter": "python",
   "pygments_lexer": "ipython3",
   "version": "3.10.9"
  }
 },
 "nbformat": 4,
 "nbformat_minor": 5
}
