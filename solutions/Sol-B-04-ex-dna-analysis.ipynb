{
 "cells": [
  {
   "cell_type": "markdown",
   "id": "ac3f5b79-7ace-4e0c-b625-43c19e44e978",
   "metadata": {},
   "source": [
    "<img src=\"../graphics/icr_logo.png\" alt=\"drawing\" width=\"300\"/>\n",
    "\n",
    "# Basic programming with Python\n",
    "## Part 04: DNA Analysis\n",
    "\n",
    "With a few tweaks, we can extend the codon script to analyse a DNA sequence; Thalassiosira pseudonana CCMP1335 breast cancer 2 early onset (BRCA2).\n",
    "\n",
    "***\n",
    "\n",
    "⚙️ ***Exercise B-04.01:*** \n",
    "- Count the number of occurances of each distinct codon from the BRCA2 sequence.\n",
    "\n",
    "***"
   ]
  },
  {
   "cell_type": "code",
   "execution_count": 5,
   "id": "621646a5-2037-4195-a51e-5c3994ce8dcf",
   "metadata": {
    "tags": []
   },
   "outputs": [
    {
     "name": "stdout",
     "output_type": "stream",
     "text": [
      "{'ttt': 0, 'ttc': 0, 'tta': 0, 'ttg': 0, 'tct': 0, 'tcc': 0, 'tca': 0, 'tcg': 0, 'tat': 0, 'tac': 0, 'taa': 0, 'tag': 0, 'tgt': 0, 'tgc': 0, 'tga': 0, 'tgg': 0, 'ctt': 0, 'ctc': 0, 'cta': 0, 'ctg': 0, 'cct': 0, 'ccc': 0, 'cca': 0, 'ccg': 0, 'cat': 0, 'cac': 0, 'caa': 0, 'cag': 0, 'cgt': 0, 'cgc': 0, 'cga': 0, 'cgg': 0, 'att': 0, 'atc': 0, 'ata': 0, 'atg': 0, 'act': 0, 'acc': 0, 'aca': 0, 'acg': 0, 'aat': 0, 'aac': 0, 'aaa': 0, 'aag': 0, 'agt': 0, 'agc': 0, 'aga': 0, 'agg': 0, 'gtt': 0, 'gtc': 0, 'gta': 0, 'gtg': 0, 'gct': 0, 'gcc': 0, 'gca': 0, 'gcg': 0, 'gat': 0, 'gac': 0, 'gaa': 0, 'gag': 0, 'ggt': 0, 'ggc': 0, 'gga': 0, 'ggg': 0}\n"
     ]
    }
   ],
   "source": [
    "bases = ('t', 'c', 'a', 'g')\n",
    "\n",
    "codon_counters = {}\n",
    "\n",
    "# Start base pairs\n",
    "for base1 in bases:\n",
    "    for base2 in bases:\n",
    "        for base3 in bases:\n",
    "            # Add a key to the codon_counters dictionary using the bases you have iterated over.\n",
    "            # What is their initial \"count\"?\n",
    "            codon_counters[base1 + base2 + base3] = 0\n",
    "            \n",
    "\n",
    "# Check whether our calculation makes sense\n",
    "print(codon_counters)"
   ]
  },
  {
   "cell_type": "code",
   "execution_count": 1,
   "id": "f000c2ef-f695-420b-81d8-1d2aa921f440",
   "metadata": {
    "tags": []
   },
   "outputs": [],
   "source": [
    "# You don't need to modify this cell: we have just defined the sequence here.\n",
    "\n",
    "# https://www.genome.jp/dbget-bin/www_bget?tps:THAPS_263089\n",
    "# Thalassiosira pseudonana CCMP1335 breast cancer 2 early onset (BRAC2), partial mRNA\n",
    "DNA_seq = 'gggtgcgacgattcattgttttcggacaagtggataggcaaccactaccggtggattgtc' + \\\n",
    "          'tggaagctagcagcaatggagagacggtttccacaccatcttggaggacattacttgacg' + \\\n",
    "          'tacgagcgtgtgctgaaacaaatgaagggccgctacgataaggaacttcgtaatttcaga' + \\\n",
    "          'cggcctgcagtacgcataatgctcaaccgagatgttgcagcgagtttgccagtcatctta' + \\\n",
    "          'tgcgtaagccaaatccttcgattcaaatcaagaccgccaaaaggaagttcttccgacgag' + \\\n",
    "          'atcaaagaagaagtccgactggagttgacggatggatggtactcactacctgctgtagtg' + \\\n",
    "          'gacgaaatactgttgaagtttgttgaagaaaggagaatcgcagtgggatcaaaactaatg' + \\\n",
    "          'atttgcaatgggcagttagttggatctgatgacggagtggagcctctcgatgacagctac' + \\\n",
    "          'tcatcttccaaacgagattgtcctctattgctgggcatctctgccaacaactcccgttta' + \\\n",
    "          'gcaagatgggatgcaactctaggttttgtacctcgcaacaactctaatctatacggcggc' + \\\n",
    "          'aatcttttggtcaaatccctgcaagacattttcatcggcggaggtactgttccggctatt' + \\\n",
    "          'gatttggttgtttgtaagaagtacccaaggatgtttctagagcaattaaacggtggagct' + \\\n",
    "          'tccattcatcttacagaagccgaagaagcagcacgccaaagtgagtacgattcaaggcat' + \\\n",
    "          'cagcgagcaagcgagagatatgccgacgatgctacgaaggaatgttcagaggtaagttca' + \\\n",
    "          'ttgctgttcacattcttcactatgaagccacttccgttgctttggtacaatcttgtcact' + \\\n",
    "          'gactcatcttttggcgttcatgattcgcacaggaaatcgatgaggatgctcctactcagt' + \\\n",
    "          'ggaaagagatga'\n",
    "\n",
    "# Calculate length of sequence\n",
    "sequence_length = len(DNA_seq)"
   ]
  },
  {
   "cell_type": "code",
   "execution_count": 2,
   "id": "647b2159-e0ce-4894-8239-26ffe3169973",
   "metadata": {
    "tags": []
   },
   "outputs": [
    {
     "ename": "NameError",
     "evalue": "name 'codon_counters' is not defined",
     "output_type": "error",
     "traceback": [
      "\u001b[1;31m---------------------------------------------------------------------------\u001b[0m",
      "\u001b[1;31mNameError\u001b[0m                                 Traceback (most recent call last)",
      "Cell \u001b[1;32mIn[2], line 9\u001b[0m\n\u001b[0;32m      6\u001b[0m codon \u001b[38;5;241m=\u001b[39m DNA_seq[index_start:index_end]\n\u001b[0;32m      8\u001b[0m \u001b[38;5;66;03m# Update the codon_counters dictionary object\u001b[39;00m\n\u001b[1;32m----> 9\u001b[0m \u001b[43mcodon_counters\u001b[49m[codon] \u001b[38;5;241m+\u001b[39m\u001b[38;5;241m=\u001b[39m \u001b[38;5;241m1\u001b[39m\n",
      "\u001b[1;31mNameError\u001b[0m: name 'codon_counters' is not defined"
     ]
    }
   ],
   "source": [
    "# Iterate over the number of trinucleotides: starting with index locations 0, 3, 6, ....\n",
    "for index_start in range(0, sequence_length, 3):    \n",
    "    index_end = index_start + 3\n",
    "\n",
    "    # Get slices of the sequence using the variables index_start and index_end\n",
    "    codon = DNA_seq[index_start:index_end]\n",
    "\n",
    "    # Update the codon_counters dictionary object\n",
    "    codon_counters[codon] += 1"
   ]
  },
  {
   "cell_type": "code",
   "execution_count": 3,
   "id": "b0d12c7a-d237-4569-b3d0-ca9af608087a",
   "metadata": {
    "tags": []
   },
   "outputs": [
    {
     "ename": "NameError",
     "evalue": "name 'codon_counters' is not defined",
     "output_type": "error",
     "traceback": [
      "\u001b[1;31m---------------------------------------------------------------------------\u001b[0m",
      "\u001b[1;31mNameError\u001b[0m                                 Traceback (most recent call last)",
      "Cell \u001b[1;32mIn[3], line 2\u001b[0m\n\u001b[0;32m      1\u001b[0m \u001b[38;5;66;03m# Iterate over (key, value) pairs in the codon_counters dictionary\u001b[39;00m\n\u001b[1;32m----> 2\u001b[0m \u001b[38;5;28;01mfor\u001b[39;00m key, value \u001b[38;5;129;01min\u001b[39;00m \u001b[43mcodon_counters\u001b[49m\u001b[38;5;241m.\u001b[39mitems():\n\u001b[0;32m      3\u001b[0m \n\u001b[0;32m      4\u001b[0m     \u001b[38;5;66;03m# If the value is greater than zero, we'll print it out\u001b[39;00m\n\u001b[0;32m      5\u001b[0m     \u001b[38;5;28;01mif\u001b[39;00m value \u001b[38;5;241m>\u001b[39m \u001b[38;5;241m0\u001b[39m:\n\u001b[0;32m      6\u001b[0m         \u001b[38;5;28mprint\u001b[39m(key, \u001b[38;5;124m\"\u001b[39m\u001b[38;5;124m:\u001b[39m\u001b[38;5;124m\"\u001b[39m, value)\n",
      "\u001b[1;31mNameError\u001b[0m: name 'codon_counters' is not defined"
     ]
    }
   ],
   "source": [
    "# Iterate over (key, value) pairs in the codon_counters dictionary\n",
    "for key, value in codon_counters.items():\n",
    "\n",
    "    # If the value is greater than zero, we'll print it out\n",
    "    if value > 0:\n",
    "        print(key, \":\", value)\n"
   ]
  },
  {
   "cell_type": "code",
   "execution_count": null,
   "id": "acfab686-7578-4009-a7f7-c3849cf9374c",
   "metadata": {},
   "outputs": [],
   "source": []
  }
 ],
 "metadata": {
  "kernelspec": {
   "display_name": "Python 3 (ipykernel)",
   "language": "python",
   "name": "python3"
  },
  "language_info": {
   "codemirror_mode": {
    "name": "ipython",
    "version": 3
   },
   "file_extension": ".py",
   "mimetype": "text/x-python",
   "name": "python",
   "nbconvert_exporter": "python",
   "pygments_lexer": "ipython3",
   "version": "3.10.9"
  }
 },
 "nbformat": 4,
 "nbformat_minor": 5
}
