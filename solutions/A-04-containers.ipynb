{
 "cells": [
  {
   "cell_type": "markdown",
   "id": "3b3c9c4f-5899-4df9-a7dc-c788d36a4982",
   "metadata": {},
   "source": [
    "<img src=\"../graphics/icr_logo.png\" alt=\"drawing\" width=\"300\"/>\n",
    "\n",
    "# An introduction to programming with Python\n",
    "## Part 04: Container types\n",
    "\n",
    "In python, we can collect multiple objects into single variables into containers. The standard container objects are known as\n",
    "\n",
    "- lists\n",
    "- tuples\n",
    "- dictionaries\n",
    "- sets\n",
    "\n",
    "In this introductory course, we will primarily focus on *lists*, and to a lesser extent discuss *tuples*.  \n",
    "Each container has its own properties. The choice of which therefore depends on the problem at hand.\n",
    "\n",
    "### Lists\n",
    "\n",
    "We can define a list as a variable, using the assignment operator in the usual way. The right hand operator, which defines the list container,\n",
    "should be comma seperated collection of objects, enclosed in square brackets `[...]`.\n",
    "\n",
    "For example, we can define a list of animals, as shown below"
   ]
  },
  {
   "cell_type": "code",
   "execution_count": 1,
   "id": "5dacc25d-5095-46d4-8f91-bd47943904c3",
   "metadata": {},
   "outputs": [
    {
     "name": "stdout",
     "output_type": "stream",
     "text": [
      "['dog', 'cat', 'mouse', 'fish']\n"
     ]
    }
   ],
   "source": [
    "animals = [\"dog\", \"cat\", \"mouse\", \"fish\"]\n",
    "print(animals)"
   ]
  },
  {
   "cell_type": "markdown",
   "id": "4076073f-0143-49b0-b7f6-2332adede87c",
   "metadata": {},
   "source": [
    "***\n",
    "\n",
    "⚙️ ***Exercise A4.1:***: \n",
    "- Add a `\"fish\"` to this list given above and re-run the cell\n",
    "\n",
    "***"
   ]
  },
  {
   "cell_type": "markdown",
   "id": "cbaabed6-fd29-4731-8bdf-0340469fbddc",
   "metadata": {},
   "source": [
    "#### Indexing\n",
    "\n",
    "A list in python is ordered. The position of an **element** within the list is defined by an index, which starts counting from zero, then incremented from left-to-right.  \n",
    "For our list of animals (assuming you have added the `\"fish\"`), the element values and corresponding indices are given by\n",
    "\n",
    "|       |     |     |       |      |\n",
    "| --:   | :-- | :-- | :--   | :--  |    \n",
    "| **Value** | \"dog\" | \"cat\" | \"mouse\" | \"fish\" |\n",
    "| **Index** | 0   | 1   | 2     | 3    |\n",
    "\n",
    "We can get an element from a list using its index number. This process is known as **indexing**.\n",
    "\n",
    "For example, in the cell below, we see that the zeroth element of the list will return \"dog\": "
   ]
  },
  {
   "cell_type": "code",
   "execution_count": 2,
   "id": "f4db29fc-4166-4935-8189-961f72fd469d",
   "metadata": {},
   "outputs": [
    {
     "data": {
      "text/plain": [
       "'dog'"
      ]
     },
     "execution_count": 2,
     "metadata": {},
     "output_type": "execute_result"
    }
   ],
   "source": [
    "animals[0]"
   ]
  },
  {
   "cell_type": "markdown",
   "id": "ff37e27d-77cf-4b53-9046-4aa28a021531",
   "metadata": {},
   "source": [
    "***\n",
    "\n",
    "⚙️ ***Exercise A4.2:*** \n",
    "- Retrieve the value `\"fish\"` via *indexing* the list `animals`\n",
    "\n",
    "***"
   ]
  },
  {
   "cell_type": "code",
   "execution_count": 6,
   "id": "4593bd79-2b47-4d3f-b90f-73e55fa69bff",
   "metadata": {
    "tags": []
   },
   "outputs": [
    {
     "data": {
      "text/plain": [
       "'fish'"
      ]
     },
     "execution_count": 6,
     "metadata": {},
     "output_type": "execute_result"
    }
   ],
   "source": [
    "animals[3]"
   ]
  },
  {
   "cell_type": "markdown",
   "id": "892323be-48dc-45a9-9d2f-fd8c06cd407d",
   "metadata": {},
   "source": [
    "Instead of indexing a list by its position counting *forwards*, we can do so counting *backwards*. In this picture, we count from -1, -2, ...\n",
    "\n",
    "Using the animals excample, we can therefore define\n",
    "\n",
    "|       |     |     |       |      |\n",
    "| --:   | :-- | :-- | :--   | :--  |    \n",
    "| **Value** | \"dog\" | \"cat\" | \"mouse\" | \"fish\" |\n",
    "| **Index** | -4   | -3   | -2     | -1    |\n",
    "\n",
    "***\n",
    "\n",
    "⚙️ ***Exercise A4.3:*** \n",
    "- Verify that the zeroth element of `animals` is equal to the -4th element of `animals` using a *boolean* operator.\n",
    "\n",
    "***"
   ]
  },
  {
   "cell_type": "code",
   "execution_count": 5,
   "id": "be84bbfa-758c-4c06-88c9-b80bc52aa7c1",
   "metadata": {
    "tags": []
   },
   "outputs": [
    {
     "data": {
      "text/plain": [
       "True"
      ]
     },
     "execution_count": 5,
     "metadata": {},
     "output_type": "execute_result"
    }
   ],
   "source": [
    "animals[-4] == animals[0]"
   ]
  },
  {
   "cell_type": "markdown",
   "id": "da8d2167-2467-4902-badb-0115448ba3b6",
   "metadata": {},
   "source": [
    "#### Slicing\n",
    "\n",
    "We can use two indices to *slice* a list into another list. The general syntax for doing so is: `my_list[START:STOP]`\n",
    "\n",
    "The sliced list contains all the elements from the `START` index, **up to but excluding** the `STOP` index.\n",
    "\n",
    "***\n",
    "\n",
    "⚙️ ***Exercise A4.4:*** \n",
    "- In the cell below, slice the  `my_list` to extract the list `[5, 6, 7, 8]`\n",
    "\n",
    "***"
   ]
  },
  {
   "cell_type": "code",
   "execution_count": 4,
   "id": "abeb1757-cfc5-4672-b4ba-8099ea455841",
   "metadata": {},
   "outputs": [
    {
     "name": "stdout",
     "output_type": "stream",
     "text": [
      "[5, 6, 7, 8]\n"
     ]
    }
   ],
   "source": [
    "my_list = [1, 2, 3, 4, 5, 6, 7, 8, 9, 10]\n",
    "\n",
    "print(my_list[4:8])"
   ]
  },
  {
   "cell_type": "markdown",
   "id": "0dbf46e5-7a6e-4bc9-bbbb-d0a2fbd3782f",
   "metadata": {},
   "source": [
    "#### Lists are mutable\n",
    "\n",
    "One important property of lists is that they are mutable. This means that they can be modified and/or deleted.\n",
    "\n",
    "In the example below, we correct a typo in a list of words:\n",
    "\n",
    "Observe how we this achieved in the following cell:"
   ]
  },
  {
   "cell_type": "code",
   "execution_count": 7,
   "id": "d5f001ae-3b7e-4a88-961d-b979318e7b6d",
   "metadata": {
    "tags": []
   },
   "outputs": [
    {
     "name": "stdout",
     "output_type": "stream",
     "text": [
      "['Instituet', 'of', 'Cancer', 'Research']\n",
      "['Institute', 'of', 'Cancer', 'Research']\n"
     ]
    }
   ],
   "source": [
    "words = [\"Instituet\", \"of\", \"Cancer\", \"Research\"]\n",
    "print(words)\n",
    "\n",
    "words[0] = \"Institute\"\n",
    "print(words)"
   ]
  },
  {
   "cell_type": "markdown",
   "id": "2e3d835b-5c17-4000-8784-b4889779a323",
   "metadata": {
    "tags": []
   },
   "source": [
    "***\n",
    "\n",
    "⚙️ ***Exercise A4.5:*** \n",
    "- In the cell below we have defined an erroneous list of odd numbers. Correct the numbers in a similar way as we showed in the previous example.\n",
    "\n",
    "***"
   ]
  },
  {
   "cell_type": "code",
   "execution_count": 8,
   "id": "385bd0cb-acfd-4806-b799-943b4cba2a3f",
   "metadata": {},
   "outputs": [
    {
     "name": "stdout",
     "output_type": "stream",
     "text": [
      "[1, 3, 4, 8, 9]\n",
      "[1, 3, 5, 7, 9]\n"
     ]
    }
   ],
   "source": [
    "odd_numbers = [1, 3, 4, 8, 9]\n",
    "print(odd_numbers)\n",
    "\n",
    "# Fix the first even number here\n",
    "odd_numbers[2] = 5\n",
    "\n",
    "# Fix the second even number here\n",
    "odd_numbers[3] = 7\n",
    "\n",
    "print(odd_numbers)"
   ]
  },
  {
   "cell_type": "markdown",
   "id": "286b6da2-85a2-4bcb-8e31-2a540da432c2",
   "metadata": {},
   "source": [
    "We can similarly apply the same logic to mutate multiple list elements simultaneously using *index slicing*.\n",
    "\n",
    "***\n",
    "\n",
    "⚙️ ***Exercise A4.6:*** \n",
    "- Repeat the previous exercise but now using an index slice to assign the two values of 5 & 7.\n",
    "\n",
    "***"
   ]
  },
  {
   "cell_type": "code",
   "execution_count": 10,
   "id": "f11b9c8c-f387-4413-8912-2642d00ebc21",
   "metadata": {
    "tags": []
   },
   "outputs": [
    {
     "name": "stdout",
     "output_type": "stream",
     "text": [
      "[1, 3, 4, 8, 9]\n",
      "[1, 3, 5, 7, 9]\n"
     ]
    }
   ],
   "source": [
    "odd_numbers = [1, 3, 4, 8, 9]\n",
    "print(odd_numbers)\n",
    "\n",
    "# Fix both even numbers here\n",
    "odd_numbers[2:4] = [5, 7]  # NOTE: Remember that the upper index is excluded, hence 2:4 not 2:3 here.\n",
    "\n",
    "print(odd_numbers)"
   ]
  },
  {
   "cell_type": "markdown",
   "id": "5218c6ca-974f-4d9d-8ad9-cdd320ab7dd7",
   "metadata": {},
   "source": [
    "Instead of modifying list elements, we can also **delete** them. To do so, we make use of the `del` operator, as shown in the cell below"
   ]
  },
  {
   "cell_type": "code",
   "execution_count": 16,
   "id": "4c53e937-772a-420b-99b6-1169c7788d9e",
   "metadata": {},
   "outputs": [
    {
     "name": "stdout",
     "output_type": "stream",
     "text": [
      "['parrot', 'heron', 'seagull', 'donkey']\n",
      "['parrot', 'heron', 'seagull']\n"
     ]
    }
   ],
   "source": [
    "birds = [\"parrot\", \"heron\", \"seagull\", \"donkey\"]\n",
    "print(birds)\n",
    "\n",
    "del birds[-1]\n",
    "print(birds)"
   ]
  },
  {
   "cell_type": "markdown",
   "id": "e979c08f-8f57-4d65-8087-ccb925cd8e9d",
   "metadata": {
    "tags": []
   },
   "source": [
    "***\n",
    "\n",
    "⚙️ ***Exercise A4.7:*** \n",
    "- Copy and paste the previous cell containing the deletion example below. What happens if you continue to repeat `del birds[-1]` another 3 or 4 times?\n",
    "    - *3 times results in an empty list*\n",
    "    - *4 times results in `IndexError`. The list assignment is out of range! Meaning that, because we have no elements, we cannot index anything... The same error would occur if we had only one element, and attempted to index by 2.*\n",
    "***"
   ]
  },
  {
   "cell_type": "code",
   "execution_count": 17,
   "id": "b1f15eaf-e24b-47f6-b8ed-0cbcd6df5f4a",
   "metadata": {
    "tags": []
   },
   "outputs": [
    {
     "name": "stdout",
     "output_type": "stream",
     "text": [
      "['parrot', 'heron', 'seagull', 'donkey']\n"
     ]
    },
    {
     "ename": "IndexError",
     "evalue": "list assignment index out of range",
     "output_type": "error",
     "traceback": [
      "\u001b[1;31m---------------------------------------------------------------------------\u001b[0m",
      "\u001b[1;31mIndexError\u001b[0m                                Traceback (most recent call last)",
      "Cell \u001b[1;32mIn[17], line 8\u001b[0m\n\u001b[0;32m      6\u001b[0m \u001b[38;5;28;01mdel\u001b[39;00m birds[\u001b[38;5;241m-\u001b[39m\u001b[38;5;241m1\u001b[39m]\n\u001b[0;32m      7\u001b[0m \u001b[38;5;28;01mdel\u001b[39;00m birds[\u001b[38;5;241m-\u001b[39m\u001b[38;5;241m1\u001b[39m]\n\u001b[1;32m----> 8\u001b[0m \u001b[38;5;28;01mdel\u001b[39;00m \u001b[43mbirds\u001b[49m\u001b[43m[\u001b[49m\u001b[38;5;241;43m-\u001b[39;49m\u001b[38;5;241;43m1\u001b[39;49m\u001b[43m]\u001b[49m\n\u001b[0;32m      9\u001b[0m \u001b[38;5;28mprint\u001b[39m(birds)\n",
      "\u001b[1;31mIndexError\u001b[0m: list assignment index out of range"
     ]
    }
   ],
   "source": [
    "birds = [\"parrot\", \"heron\", \"seagull\", \"donkey\"]\n",
    "print(birds)\n",
    "\n",
    "del birds[-1]\n",
    "del birds[-1]\n",
    "del birds[-1]\n",
    "del birds[-1]\n",
    "del birds[-1]\n",
    "print(birds)"
   ]
  },
  {
   "cell_type": "markdown",
   "id": "f7524f31-4f80-4f6d-94be-8d0e6f421c4a",
   "metadata": {},
   "source": [
    "It is often case that we will not have prior knowledge of a lists content. A quick way to see how many elements we have, is to use the `len(<list>)` (short for length) function.\n",
    "\n",
    "***\n",
    "\n",
    "⚙️ ***Exercise A4.8:*** \n",
    "1. Create a new cell below.\n",
    "2. Create a list of your choosing.\n",
    "3. Print out the number of elements inside of that list using the length function and confirm it is as you expect.\n",
    "\n",
    "***"
   ]
  },
  {
   "cell_type": "code",
   "execution_count": 18,
   "id": "2912f687-355b-4664-a1f7-d04680720385",
   "metadata": {
    "tags": []
   },
   "outputs": [
    {
     "name": "stdout",
     "output_type": "stream",
     "text": [
      "3\n"
     ]
    }
   ],
   "source": [
    "new_list = [\"foo\", \"bar\", \"python\"]  # 3 elements\n",
    "print(len(new_list))"
   ]
  },
  {
   "cell_type": "markdown",
   "id": "215d1960-7c59-4540-af4e-9b1c918587a9",
   "metadata": {},
   "source": [
    "#### Other list properties\n",
    "\n",
    "We can add lists together, in a process known as concatenation:"
   ]
  },
  {
   "cell_type": "code",
   "execution_count": 19,
   "id": "4e528055-97ca-46de-b5c7-941adb9303e7",
   "metadata": {},
   "outputs": [
    {
     "data": {
      "text/plain": [
       "[1, 2, 'dog', 'cat']"
      ]
     },
     "execution_count": 19,
     "metadata": {},
     "output_type": "execute_result"
    }
   ],
   "source": [
    "list_a = [1, 2]\n",
    "list_b = [\"dog\", \"cat\"]\n",
    "list_a + list_b"
   ]
  },
  {
   "cell_type": "markdown",
   "id": "8df9ce62-8fa6-44f7-84b5-76b0dcf4920e",
   "metadata": {},
   "source": [
    "Lists can be repeated, by multiplying them with an integer"
   ]
  },
  {
   "cell_type": "code",
   "execution_count": 20,
   "id": "9980981d-5c13-4dc7-a6d7-9fdde372367f",
   "metadata": {},
   "outputs": [
    {
     "data": {
      "text/plain": [
       "[1, 2, 3, 1, 2, 3, 1, 2, 3, 1, 2, 3]"
      ]
     },
     "execution_count": 20,
     "metadata": {},
     "output_type": "execute_result"
    }
   ],
   "source": [
    "[1, 2, 3] * 4"
   ]
  },
  {
   "cell_type": "markdown",
   "id": "86a30c6f-9631-4c7b-998b-4c66bc7e6e61",
   "metadata": {},
   "source": [
    "#### List methods\n",
    "\n",
    "Lists have many *methods that are bound to them*. One useful example, is the `append(...)` method, as illustrated below  "
   ]
  },
  {
   "cell_type": "code",
   "execution_count": 21,
   "id": "d4ce8493-5654-4642-a8d8-d702fb0a1b59",
   "metadata": {},
   "outputs": [
    {
     "name": "stdout",
     "output_type": "stream",
     "text": [
      "[1, 2, 3, 4]\n",
      "[1, 2, 3, 4, 5]\n"
     ]
    }
   ],
   "source": [
    "my_list = [1, 2, 3, 4]\n",
    "print(my_list)\n",
    "\n",
    "my_list.append(5)\n",
    "print(my_list)"
   ]
  },
  {
   "cell_type": "markdown",
   "id": "8d8b8329-0ca0-4a2c-8d1b-4b27c09149d0",
   "metadata": {},
   "source": [
    "Some further list methods are as follows\n",
    "\n",
    "| Method      | Description           \n",
    "| :---        |:---            \n",
    "| append(<value>)    | Adds an element of some <value> to the end of the list       \n",
    "| clear()            | Removes all the elements from the list\n",
    "| copy()             | Returns a copy of the list \n",
    "| count(<value>)     | Returns the number of elements of whose value equals <value>\n",
    "| extend(<iterable>) | Adds all elements from an iterable object, such as a list, to the end of the list\n",
    "| index(<value>)     | Returns the index of the first element with the specified value \n",
    "| insert(<index_location>, <value>)    | Insert an element of some <value> into the list a position with <index_location>\n",
    "| pop(<index_location>)              | Removes and returns an element from a list. If no <index_location> is specified, removes the last element\n",
    "| remove(<value>)    | Removes the first occurance of <value> from the list\n",
    "| reverse()          | Reverses the order of the list\n",
    "| sort()             | Sorts the values within a list\n",
    "\n",
    "***\n",
    "\n",
    "⚙️ ***Exercise A4.9:***\n",
    "- Run the following cell, then try replacing the \"clear\" method with some other methods. You may need to add a value depending on your choices! \n",
    "\n",
    "***"
   ]
  },
  {
   "cell_type": "code",
   "execution_count": 22,
   "id": "314bfb3a-bb2f-46cc-8b66-60c2bfdf1c74",
   "metadata": {},
   "outputs": [
    {
     "name": "stdout",
     "output_type": "stream",
     "text": [
      "[1, 2, 3]\n",
      "[3, 2, 1]\n"
     ]
    }
   ],
   "source": [
    "great_list = [1, 2, 3]\n",
    "print(great_list)\n",
    "\n",
    "# great_list.clear()\n",
    "# print(great_list)\n",
    "\n",
    "great_list.reverse()\n",
    "print(great_list)"
   ]
  },
  {
   "cell_type": "markdown",
   "id": "b7be5ee2-4968-480c-89ef-0bb69c94a8cc",
   "metadata": {},
   "source": [
    "### Tuples\n",
    "\n",
    "Tuples have similar properties to lists...\n",
    "\n",
    "1. They are containers\n",
    "2. They can contain values of different data types\n",
    "3. They can be indexed and sliced\n",
    "\n",
    "... But they are not the same.\n",
    "\n",
    "***\n",
    "\n",
    "⚙️ ***Exercise A4.10:***\n",
    "- Try modifying the value of the zeroth element of the tuple in the following cell.\n",
    "\n",
    "***"
   ]
  },
  {
   "cell_type": "code",
   "execution_count": 23,
   "id": "3d751a04-4dd0-4310-ab6d-bfc15eb49f58",
   "metadata": {},
   "outputs": [
    {
     "ename": "TypeError",
     "evalue": "'tuple' object does not support item assignment",
     "output_type": "error",
     "traceback": [
      "\u001b[1;31m---------------------------------------------------------------------------\u001b[0m",
      "\u001b[1;31mTypeError\u001b[0m                                 Traceback (most recent call last)",
      "Cell \u001b[1;32mIn[23], line 2\u001b[0m\n\u001b[0;32m      1\u001b[0m tuple_of_nums \u001b[38;5;241m=\u001b[39m (\u001b[38;5;241m1\u001b[39m, \u001b[38;5;241m2\u001b[39m, \u001b[38;5;241m3\u001b[39m)\n\u001b[1;32m----> 2\u001b[0m \u001b[43mtuple_of_nums\u001b[49m\u001b[43m[\u001b[49m\u001b[38;5;241;43m0\u001b[39;49m\u001b[43m]\u001b[49m \u001b[38;5;241m=\u001b[39m \u001b[38;5;241m0\u001b[39m\n",
      "\u001b[1;31mTypeError\u001b[0m: 'tuple' object does not support item assignment"
     ]
    }
   ],
   "source": [
    "tuple_of_nums = (1, 2, 3)\n",
    "tuple_of_nums[0] = 0"
   ]
  },
  {
   "cell_type": "markdown",
   "id": "f13489e7-ced4-4e84-86fb-85e0435a855f",
   "metadata": {
    "tags": []
   },
   "source": [
    "A fundamental distinction is that tuples are *immutable* objects."
   ]
  },
  {
   "cell_type": "markdown",
   "id": "4ad80a57-73c6-4bc3-ae2c-a73b92b64051",
   "metadata": {},
   "source": [
    "### Some remarks on strings\n",
    "\n",
    "Strings (though not really a container) share some properties with lists and tuples... For example, strings can be multiplied with integers\n",
    "\n",
    "***\n",
    "\n",
    "⚙️ ***Exercise A4.11:***\n",
    "- Modify the print statement to show us the result of string multiplication with an integer.\n",
    "\n",
    "***"
   ]
  },
  {
   "cell_type": "code",
   "execution_count": 24,
   "id": "16d314d2-6c27-49c5-8636-8c2dffca2708",
   "metadata": {},
   "outputs": [
    {
     "name": "stdout",
     "output_type": "stream",
     "text": [
      "over and over and over and over and over and \n"
     ]
    }
   ],
   "source": [
    "my_str = \"over and \"\n",
    "\n",
    "print(my_str * 5)"
   ]
  },
  {
   "cell_type": "markdown",
   "id": "ffda433e-99b1-429a-a270-d6aaaed53a6e",
   "metadata": {},
   "source": [
    "You can also check the string's length\n",
    "\n",
    "***\n",
    "\n",
    "⚙️ ***Exercise A4.12:***\n",
    "- Create a cell below and use the `len` function to check its length.\n",
    "\n",
    "***"
   ]
  },
  {
   "cell_type": "code",
   "execution_count": 25,
   "id": "1cd8ae3f-2e08-4f5c-a8e4-dad814d9e93f",
   "metadata": {
    "tags": []
   },
   "outputs": [
    {
     "data": {
      "text/plain": [
       "13"
      ]
     },
     "execution_count": 25,
     "metadata": {},
     "output_type": "execute_result"
    }
   ],
   "source": [
    "test_str = \"Python is rad\"\n",
    "len(test_str)"
   ]
  },
  {
   "cell_type": "markdown",
   "id": "1808f99b-37f9-473f-9e52-aca9a8edb24f",
   "metadata": {},
   "source": [
    "Strings can also be sliced to extract sub-strings\n",
    "\n",
    "***\n",
    "\n",
    "⚙️ ***Exercise A4.13:*** \n",
    "- In the cell below, try to manipulate the string variable using index slicing to return the world, \"Hello\"\n",
    "\n",
    "***"
   ]
  },
  {
   "cell_type": "code",
   "execution_count": 26,
   "id": "ccc88867-20e6-4c9b-a1aa-52a68c84c8b7",
   "metadata": {},
   "outputs": [
    {
     "data": {
      "text/plain": [
       "'Hello'"
      ]
     },
     "execution_count": 26,
     "metadata": {},
     "output_type": "execute_result"
    }
   ],
   "source": [
    "my_str = \"Hello, World!\"\n",
    "my_str[0:5] # could also my_str[:5]"
   ]
  },
  {
   "cell_type": "markdown",
   "id": "572bd0a5-4224-4917-8153-c2f22b19ca6c",
   "metadata": {},
   "source": [
    "It is worth noting that strings are immutable.\n",
    "\n",
    "***\n",
    "\n",
    "⚙️ ***Exercise A4.14:*** \n",
    "- Try modifying or deleting an element in the cell in the cell below\n",
    "\n",
    "***"
   ]
  },
  {
   "cell_type": "code",
   "execution_count": 27,
   "id": "38b2c282-07ce-4180-89c7-1a68a9787e15",
   "metadata": {},
   "outputs": [
    {
     "ename": "TypeError",
     "evalue": "'str' object does not support item assignment",
     "output_type": "error",
     "traceback": [
      "\u001b[1;31m---------------------------------------------------------------------------\u001b[0m",
      "\u001b[1;31mTypeError\u001b[0m                                 Traceback (most recent call last)",
      "Cell \u001b[1;32mIn[27], line 2\u001b[0m\n\u001b[0;32m      1\u001b[0m text \u001b[38;5;241m=\u001b[39m \u001b[38;5;124m\"\u001b[39m\u001b[38;5;124mThis is a sentence.\u001b[39m\u001b[38;5;124m\"\u001b[39m\n\u001b[1;32m----> 2\u001b[0m \u001b[43mtext\u001b[49m\u001b[43m[\u001b[49m\u001b[38;5;241;43m0\u001b[39;49m\u001b[43m]\u001b[49m \u001b[38;5;241m=\u001b[39m \u001b[38;5;124m\"\u001b[39m\u001b[38;5;124mx\u001b[39m\u001b[38;5;124m\"\u001b[39m\n",
      "\u001b[1;31mTypeError\u001b[0m: 'str' object does not support item assignment"
     ]
    }
   ],
   "source": [
    "text = \"This is a sentence.\"\n",
    "text[0] = \"x\""
   ]
  }
 ],
 "metadata": {
  "kernelspec": {
   "display_name": "Python 3 (ipykernel)",
   "language": "python",
   "name": "python3"
  },
  "language_info": {
   "codemirror_mode": {
    "name": "ipython",
    "version": 3
   },
   "file_extension": ".py",
   "mimetype": "text/x-python",
   "name": "python",
   "nbconvert_exporter": "python",
   "pygments_lexer": "ipython3",
   "version": "3.10.9"
  }
 },
 "nbformat": 4,
 "nbformat_minor": 5
}
