{
 "cells": [
  {
   "cell_type": "markdown",
   "id": "87ef7037-0839-424b-9d34-876c9c2ed44b",
   "metadata": {},
   "source": [
    "<img src=\"graphics/icr_logo.png\" alt=\"drawing\" width=\"300\"/>\n",
    "\n",
    "# An introduction to programming with Python\n",
    "## Part 02: Variables and data types\n",
    "\n",
    "As previously mentioned, variables provide us with a way to store values inside a programs memory.  \n",
    "An important feature of variables is there associated **type**\n",
    "\n",
    "Let's define the following collection of variables"
   ]
  },
  {
   "cell_type": "code",
   "execution_count": 1,
   "id": "59caa5cb-2348-45a0-a14a-9c834a467306",
   "metadata": {},
   "outputs": [],
   "source": [
    "w = 1\n",
    "x = 1.0\n",
    "y = \"1\"\n",
    "z = True"
   ]
  },
  {
   "cell_type": "markdown",
   "id": "0ea5e34f-5376-48ae-b36d-78aaefa618e6",
   "metadata": {},
   "source": [
    "We can use the `type(...)` function to retrieve the corresponding type, e.g.,"
   ]
  },
  {
   "cell_type": "code",
   "execution_count": 3,
   "id": "b43d98af-1ab1-44fb-8ef0-21287c68156c",
   "metadata": {},
   "outputs": [
    {
     "data": {
      "text/plain": [
       "int"
      ]
     },
     "execution_count": 3,
     "metadata": {},
     "output_type": "execute_result"
    }
   ],
   "source": [
    "type(w)"
   ]
  },
  {
   "cell_type": "markdown",
   "id": "06cb7eb4-e6b5-416a-b13f-228999303854",
   "metadata": {},
   "source": [
    "**Quick exercise:** Check the type of the remaining variables `x, y, z`."
   ]
  },
  {
   "cell_type": "markdown",
   "id": "c1d13f97-ff05-47f4-8040-c9d25c8907e6",
   "metadata": {},
   "source": [
    "### Numerical types\n",
    "\n",
    "Python has two main types of number\n",
    "\n",
    "- `int` : Interegers are *whole* numbers. These can be zero, positively or negatively valued.\n",
    "- `float` : Floats, i.e., floating point numbers, can be thought of as decimals. They can similarly be zero, positively or negatively valued."
   ]
  },
  {
   "cell_type": "code",
   "execution_count": 4,
   "id": "ea8b0da4-9b91-4a05-8692-050928edd7b0",
   "metadata": {},
   "outputs": [],
   "source": [
    "# Integers\n",
    "int_zero = 0\n",
    "int_pos = 1\n",
    "int_neg = -1\n",
    "\n",
    "# Floats\n",
    "float_zero = 0.\n",
    "float_pos = 1.23\n",
    "float_neg = -1.56"
   ]
  },
  {
   "cell_type": "markdown",
   "id": "75fb49c6-69bd-42eb-a68c-2d3547b7fe7e",
   "metadata": {},
   "source": [
    "Sometimes we may want to switch between `float` and `int` types. We can do so using the `float(...)` and `int(...)` functions.\n",
    "\n",
    "**Quick exercise**: Check the type of the variables below after they are *cast* between types and inspect their resulting values. Is this what you expect?"
   ]
  },
  {
   "cell_type": "code",
   "execution_count": null,
   "id": "274ae796-d586-46ce-9313-dfce82cf23fa",
   "metadata": {},
   "outputs": [],
   "source": [
    "x1 = 1\n",
    "x2 = float(x1)\n",
    "\n",
    "y1 = 1.23\n",
    "y2 = int(y1)"
   ]
  },
  {
   "cell_type": "markdown",
   "id": "f58b5fe9-4a4d-4523-bc50-9980a5392322",
   "metadata": {},
   "source": [
    "### Strings\n",
    "\n",
    "Strings are used to represent textual information. In order to define a string, we can do so using double quotation or single quotation/apostrophe markers (`\"...\"` or `'...'`)"
   ]
  },
  {
   "cell_type": "code",
   "execution_count": 5,
   "id": "0637bf20-6ccf-4192-b464-b0edcc863a20",
   "metadata": {},
   "outputs": [],
   "source": [
    "a_string = \"This is a string!\"\n",
    "another_string = 'This is also a string :)'"
   ]
  },
  {
   "cell_type": "markdown",
   "id": "5696bc88-bfef-4aa7-8f25-f5281b2d2abf",
   "metadata": {},
   "source": [
    "You can embed one type of string marker inside of another. For example, if you want to use an apostrophe, you should then ensure the string markers are defined by double quotes:"
   ]
  },
  {
   "cell_type": "code",
   "execution_count": 13,
   "id": "eb299c09-250a-45be-a319-602b4da8ccd6",
   "metadata": {},
   "outputs": [],
   "source": [
    "amazing_words = \"I own 10 dogs\""
   ]
  },
  {
   "cell_type": "markdown",
   "id": "b0a0b5bc-f9d7-481c-8c4e-497262fade52",
   "metadata": {},
   "source": [
    "Similarly to our conversion between floats and integers, we can perform similar operations between strings using the `str(...)` operator"
   ]
  },
  {
   "cell_type": "code",
   "execution_count": 15,
   "id": "962a6f89-30e0-4094-a395-fd915943d802",
   "metadata": {},
   "outputs": [
    {
     "data": {
      "text/plain": [
       "(1234, '-89749343.444938')"
      ]
     },
     "execution_count": 15,
     "metadata": {},
     "output_type": "execute_result"
    }
   ],
   "source": [
    "initial_str = \"1234\"\n",
    "initial_float = -89749343.444938\n",
    "\n",
    "to_int = int(initial_str)\n",
    "to_str = str(initial_float)\n",
    "\n",
    "to_int, to_str"
   ]
  },
  {
   "cell_type": "markdown",
   "id": "43ae1577-8007-4685-a08b-15eef42c1e73",
   "metadata": {},
   "source": [
    "### Booleans\n",
    "\n",
    "Boolean values can be used to represent `True` and `False` values. **The capitalization of the leading letter is important!**"
   ]
  },
  {
   "cell_type": "code",
   "execution_count": null,
   "id": "62835ae1-8261-4348-958f-e314695b2493",
   "metadata": {},
   "outputs": [],
   "source": [
    "x1 = True\n",
    "x2 = true "
   ]
  },
  {
   "cell_type": "markdown",
   "id": "1ba0cc4b-25db-4013-98f9-7f7c04709fa8",
   "metadata": {},
   "source": [
    "**Quick question**: Run the following error and inspect the resulting error... what does this mean?\n",
    "\n",
    "Boolean values can used to control the behaviour of a program...\n",
    "E.g., \"Do this thing if my variable is True\"\n",
    "\n",
    "*More on this later.*"
   ]
  },
  {
   "cell_type": "markdown",
   "id": "4556752b-9fce-4303-9eee-b8536f3bbf90",
   "metadata": {},
   "source": [
    "### Summary of basic types\n",
    "\n",
    "- `int` : Integers ~ whole numbers\n",
    "- `float` : Floating point numbers ~ decimal numbers\n",
    "- `str` : Strings ~ text\n",
    "- `bool` : ~ True or False\n",
    "\n",
    "You can \"cast\" between types by appending `(...)` to the type name, e.g., `int(...)`.\n",
    "\n",
    "**Quick exercise:** Starting the integer variables defined below, try casting between the various types mentioned above... do these behave as you expect?"
   ]
  },
  {
   "cell_type": "code",
   "execution_count": 16,
   "id": "38effc36-efac-401d-87bc-693229cb7188",
   "metadata": {},
   "outputs": [],
   "source": [
    "a = 0\n",
    "b = 1\n",
    "c = 2"
   ]
  }
 ],
 "metadata": {
  "kernelspec": {
   "display_name": "Python 3 (ipykernel)",
   "language": "python",
   "name": "python3"
  },
  "language_info": {
   "codemirror_mode": {
    "name": "ipython",
    "version": 3
   },
   "file_extension": ".py",
   "mimetype": "text/x-python",
   "name": "python",
   "nbconvert_exporter": "python",
   "pygments_lexer": "ipython3",
   "version": "3.11.7"
  }
 },
 "nbformat": 4,
 "nbformat_minor": 5
}
