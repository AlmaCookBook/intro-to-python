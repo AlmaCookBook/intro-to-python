{
 "cells": [
  {
   "cell_type": "markdown",
   "id": "dc6a0d57-4c31-4255-8086-79c66504457a",
   "metadata": {},
   "source": [
    "<img src=\"graphics/icr_logo.png\" alt=\"drawing\" width=\"300\"/>\n",
    "\n",
    "# Basic programming with Python\n",
    "## Part 01: Variables, types and operators\n",
    "\n",
    "Variables in python are defined with the assignment operator, `=`. For example,\n",
    "\n",
    "```python\n",
    "a = 1\n",
    "```\n",
    "\n",
    "We can inspect the content a variable at runtime via the `print(...)`, function, e.g.,\n",
    "\n",
    "```python\n",
    "print(a)\n",
    "```\n",
    "\n",
    "This can be of use when we want to debug or validate a component of a program, or provide information to the user.\n",
    "\n",
    "All variables in Python (regardless of their type) can be defined with the assignment operator in the same way as we did for `a`\n",
    "\n",
    "```python\n",
    "a = 1\n",
    "b = 1.0\n",
    "c = 1 + 0j\n",
    "d = \"1\"\n",
    "e = True\n",
    "```\n",
    "\n",
    "Sometimes we will want to inspect the type of a variable in Python. We can do this via the `type(...)` function.\n",
    "\n",
    "```python\n",
    "type(a)\n",
    "```\n",
    "\n",
    "***\n",
    "\n",
    "⚙️ ***Exercise:***\n",
    "1. In the cell below, define the variables `a`, `b`, `c`, `d`, `e` as shown in the text above.\n",
    "2. After defining the variables, print the variable types using the `type(...)` function.\n",
    "***"
   ]
  },
  {
   "cell_type": "code",
   "execution_count": null,
   "id": "6051d0a1-0971-4dcf-9233-c12bf35365e9",
   "metadata": {
    "tags": []
   },
   "outputs": [],
   "source": [
    "# Solution"
   ]
  },
  {
   "cell_type": "markdown",
   "id": "6b4df9fe-4e2b-4743-b55f-fb6030163fe5",
   "metadata": {},
   "source": [
    "#### What are the types?\n",
    "\n",
    "Fundamental types in Python include:\n",
    "\n",
    "- `int` - Integer ~ whole numbers\n",
    "- `float` - Floating point numbers ~ decimal numbers with finite precision\n",
    "- `complex` - Complex floating point numbers ~ like `float`, but composed of a real and imaginary component; $j=\\sqrt{-1}$\n",
    "- `str` - Strings ~ represent text based objects\n",
    "- `bool` - Booleans ~ binary values, i.e., True or False (1 or 0)"
   ]
  },
  {
   "cell_type": "markdown",
   "id": "855fbe4a-1aae-4b3f-aa9c-edd12d5b99b1",
   "metadata": {
    "tags": []
   },
   "source": [
    "#### Combining variables\n",
    "\n",
    "The simplest way to combine variables is to \"add them together\". In python, this is achieved via the _addition operator_:\n",
    "\n",
    "```python\n",
    "x = 1\n",
    "y = 2\n",
    "z = x + y\n",
    "```\n",
    "\n",
    "***\n",
    "\n",
    "⚙️ ***Exercise:***\n",
    "- In the cell below, check the value of `z` for yourself.\n",
    "***"
   ]
  },
  {
   "cell_type": "code",
   "execution_count": null,
   "id": "eea20e54-8cc1-4eab-9a2d-90c2fbd0e25b",
   "metadata": {
    "tags": []
   },
   "outputs": [],
   "source": [
    "# Solution"
   ]
  },
  {
   "cell_type": "markdown",
   "id": "e4c2fa57-1fb5-4a92-8267-c6e44a9a609c",
   "metadata": {},
   "source": [
    "#### Arithmetic operators\n",
    "\n",
    "Beyond addition, there are several arithmetic operators available for you to use in Python\n",
    "\n",
    "| Operator    | Name           | Example    |\n",
    "| :---        |:--:            |:--:    \n",
    "| +           | Addition       |5 + 2 = 7    |\n",
    "| -           | Subtraction    |5 - 2 = 3    |\n",
    "| *           | Multiplication |5 * 2 = 6    |\n",
    "| /           | Division       |5 / 2 = 2.5  |\n",
    "| %           | Modulus        |5 % 2 = 1    |\n",
    "| **          | Exponentiation |5 ** 2 = 25  |\n",
    "| //          | Floor division |5 // 2 = 2   |  \n",
    "\n",
    "#### Assignment operators\n",
    "\n",
    "Beyond the vanilla `=` assignment, that assigns a value to a variable name, there are assignments operators that are blended with arithmetic operations\n",
    "\n",
    "| Operator    | Example | Equivalence |\n",
    "| :---        | :---    | :---\n",
    "| =           | x = 5   | x = 5\n",
    "| +=          | x += 5  | x = x + 5\n",
    "| -=          | x -= 5  | x = x - 5\n",
    "| *=          | x *= 5  | x = x * 5\n",
    "| /=          | x /= 5  | x = x / 5\n",
    "\n",
    "***\n",
    "\n",
    "⚙️ ***Exercise:***\n",
    "1. Modify the cell below to apply one of the assignment operators above to increase the value of `num` by `2`.\n",
    "2. Print the value of `num` before and after the operator has been applied.\n",
    "***"
   ]
  },
  {
   "cell_type": "code",
   "execution_count": null,
   "id": "6a81ab6e-c7a2-4f6d-97b0-0cd69bb985a0",
   "metadata": {
    "tags": []
   },
   "outputs": [],
   "source": [
    "num = 123"
   ]
  },
  {
   "cell_type": "markdown",
   "id": "75ac5df5-f2e0-49c4-afd0-49ae5e69e0f2",
   "metadata": {},
   "source": [
    "#### Comparison operators\n",
    "\n",
    "Often we will need to compare the values of different variables. For example, suppose we have\n",
    "\n",
    "```python\n",
    "var_1 = 3\n",
    "var_2 = 4\n",
    "```\n",
    "\n",
    "We can check for equality with\n",
    "\n",
    "```python\n",
    "var_1 == var_2\n",
    "```\n",
    "\n",
    "which in this case would be `False`. \n",
    "\n",
    "In Python, we have the following comparison operators\n",
    "\n",
    "| Operator    | Name                     | Example |\n",
    "| :---        | :---                     | :---\n",
    "| ==          | Equal to                 | x == y\n",
    "| !=          | Not equal to             | x != y\n",
    "| >           | Greater than             | x > y\n",
    "| <           | Less than                | x < y\n",
    "| >=          | Greater than or equal to | x >= y\n",
    "| <=          | Less than or equal to    | x <= y\n",
    "\n",
    "All of these operators return a boolean value: `True` or `False`.\n",
    "\n",
    "***\n",
    "\n",
    "⚙️ ***Exercise:*** \n",
    "- In the cell below we have defined a few different strings as variables. Try to understand how the inequality operators apply to these strings.\n",
    "\n",
    "***"
   ]
  },
  {
   "cell_type": "code",
   "execution_count": null,
   "id": "35b5cac7-60ac-4ce5-ba58-44f098b6412c",
   "metadata": {
    "tags": []
   },
   "outputs": [],
   "source": [
    "a = \"snake\"\n",
    "b = \"bat\"\n",
    "c = \"10\"\n",
    "d = \"2\"\n",
    "\n",
    "# Play with > and < h"
   ]
  },
  {
   "cell_type": "markdown",
   "id": "1322a6f0-ed8f-4d92-bfac-5f4b8e742abe",
   "metadata": {},
   "source": [
    "#### Logical operators\n",
    "\n",
    "Finally, we can combine or invert boolean values of experssion using the logical operators:\n",
    "\n",
    "| Operator    | Description                                                | Example |\n",
    "| :---        | :---                                                       | :---\n",
    "| and         | Returns True if both operands are True, otherwise False    | x < 5 and y == x\n",
    "| or          | Returns True if either operands are True, otherwise False  | x < 5 or y < 5\n",
    "| not         | Inverts a boolean value                                    | not x < 5"
   ]
  },
  {
   "cell_type": "markdown",
   "id": "cea4de87-1796-486b-b14f-08b823ed8d13",
   "metadata": {
    "tags": []
   },
   "source": [
    "#### Comments in Python\n",
    "\n",
    "We can write comments in Python, i.e., remarks in your program that do not alter the execution, using comments. E.g.,\n",
    "\n",
    "```python\n",
    "# x = 123\n",
    "y = 234\n",
    "```\n",
    "\n",
    "`x=123` will not be defined, whilst the defintion `y=234` will."
   ]
  }
 ],
 "metadata": {
  "kernelspec": {
   "display_name": "Python 3 (ipykernel)",
   "language": "python",
   "name": "python3"
  },
  "language_info": {
   "codemirror_mode": {
    "name": "ipython",
    "version": 3
   },
   "file_extension": ".py",
   "mimetype": "text/x-python",
   "name": "python",
   "nbconvert_exporter": "python",
   "pygments_lexer": "ipython3",
   "version": "3.11.0"
  }
 },
 "nbformat": 4,
 "nbformat_minor": 5
}
