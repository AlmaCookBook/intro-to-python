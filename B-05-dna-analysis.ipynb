{
 "cells": [
  {
   "cell_type": "markdown",
   "id": "ac3f5b79-7ace-4e0c-b625-43c19e44e978",
   "metadata": {},
   "source": [
    "<img src=\"graphics/icr_logo.png\" alt=\"drawing\" width=\"300\"/>\n",
    "\n",
    "# Basic programming with Python\n",
    "## Part 05: DNA Analysis\n",
    "\n",
    "With a few tweaks, we can extend the codon script to analyse a DNA sequence; Thalassiosira pseudonana CCMP1335 breast cancer 2 early onset (BRCA2).\n",
    "\n",
    "***\n",
    "\n",
    "⚙️ ***Exercise:*** \n",
    "- Count the number of occurances of each distinct codon from the BRCA2 sequence.\n",
    "\n",
    "***"
   ]
  },
  {
   "cell_type": "code",
   "execution_count": null,
   "id": "621646a5-2037-4195-a51e-5c3994ce8dcf",
   "metadata": {
    "tags": []
   },
   "outputs": [],
   "source": [
    "bases = ('t', 'c', 'a', 'g')\n",
    "\n",
    "codon_counters = {}\n",
    "\n",
    "# Start base pairs\n",
    "for base1 in bases:\n",
    "    for base2 in bases:\n",
    "        for base3 in bases:\n",
    "            # Add a key to the codon_counters dictionary using the bases you have iterated over.\n",
    "            # What is their initial \"count\"?\n",
    "            ...\n",
    "            \n",
    "\n",
    "# Check whether our calculation makes sense\n",
    "print(codon_counters)"
   ]
  },
  {
   "cell_type": "code",
   "execution_count": null,
   "id": "f000c2ef-f695-420b-81d8-1d2aa921f440",
   "metadata": {
    "tags": []
   },
   "outputs": [],
   "source": [
    "# You don't need to modify this cell: we have just defined the sequence here.\n",
    "\n",
    "# https://www.genome.jp/dbget-bin/www_bget?tps:THAPS_263089\n",
    "# Thalassiosira pseudonana CCMP1335 breast cancer 2 early onset (BRAC2), partial mRNA\n",
    "DNA_seq = 'gggtgcgacgattcattgttttcggacaagtggataggcaaccactaccggtggattgtc' + \\\n",
    "          'tggaagctagcagcaatggagagacggtttccacaccatcttggaggacattacttgacg' + \\\n",
    "          'tacgagcgtgtgctgaaacaaatgaagggccgctacgataaggaacttcgtaatttcaga' + \\\n",
    "          'cggcctgcagtacgcataatgctcaaccgagatgttgcagcgagtttgccagtcatctta' + \\\n",
    "          'tgcgtaagccaaatccttcgattcaaatcaagaccgccaaaaggaagttcttccgacgag' + \\\n",
    "          'atcaaagaagaagtccgactggagttgacggatggatggtactcactacctgctgtagtg' + \\\n",
    "          'gacgaaatactgttgaagtttgttgaagaaaggagaatcgcagtgggatcaaaactaatg' + \\\n",
    "          'atttgcaatgggcagttagttggatctgatgacggagtggagcctctcgatgacagctac' + \\\n",
    "          'tcatcttccaaacgagattgtcctctattgctgggcatctctgccaacaactcccgttta' + \\\n",
    "          'gcaagatgggatgcaactctaggttttgtacctcgcaacaactctaatctatacggcggc' + \\\n",
    "          'aatcttttggtcaaatccctgcaagacattttcatcggcggaggtactgttccggctatt' + \\\n",
    "          'gatttggttgtttgtaagaagtacccaaggatgtttctagagcaattaaacggtggagct' + \\\n",
    "          'tccattcatcttacagaagccgaagaagcagcacgccaaagtgagtacgattcaaggcat' + \\\n",
    "          'cagcgagcaagcgagagatatgccgacgatgctacgaaggaatgttcagaggtaagttca' + \\\n",
    "          'ttgctgttcacattcttcactatgaagccacttccgttgctttggtacaatcttgtcact' + \\\n",
    "          'gactcatcttttggcgttcatgattcgcacaggaaatcgatgaggatgctcctactcagt' + \\\n",
    "          'ggaaagagatga'\n",
    "\n",
    "# Calculate length of sequence\n",
    "sequence_length = len(DNA_seq)"
   ]
  },
  {
   "cell_type": "code",
   "execution_count": null,
   "id": "647b2159-e0ce-4894-8239-26ffe3169973",
   "metadata": {
    "tags": []
   },
   "outputs": [],
   "source": [
    "# Iterate over the number of trinucleotides: starting with index locations 0, 3, 6, ....\n",
    "for index_start in range(0, sequence_length, 3):    \n",
    "    index_end = index_start + 3\n",
    "\n",
    "    # Get slices of the sequence using the variables index_start and index_end\n",
    "    codon = ...\n",
    "\n",
    "    # Update the codon_counters dictionary object\n",
    "    ..."
   ]
  },
  {
   "cell_type": "code",
   "execution_count": null,
   "id": "b0d12c7a-d237-4569-b3d0-ca9af608087a",
   "metadata": {
    "tags": []
   },
   "outputs": [],
   "source": [
    "# Iterate over (key, value) pairs in the codon_counters dictionary\n",
    "for key, value in codon_counters.items():\n",
    "\n",
    "    # If the value is greater than zero, we'll print it out\n",
    "    if value > 0:\n",
    "        print(key, \":\", value)\n"
   ]
  },
  {
   "cell_type": "code",
   "execution_count": null,
   "id": "f0e5bae4-1a27-4d16-82d1-5b8b5d202a76",
   "metadata": {},
   "outputs": [],
   "source": []
  }
 ],
 "metadata": {
  "kernelspec": {
   "display_name": "Python 3 (ipykernel)",
   "language": "python",
   "name": "python3"
  },
  "language_info": {
   "codemirror_mode": {
    "name": "ipython",
    "version": 3
   },
   "file_extension": ".py",
   "mimetype": "text/x-python",
   "name": "python",
   "nbconvert_exporter": "python",
   "pygments_lexer": "ipython3",
   "version": "3.11.0"
  }
 },
 "nbformat": 4,
 "nbformat_minor": 5
}
