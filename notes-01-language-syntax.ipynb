{
 "cells": [
  {
   "cell_type": "markdown",
   "id": "dffd78e3-f251-4ef7-9f33-74399e202672",
   "metadata": {},
   "source": [
    "# An introduction to programming with Python\n",
    "## Part 01: language syntax"
   ]
  },
  {
   "cell_type": "code",
   "execution_count": null,
   "id": "bea512fd-612d-4f62-b5cb-0141fa55a564",
   "metadata": {},
   "outputs": [],
   "source": [
    "A program is a set of instructions...\n",
    "- \"Do this; then do that.\"\n",
    "- \"If this condition is true, do this thing; otherwise do something else.\"\n",
    "- \"Repeat this action 1,345 times\"\n",
    "\n",
    "If we write these instructions into a file, or collection of files,\n",
    "then we define a programs _source code_.\n",
    "\n",
    "**The python interpreter is what reads and runs the source code.**\n",
    "\n",
    "In this course we are using a special type of source code known as a notebook."
   ]
  }
 ],
 "metadata": {
  "kernelspec": {
   "display_name": "Python 3 (ipykernel)",
   "language": "python",
   "name": "python3"
  },
  "language_info": {
   "codemirror_mode": {
    "name": "ipython",
    "version": 3
   },
   "file_extension": ".py",
   "mimetype": "text/x-python",
   "name": "python",
   "nbconvert_exporter": "python",
   "pygments_lexer": "ipython3",
   "version": "3.11.7"
  }
 },
 "nbformat": 4,
 "nbformat_minor": 5
}
