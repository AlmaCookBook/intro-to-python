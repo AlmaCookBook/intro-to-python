{
 "cells": [
  {
   "cell_type": "markdown",
   "id": "3b3c9c4f-5899-4df9-a7dc-c788d36a4982",
   "metadata": {},
   "source": [
    "# An introduction to programming with Python\n",
    "## Part 04: Container types\n",
    "\n",
    "In python, we can collect multiple objects into single variables into containers. The standard container objects are known as\n",
    "\n",
    "- lists\n",
    "- tuples\n",
    "- dictionaries\n",
    "- sets\n",
    "\n",
    "In this introductory course, we will primarily focus on *lists*, and to a lesser extent discuss *tuples*.  \n",
    "Each container has its own properties. The choice of which therefore depends on the problem at hand.\n",
    "\n",
    "### Lists\n",
    "\n",
    "We can define a list as a variable, using the assignment operator in the usual way. The right hand operator, which defines the list container,\n",
    "should be comma seperated collection of objects, enclosed in square brackets `[...]`.\n",
    "\n",
    "For example, we can define a list of animals, as shown below"
   ]
  },
  {
   "cell_type": "code",
   "execution_count": 2,
   "id": "5dacc25d-5095-46d4-8f91-bd47943904c3",
   "metadata": {},
   "outputs": [
    {
     "name": "stdout",
     "output_type": "stream",
     "text": [
      "['dog', 'cat', 'mouse', 'fish']\n"
     ]
    }
   ],
   "source": [
    "animals = [\"dog\", \"cat\", \"mouse\", \"fish\"]\n",
    "print(animals)"
   ]
  },
  {
   "cell_type": "markdown",
   "id": "cbaabed6-fd29-4731-8bdf-0340469fbddc",
   "metadata": {},
   "source": [
    "A list in python is ordered. The position of an **element** within the list is defined by an index, which starts counting from zero, then incremented from left-to-right.  \n",
    "For our list of animals, the elements values and indices are given by\n",
    "\n",
    "|       |     |     |       |      |\n",
    "| --:   | :-- | :-- | :--   | :--  |    \n",
    "| **Value** | dog | cat | mouse | fish |\n",
    "| **Index** | 0   | 1   | 2     | 3    |\n",
    "\n",
    "We can get an element from a  list using its index number. For example, in the cell below, we see that the zeroth element of the list will return \"dog\": "
   ]
  },
  {
   "cell_type": "code",
   "execution_count": 3,
   "id": "f4db29fc-4166-4935-8189-961f72fd469d",
   "metadata": {},
   "outputs": [
    {
     "data": {
      "text/plain": [
       "'dog'"
      ]
     },
     "execution_count": 3,
     "metadata": {},
     "output_type": "execute_result"
    }
   ],
   "source": [
    "animals[0]"
   ]
  },
  {
   "cell_type": "markdown",
   "id": "ff37e27d-77cf-4b53-9046-4aa28a021531",
   "metadata": {},
   "source": [
    "**Quick exercise**: Retrieve the value `\"fish\"` via *indexing* the list `animals`"
   ]
  },
  {
   "cell_type": "markdown",
   "id": "892323be-48dc-45a9-9d2f-fd8c06cd407d",
   "metadata": {},
   "source": [
    "Instead of indexing a list by its position counting *forwards*, we can do so counting *backwards*. In this picture, we count from -1, -2, ...\n",
    "\n",
    "Using the animals excample, we can therefore define\n",
    "\n",
    "|       |     |     |       |      |\n",
    "| --:   | :-- | :-- | :--   | :--  |    \n",
    "| **Value** | dog  | cat  | mouse  | fish  |\n",
    "| **Index** | -4   | -3   | -2     | -1    |\n",
    "\n",
    "**Quick exercise**: Verify that the zeroth element of `animals` is equal to the -4th element of `animals`."
   ]
  },
  {
   "cell_type": "code",
   "execution_count": null,
   "id": "a598742b-135d-4759-a498-43754683879d",
   "metadata": {},
   "outputs": [],
   "source": []
  }
 ],
 "metadata": {
  "kernelspec": {
   "display_name": "Python 3 (ipykernel)",
   "language": "python",
   "name": "python3"
  },
  "language_info": {
   "codemirror_mode": {
    "name": "ipython",
    "version": 3
   },
   "file_extension": ".py",
   "mimetype": "text/x-python",
   "name": "python",
   "nbconvert_exporter": "python",
   "pygments_lexer": "ipython3",
   "version": "3.11.7"
  }
 },
 "nbformat": 4,
 "nbformat_minor": 5
}
