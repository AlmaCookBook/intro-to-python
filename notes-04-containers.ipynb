{
 "cells": [
  {
   "cell_type": "markdown",
   "id": "3b3c9c4f-5899-4df9-a7dc-c788d36a4982",
   "metadata": {},
   "source": [
    "<img src=\"graphics/icr_logo.png\" alt=\"drawing\" width=\"300\"/>\n",
    "\n",
    "# An introduction to programming with Python\n",
    "## Part 04: Container types\n",
    "\n",
    "In python, we can collect multiple objects into single variables into containers. The standard container objects are known as\n",
    "\n",
    "- lists\n",
    "- tuples\n",
    "- dictionaries\n",
    "- sets\n",
    "\n",
    "In this introductory course, we will primarily focus on *lists*, and to a lesser extent discuss *tuples*.  \n",
    "Each container has its own properties. The choice of which therefore depends on the problem at hand.\n",
    "\n",
    "### Lists\n",
    "\n",
    "We can define a list as a variable, using the assignment operator in the usual way. The right hand operator, which defines the list container,\n",
    "should be comma seperated collection of objects, enclosed in square brackets `[...]`.\n",
    "\n",
    "For example, we can define a list of animals, as shown below"
   ]
  },
  {
   "cell_type": "code",
   "execution_count": 2,
   "id": "5dacc25d-5095-46d4-8f91-bd47943904c3",
   "metadata": {},
   "outputs": [
    {
     "name": "stdout",
     "output_type": "stream",
     "text": [
      "['dog', 'cat', 'mouse', 'fish']\n"
     ]
    }
   ],
   "source": [
    "animals = [\"dog\", \"cat\", \"mouse\", \"fish\"]\n",
    "print(animals)"
   ]
  },
  {
   "cell_type": "markdown",
   "id": "cbaabed6-fd29-4731-8bdf-0340469fbddc",
   "metadata": {},
   "source": [
    "#### Indexing\n",
    "\n",
    "A list in python is ordered. The position of an **element** within the list is defined by an index, which starts counting from zero, then incremented from left-to-right.  \n",
    "For our list of animals, the elements values and indices are given by\n",
    "\n",
    "|       |     |     |       |      |\n",
    "| --:   | :-- | :-- | :--   | :--  |    \n",
    "| **Value** | \"dog\" | \"cat\" | \"mouse\" | \"fish\" |\n",
    "| **Index** | 0   | 1   | 2     | 3    |\n",
    "\n",
    "We can get an element from a  list using its index number. For example, in the cell below, we see that the zeroth element of the list will return \"dog\": "
   ]
  },
  {
   "cell_type": "code",
   "execution_count": 3,
   "id": "f4db29fc-4166-4935-8189-961f72fd469d",
   "metadata": {},
   "outputs": [
    {
     "data": {
      "text/plain": [
       "'dog'"
      ]
     },
     "execution_count": 3,
     "metadata": {},
     "output_type": "execute_result"
    }
   ],
   "source": [
    "animals[0]"
   ]
  },
  {
   "cell_type": "markdown",
   "id": "ff37e27d-77cf-4b53-9046-4aa28a021531",
   "metadata": {},
   "source": [
    "**Quick exercise**: Retrieve the value `\"fish\"` via *indexing* the list `animals`"
   ]
  },
  {
   "cell_type": "markdown",
   "id": "892323be-48dc-45a9-9d2f-fd8c06cd407d",
   "metadata": {},
   "source": [
    "Instead of indexing a list by its position counting *forwards*, we can do so counting *backwards*. In this picture, we count from -1, -2, ...\n",
    "\n",
    "Using the animals excample, we can therefore define\n",
    "\n",
    "|       |     |     |       |      |\n",
    "| --:   | :-- | :-- | :--   | :--  |    \n",
    "| **Value** | \"dog\" | \"cat\" | \"mouse\" | \"fish\" |\n",
    "| **Index** | -4   | -3   | -2     | -1    |\n",
    "\n",
    "**Quick exercise**: Verify that the zeroth element of `animals` is equal to the -4th element of `animals`."
   ]
  },
  {
   "cell_type": "markdown",
   "id": "da8d2167-2467-4902-badb-0115448ba3b6",
   "metadata": {},
   "source": [
    "#### Slicing\n",
    "\n",
    "We can use a indices to slice a list into chunks, which itself is a list. The general syntax for doing so is: `my_list[START:STOP]`\n",
    "\n",
    "This would return all the elements from the `START` index, **up to but excluding** the `STOP` index.\n",
    "\n",
    "**Quick exercise:** In the cell below, slice the  `my_list` to extract the list `[5, 6, 7, 8]`"
   ]
  },
  {
   "cell_type": "code",
   "execution_count": 5,
   "id": "abeb1757-cfc5-4672-b4ba-8099ea455841",
   "metadata": {},
   "outputs": [],
   "source": [
    "my_list = [1, 2, 3, 4, 5, 6, 7, 8, 9, 10]"
   ]
  },
  {
   "cell_type": "markdown",
   "id": "0dbf46e5-7a6e-4bc9-bbbb-d0a2fbd3782f",
   "metadata": {},
   "source": [
    "#### Lists are mutable\n",
    "\n",
    "One important property of lists is that they are mutable. This means that they can be modified and/or deleted.\n",
    "\n",
    "Observe how we this achieved in the following cell:"
   ]
  },
  {
   "cell_type": "code",
   "execution_count": 6,
   "id": "385bd0cb-acfd-4806-b799-943b4cba2a3f",
   "metadata": {},
   "outputs": [
    {
     "name": "stdout",
     "output_type": "stream",
     "text": [
      "[1, 3, 4, 8, 9]\n",
      "[1, 3, 5, 7, 9]\n"
     ]
    }
   ],
   "source": [
    "odd_numbers = [1, 3, 4, 8, 9]\n",
    "print(odd_numbers)\n",
    "\n",
    "odd_numbers[2] = 5\n",
    "odd_numbers[3] = 7\n",
    "print(odd_numbers)"
   ]
  },
  {
   "cell_type": "markdown",
   "id": "286b6da2-85a2-4bcb-8e31-2a540da432c2",
   "metadata": {},
   "source": [
    "We can similarly apply the same logic to mutate multiple list elements usinging index slicing.\n",
    "\n",
    "**Quick exercise**: In the cell below we have defined an erroneous list of odd numbers.  \n",
    "Fix the numbers as we did before, but now slicing the index elements, and assigning `[5, 7]`."
   ]
  },
  {
   "cell_type": "code",
   "execution_count": 7,
   "id": "601f45e9-e5e9-44a6-9060-0faa7dfc85a5",
   "metadata": {},
   "outputs": [],
   "source": [
    "odd_numbers = [1, 3, 4, 8, 9]"
   ]
  },
  {
   "cell_type": "markdown",
   "id": "5218c6ca-974f-4d9d-8ad9-cdd320ab7dd7",
   "metadata": {},
   "source": [
    "Instead of modifying list elements, we can delete them, by making use of the `del` operator, as shown in the cell below"
   ]
  },
  {
   "cell_type": "code",
   "execution_count": 8,
   "id": "4c53e937-772a-420b-99b6-1169c7788d9e",
   "metadata": {},
   "outputs": [
    {
     "name": "stdout",
     "output_type": "stream",
     "text": [
      "['parrot', 'heron', 'seagull', 'donkey']\n",
      "['parrot', 'heron', 'seagull']\n"
     ]
    }
   ],
   "source": [
    "birds = [\"parrot\", \"heron\", \"seagull\", \"donkey\"]\n",
    "print(birds)\n",
    "\n",
    "del birds[-1]\n",
    "print(birds)"
   ]
  },
  {
   "cell_type": "markdown",
   "id": "215d1960-7c59-4540-af4e-9b1c918587a9",
   "metadata": {},
   "source": [
    "#### Other list properties\n",
    "\n",
    "We can add lists together, in a process known as concatenation:"
   ]
  },
  {
   "cell_type": "code",
   "execution_count": 11,
   "id": "4e528055-97ca-46de-b5c7-941adb9303e7",
   "metadata": {},
   "outputs": [
    {
     "data": {
      "text/plain": [
       "[1, 2, 'dog', 'cat']"
      ]
     },
     "execution_count": 11,
     "metadata": {},
     "output_type": "execute_result"
    }
   ],
   "source": [
    "list_a = [1, 2]\n",
    "list_b = [\"dog\", \"cat\"]\n",
    "list_a + list_b"
   ]
  },
  {
   "cell_type": "markdown",
   "id": "8df9ce62-8fa6-44f7-84b5-76b0dcf4920e",
   "metadata": {},
   "source": [
    "Lists can be repeated, by multiplying them with an integer"
   ]
  },
  {
   "cell_type": "code",
   "execution_count": 12,
   "id": "9980981d-5c13-4dc7-a6d7-9fdde372367f",
   "metadata": {},
   "outputs": [
    {
     "data": {
      "text/plain": [
       "[1, 2, 3, 1, 2, 3, 1, 2, 3, 1, 2, 3]"
      ]
     },
     "execution_count": 12,
     "metadata": {},
     "output_type": "execute_result"
    }
   ],
   "source": [
    "[1, 2, 3] * 4"
   ]
  },
  {
   "cell_type": "markdown",
   "id": "86a30c6f-9631-4c7b-998b-4c66bc7e6e61",
   "metadata": {},
   "source": [
    "#### List methods\n",
    "\n",
    "Lists have many *methods that are bound to them*. One useful example, is the `append(...)` method, as illustrated below  "
   ]
  },
  {
   "cell_type": "code",
   "execution_count": 10,
   "id": "d4ce8493-5654-4642-a8d8-d702fb0a1b59",
   "metadata": {},
   "outputs": [
    {
     "name": "stdout",
     "output_type": "stream",
     "text": [
      "[1, 2, 3, 4]\n",
      "[1, 2, 3, 4, 5]\n"
     ]
    }
   ],
   "source": [
    "my_list = [1, 2, 3, 4]\n",
    "print(my_list)\n",
    "my_list.append(5)\n",
    "print(my_list)"
   ]
  },
  {
   "cell_type": "markdown",
   "id": "8d8b8329-0ca0-4a2c-8d1b-4b27c09149d0",
   "metadata": {},
   "source": [
    "Some further list methods are as follows\n",
    "\n",
    "| Method      | Description           \n",
    "| :---        |:---            \n",
    "| append(<value>)    | Adds an element of some <value> to the end of the list       \n",
    "| clear()            | Removes all the elements from the list\n",
    "| copy()             | Returns a copy of the list \n",
    "| count(<value>)     | Returns the number of elements of whose value equals <value>\n",
    "| extend(<iterable>) | Adds all elements from an iterable object, such as a list, to the end of the list\n",
    "| index(<value>)     | Returns the index of the first element with the specified value \n",
    "| insert(<index_location>, <value>)    | Insert an element of some <value> into the list a position with <index_location>\n",
    "| pop(<index_location>)              | Removes and returns an element from a list. If no <index_location> is specified, removes the last element\n",
    "| remove(<value>)    | Removes the first occurance of <value> from the list\n",
    "| reverse()          | Reverses the order of the list\n",
    "| sort()             | Sorts the values within a list\n",
    "\n",
    "**Quick exercise**: Run the following cell, then try replacing the \"clear\" method with something else. You may need to add a value depending on your choice! "
   ]
  },
  {
   "cell_type": "code",
   "execution_count": 13,
   "id": "314bfb3a-bb2f-46cc-8b66-60c2bfdf1c74",
   "metadata": {},
   "outputs": [
    {
     "name": "stdout",
     "output_type": "stream",
     "text": [
      "[1, 2, 3]\n",
      "[]\n"
     ]
    }
   ],
   "source": [
    "great_list = [1, 2, 3]\n",
    "print(great_list)\n",
    "\n",
    "great_list.clear()\n",
    "print(great_list)"
   ]
  },
  {
   "cell_type": "markdown",
   "id": "b7be5ee2-4968-480c-89ef-0bb69c94a8cc",
   "metadata": {},
   "source": [
    "### Tuples\n",
    "\n",
    "Tuples have similar properties to lists...\n",
    "\n",
    "1. They are containers\n",
    "2. They can contain values of different data types\n",
    "3. They can be indexed and sliced\n",
    "\n",
    "A fundamental distinction is that they are however **immutable** objects.\n",
    "\n",
    "**Quick exercise**: Try running the following cell"
   ]
  },
  {
   "cell_type": "code",
   "execution_count": null,
   "id": "3d751a04-4dd0-4310-ab6d-bfc15eb49f58",
   "metadata": {},
   "outputs": [],
   "source": [
    "tuple_of_nums = (1, 2, 3)\n",
    "tuple_of_nums[2] = 4"
   ]
  },
  {
   "cell_type": "markdown",
   "id": "4ad80a57-73c6-4bc3-ae2c-a73b92b64051",
   "metadata": {},
   "source": [
    "### A remark on strings\n",
    "\n",
    "Strings, though not really a container, share some properties with lists and tuples... For example, strings can be multiplied for repeatition"
   ]
  },
  {
   "cell_type": "code",
   "execution_count": 43,
   "id": "16d314d2-6c27-49c5-8636-8c2dffca2708",
   "metadata": {},
   "outputs": [
    {
     "name": "stdout",
     "output_type": "stream",
     "text": [
      "Over and \n",
      "Over and Over and Over and Over and Over and \n"
     ]
    }
   ],
   "source": [
    "my_str = \"Over and \"\n",
    "\n",
    "print(my_str)\n",
    "print(my_str * 5)"
   ]
  },
  {
   "cell_type": "markdown",
   "id": "1808f99b-37f9-473f-9e52-aca9a8edb24f",
   "metadata": {},
   "source": [
    "**Quick exercise**: In the cell below, try to manipulate the string variable using index slicing to return the world, \"Hello\""
   ]
  },
  {
   "cell_type": "code",
   "execution_count": 44,
   "id": "ccc88867-20e6-4c9b-a1aa-52a68c84c8b7",
   "metadata": {},
   "outputs": [],
   "source": [
    "my_str = \"Hello, World!\""
   ]
  },
  {
   "cell_type": "markdown",
   "id": "572bd0a5-4224-4917-8153-c2f22b19ca6c",
   "metadata": {},
   "source": [
    "However, strings are immutable... \n",
    "\n",
    "**Quick exercise**: Try modifying or deleting an element in the cell in the cell below"
   ]
  },
  {
   "cell_type": "code",
   "execution_count": 45,
   "id": "38b2c282-07ce-4180-89c7-1a68a9787e15",
   "metadata": {},
   "outputs": [],
   "source": [
    "text = \"This is a sentence.\""
   ]
  }
 ],
 "metadata": {
  "kernelspec": {
   "display_name": "Python 3 (ipykernel)",
   "language": "python",
   "name": "python3"
  },
  "language_info": {
   "codemirror_mode": {
    "name": "ipython",
    "version": 3
   },
   "file_extension": ".py",
   "mimetype": "text/x-python",
   "name": "python",
   "nbconvert_exporter": "python",
   "pygments_lexer": "ipython3",
   "version": "3.11.7"
  }
 },
 "nbformat": 4,
 "nbformat_minor": 5
}
