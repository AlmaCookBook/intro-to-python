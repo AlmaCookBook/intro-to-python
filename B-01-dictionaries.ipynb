{
 "cells": [
  {
   "cell_type": "markdown",
   "id": "ab136a84-2fb6-4198-b889-64149138928b",
   "metadata": {},
   "source": [
    "<img src=\"../graphics/icr_logo.png\" alt=\"drawing\" width=\"300\"/>\n",
    "\n",
    "# Basic programming with Python\n",
    "## Part 02: Dictionaries\n",
    "\n",
    "We have seen lists and tuples that contain a collection of more than 1 thing. Another example is a dictionary.\n",
    "\n",
    "A dictionary is a collection of key-value pairs:\n",
    "\n",
    "```python\n",
    "my_dict = {0: 123, \"cats\": \"dogs\", \"python is great\": True}\n",
    "```\n",
    "\n",
    "In the definition above, each key (0, \"cats\", \"python is great\") has a corresponding value (123, \"dogs\", True).\n",
    "\n",
    "In order to access a value stored inside of a dictionary, we can use its key\n",
    "\n",
    "```python\n",
    "my_dict[0] # 123\n",
    "my_dict[\"cats\"] # \"dogs\n",
    "my_dict[\"python is greaet\"] # True\n",
    "```\n",
    "\n",
    "By construction, you cannot dupicate the same key inside a dictionary.\n",
    "\n",
    "In dictionary can be instantiated with curly braces\n",
    "\n",
    "```python\n",
    "a_dict = {}\n",
    "```\n",
    "\n",
    "We can add new key-value pairs to them via\n",
    "\n",
    "```python\n",
    "a_dict[\"foo\"] = \"bar\"\n",
    "```\n",
    "\n",
    "They can similary be removed via a `del` operator\n",
    "\n",
    "```python\n",
    "del a_dict[\"foo\"]\n",
    "```\n",
    "\n",
    "To some extent, this behaviour is analgous to the mutation of lists via indices.\n",
    "\n",
    "**Dictionaries are mutable objects.**\n",
    "\n",
    "***\n",
    "\n",
    "⚙️ ***Exercise B-01.01:***\n",
    "\n",
    "1. In the dictionary below, what happens if you try to add another key-value pair within the construction `{...}` with a key that already exists, e.g. `\"apples\"`?\n",
    "2. What happens if you try to update the dictionary with an existing key, after it has been constructed, using e.g. `fruit_stock[\"pears\"]`?\n",
    "\n",
    "***"
   ]
  },
  {
   "cell_type": "code",
   "execution_count": 3,
   "id": "a11c7945-ad27-487b-b20b-2a9298173b84",
   "metadata": {
    "tags": []
   },
   "outputs": [],
   "source": [
    "fruit_stock = {\"apples\": 28, \"pears\": 32, \"oranges\": 16}"
   ]
  },
  {
   "cell_type": "markdown",
   "id": "85237c25-62ef-4e21-99a1-0d184f992ce9",
   "metadata": {},
   "source": [
    "***\n",
    "\n",
    "⚙️ ***Exercise B-01.02:*** \n",
    "- Use a *for loop* to print out each item of the following iterables\n",
    "***"
   ]
  },
  {
   "cell_type": "code",
   "execution_count": 4,
   "id": "9bbd63ab-9f55-4fc2-9a86-23e228d7bd16",
   "metadata": {},
   "outputs": [],
   "source": [
    "# List\n",
    "iter_list = [1, \"two\", 3, 4.0]\n",
    "\n",
    "# Tuple\n",
    "iter_tuple = (1, 2, 33, -1,)\n",
    "\n",
    "# Dictionary\n",
    "iter_dict = {'a': 123, 'b': 23, 'c': \"house\"}\n",
    "\n",
    "# String\n",
    "iter_str = \"Python\"\n",
    "\n",
    "# Write code to iterate through these below"
   ]
  },
  {
   "cell_type": "markdown",
   "id": "b02819a5-00ff-478b-ab81-c7f9d3bdbfb3",
   "metadata": {},
   "source": [
    "***\n",
    "\n",
    "💡 ***Exercise B-01.03***: \n",
    "- What do you observe for the different iterable objects?\n",
    "\n",
    "***"
   ]
  },
  {
   "cell_type": "markdown",
   "id": "03bf0590-a6e1-4663-8eca-c9850445ce2e",
   "metadata": {},
   "source": [
    "### Nested data structures\n",
    "\n",
    "As you have seen from the previous examples: List, Tuples and Dictionaries can hold any data type. Beyond singular variables, they can further hold other containers...\n",
    "\n",
    "```python\n",
    "my_list = [[1, 2], (True, False), {\"dog\": \"cat\"}]\n",
    "```\n",
    "\n",
    "The containers within the list, can be accessed via\n",
    "\n",
    "```python\n",
    "my_list[0] # [1, 2]\n",
    "my_list[0][0] # 1\n",
    "my_list[0][1] # 2\n",
    "```\n",
    "\n",
    "***\n",
    "\n",
    "⚙️ ***Exercise B-01.03:***\n",
    "\n",
    "1. Copy the list above into a new cell below. \n",
    "2. Print out the value of \"dog\" from the dictionary.\n",
    "3. Validate that you can delete the value `2` from the first element of the list.\n",
    "\n",
    "***"
   ]
  }
 ],
 "metadata": {
  "kernelspec": {
   "display_name": "Python 3 (ipykernel)",
   "language": "python",
   "name": "python3"
  },
  "language_info": {
   "codemirror_mode": {
    "name": "ipython",
    "version": 3
   },
   "file_extension": ".py",
   "mimetype": "text/x-python",
   "name": "python",
   "nbconvert_exporter": "python",
   "pygments_lexer": "ipython3",
   "version": "3.10.9"
  }
 },
 "nbformat": 4,
 "nbformat_minor": 5
}
