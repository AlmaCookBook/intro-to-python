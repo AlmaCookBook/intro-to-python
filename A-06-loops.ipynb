{
 "cells": [
  {
   "cell_type": "markdown",
   "id": "991a17c3-ec7b-4394-a75f-88d6fa24d2ca",
   "metadata": {},
   "source": [
    "<img src=\"graphics/icr_logo.png\" alt=\"drawing\" width=\"300\"/>\n",
    "\n",
    "# An introduction to programming with Python\n",
    "## Part 06: Loops\n",
    "\n",
    "Loops in python enable us to repeat processes. The repetition is haulted by an **exit condition**.\n",
    "\n",
    "### The *for* loop\n",
    "\n",
    "A for loop enables us to iterate over a collection of objects; such as those defined in a list, or similar.\n",
    "\n",
    "Consider the code in the cell below. We want to print out each element from the list independently...."
   ]
  },
  {
   "cell_type": "code",
   "execution_count": null,
   "id": "c6977204-d677-4cbf-8a9d-3ca5bd979d79",
   "metadata": {},
   "outputs": [],
   "source": [
    "values = [1, 32, 999, 4, 5]\n",
    "\n",
    "print(values[0])\n",
    "print(values[1])\n",
    "print(values[2])\n",
    "print(values[3])\n",
    "print(values[4])"
   ]
  },
  {
   "cell_type": "markdown",
   "id": "65d880a3-f9a9-4e01-8846-6282c055a9d5",
   "metadata": {},
   "source": [
    "***\n",
    "\n",
    "💡 ***Exercise***:\n",
    "- Are there any issues with this approach??\n",
    "\n",
    "***\n",
    "\n",
    "A *for loop* can be used to automate this task"
   ]
  },
  {
   "cell_type": "code",
   "execution_count": null,
   "id": "e1a09bb7-2ca8-4f94-9b9b-f6fc36e35af0",
   "metadata": {},
   "outputs": [],
   "source": [
    "values = [1, 32, 999, 4, 5]\n",
    "\n",
    "for value in values:\n",
    "    print(value)"
   ]
  },
  {
   "cell_type": "markdown",
   "id": "513748ec-db58-468f-ad04-d4166fc59277",
   "metadata": {},
   "source": [
    "***\n",
    "\n",
    "💡 ***Exercise***: \n",
    "- In what ways is this a better solution?\n",
    "\n",
    "***\n",
    "\n",
    "It turns out that a for loop can be applied to any iterable object in Python. This includes lists, tuples and strings!\n",
    "\n",
    "***\n",
    "\n",
    "⚙️ ***Exercise:*** \n",
    "1. In a new cell, create a *tuple* containing values of your choice. Validate that you can iterate and print the values in the same way as lists.\n",
    "2. Repeat (1) using a string. \n",
    "\n",
    "***"
   ]
  },
  {
   "cell_type": "markdown",
   "id": "1a33ee5c-327f-4689-8ebd-5339308464b5",
   "metadata": {},
   "source": [
    "#### Iterating with a range of numbers\n",
    "\n",
    "You fill find that iterating over a list of ordered numbers is an ubiquitous component of solutions in programming. \n",
    "\n",
    "Python has a very useful *generator object* known as a *range* that can help with this. \n",
    "\n",
    "We can generate a sequence of numbers with: `range(START, STOP, STEP)`.\n",
    "\n",
    "***\n",
    "\n",
    "⚙️ ***Exercise:*** \n",
    "- Try printing the range generator, is this what you expect?\n",
    "\n",
    "***"
   ]
  },
  {
   "cell_type": "code",
   "execution_count": null,
   "id": "92b0e5de-b36d-4794-922c-9820eeacb81e",
   "metadata": {},
   "outputs": [],
   "source": [
    "start = 4\n",
    "stop = 10\n",
    "step = 2\n",
    "test_range = range(start, stop, step)"
   ]
  },
  {
   "cell_type": "markdown",
   "id": "e051582e-0a58-49ca-b10e-cedb03906f4c",
   "metadata": {},
   "source": [
    "One way to get the values from a range object is to iterate over it, using a _for_ loop!\n",
    "\n",
    "***\n",
    "\n",
    "⚙️ ***Exercise:***\n",
    "1. Run the following cell to observe how values are extracted from the range\n",
    "2. Re-run the cell omitting the \"step\" argument from the `range(...)` defintion\n",
    "3. Re-run the cell again, omitting the \"step\" and \"start\" argument from the `range(...)` defintion\n",
    "\n",
    "***"
   ]
  },
  {
   "cell_type": "code",
   "execution_count": null,
   "id": "a6f07bc3-02a8-42f0-9b50-b1e6fe051030",
   "metadata": {},
   "outputs": [],
   "source": [
    "start = 4\n",
    "stop = 10\n",
    "step = 2\n",
    "test_range = range(start, stop, step)\n",
    "\n",
    "for value in test_range:\n",
    "    print(value)"
   ]
  },
  {
   "cell_type": "markdown",
   "id": "18995d78-8994-4629-bd9f-0dfc68598ba7",
   "metadata": {},
   "source": [
    "In a lot of cases, we simply want a linear range of integers whose difference is one... to that end, we frequently use: `range(stop)`\n",
    "\n",
    "***\n",
    "\n",
    "💡 ***Exercise:*** \n",
    "- We previously mentioned that a loop requires an exit condition: Can you identify what this is for the `for` loop?\n",
    "\n",
    "***"
   ]
  },
  {
   "cell_type": "markdown",
   "id": "3c9dc43d-f8a6-4e8f-bc1a-59e4e591dd68",
   "metadata": {},
   "source": [
    "### While loops\n",
    "\n",
    "While loops enable us to perform a repetition, so long as a condition is `True`. The **exit condition** for a while loop is when a condition becomes `False`.\n",
    "\n",
    "<img src=\"graphics/while_loop.jpg\" alt=\"if statement flow\" width=\"800\"/>\n",
    "\n",
    "In the cell below we define some code that counts to 5"
   ]
  },
  {
   "cell_type": "code",
   "execution_count": null,
   "id": "0078b194-3761-42c3-89f7-22c3e0aeabc3",
   "metadata": {},
   "outputs": [],
   "source": [
    "# Initilize a counter\n",
    "counter = 1\n",
    "\n",
    "# Enter the for loop. The condition here is that the counter, is less than 5\n",
    "while counter <= 5:\n",
    "\n",
    "    # Print the counter\n",
    "    print(counter)\n",
    "\n",
    "    # Update the counter\n",
    "    counter += 1\n",
    "\n",
    "print(\"All done counting.\")"
   ]
  },
  {
   "cell_type": "markdown",
   "id": "ff875617-00b6-4790-aff4-087d3854f588",
   "metadata": {},
   "source": [
    "***\n",
    "\n",
    "⚙️ ***Exercise:*** \n",
    "- Play around with the values/conditions in the cell above.\n",
    "\n",
    "***\n",
    "\n",
    "**Warning**: If you get stuck in a loop press the \"stop\"/\"square\" button at the top of the window. If that doesn't work press the \"refresh\" button next to it, to restart the kernel."
   ]
  },
  {
   "cell_type": "code",
   "execution_count": null,
   "id": "b157d860-ac44-4df5-954a-54185ca845ea",
   "metadata": {},
   "outputs": [],
   "source": []
  }
 ],
 "metadata": {
  "kernelspec": {
   "display_name": "Python 3 (ipykernel)",
   "language": "python",
   "name": "python3"
  },
  "language_info": {
   "codemirror_mode": {
    "name": "ipython",
    "version": 3
   },
   "file_extension": ".py",
   "mimetype": "text/x-python",
   "name": "python",
   "nbconvert_exporter": "python",
   "pygments_lexer": "ipython3",
   "version": "3.11.0"
  }
 },
 "nbformat": 4,
 "nbformat_minor": 5
}
