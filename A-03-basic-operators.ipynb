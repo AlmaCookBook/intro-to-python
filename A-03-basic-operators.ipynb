{
 "cells": [
  {
   "cell_type": "markdown",
   "id": "05cc520b-b66e-497b-ac61-bee4d03acb56",
   "metadata": {},
   "source": [
    "<img src=\"graphics/icr_logo.png\" alt=\"drawing\" width=\"300\"/>\n",
    "\n",
    "# An introduction to programming with Python\n",
    "## Part 03: Basic operators\n",
    "\n",
    "In mathematics and acomputer programming, an **operator** is a character (or collection of characters) that represent  \n",
    "a mathematical or logical action or process.\n",
    "\n",
    "In python, for example:\n",
    "- `*` is an *arithmetic operator* that indicates multiplication between operands;\n",
    "- `and` is a *logical operator* indicating whether both operands are true.\n",
    "\n",
    "Python divides operators into the following groups\n",
    "\n",
    "- Arithmetic\n",
    "- Assignment\n",
    "- Comparison\n",
    "- Logical\n",
    "- Identity\n",
    "- Membership\n",
    "- Bitwise\n",
    "\n",
    "### Arithmetic operators\n",
    "\n",
    "| Operator    | Name           | Example    |\n",
    "| :---        |:--:            |:--:    \n",
    "| +           | Addition       |5 + 2 = 7    |\n",
    "| -           | Subtraction    |5 - 2 = 3Y   |\n",
    "| *           | Multiplication |5 * 2 = 6    |\n",
    "| /           | Division       |5 / 2 = 2.5  |\n",
    "| %           | Modulus        |5 % 2 = 1    |\n",
    "| **          | Exponentiation |5 ** 2 = 25  |\n",
    "| //          | Floor division |5 // 2 = 2   |  \n",
    "\n",
    "#### Addition\n",
    "\n",
    "Addition is a fundamental operation - it is intuitive to use with numerical data types.\n",
    "\n",
    "***\n",
    "\n",
    "⚙️ ***Exercise:***: \n",
    "1. Create a new variable in the following cell that is the sum of the variables with themseleves, and each other. Print the result for each of these.\n",
    "2. Print the data type for each of these results.\n",
    "***"
   ]
  },
  {
   "cell_type": "code",
   "execution_count": null,
   "id": "aa7a7db3-cb1c-438e-918c-d07f81ea401c",
   "metadata": {},
   "outputs": [],
   "source": [
    "var_int = 1\n",
    "var_float = 1.2"
   ]
  },
  {
   "cell_type": "markdown",
   "id": "d0dfa6c1-2ed6-4bbb-87d1-9e69df6cafd4",
   "metadata": {},
   "source": [
    "Though we are most familiar with the concept of adding \"numerical objects\", we can often do so with other data types. In the cell below, we perform addition using strings.\n",
    "\n",
    "*** \n",
    "\n",
    "💡 ***Exercise:*** \n",
    "- What do you expect the result to be?\n",
    "\n",
    "***\n",
    "\n",
    "⚙️ ***Exercise:***: \n",
    "- Now modify the cell to print the result.\n",
    "\n",
    "***"
   ]
  },
  {
   "cell_type": "code",
   "execution_count": null,
   "id": "60d00afe-9239-45dc-b83a-3f9e05e475c2",
   "metadata": {},
   "outputs": [],
   "source": [
    "a = \"1\"\n",
    "b = \"1.2\"\n",
    "result = a + b"
   ]
  },
  {
   "cell_type": "markdown",
   "id": "962008d3-5656-4bea-b596-f3c483fe5498",
   "metadata": {},
   "source": [
    "#### Assignment operators\n",
    "\n",
    "| Operator    | Example | Equivalence |\n",
    "| :---        | :---    | :---\n",
    "| =           | x = 5   | x = 5\n",
    "| +=          | x += 5  | x = x + 5\n",
    "| -=          | x -= 5  | x = x - 5\n",
    "| *=          | x *= 5  | x = x * 5\n",
    "| /=          | x /= 5  | x = x / 5\n",
    "\n",
    "***\n",
    "\n",
    "⚙️ ***Exercise:*** \n",
    "- In the following cell, *increment* the value of `x` by 8 using one of the assignment operators above. Retain the print statement before, and add one after in order to validate that the value of `x` has been changed.\n",
    "\n",
    "***"
   ]
  },
  {
   "cell_type": "code",
   "execution_count": null,
   "id": "c9ba96dc-678b-4f0c-bcf1-ed69bb1ca74f",
   "metadata": {},
   "outputs": [],
   "source": [
    "x = 4\n",
    "\n",
    "print(x)"
   ]
  },
  {
   "cell_type": "markdown",
   "id": "e6fec274-bd75-47e3-9cd4-317f34ac03bf",
   "metadata": {},
   "source": [
    "*All of the assignment operators will define, or re-define a variable.*"
   ]
  },
  {
   "cell_type": "markdown",
   "id": "8cbbb207-9b76-44f1-8268-053a345f4c95",
   "metadata": {},
   "source": [
    "#### Logical operators"
   ]
  },
  {
   "cell_type": "markdown",
   "id": "388a54b8-5e63-4038-9b96-6edff42b9fd2",
   "metadata": {},
   "source": [
    "#### Assignment operators\n",
    "\n",
    "| Operator    | Description                                                | Example |\n",
    "| :---        | :---                                                       | :---\n",
    "| and         | Returns True if both operands are True, otherwise False    | x < 5 and y == x\n",
    "| or          | Returns True if either operands are True, otherwise False  | x < 5 or y < 5\n",
    "| not         | Inverts a boolean value                                    | not x < 5\n",
    "\n",
    "*** \n",
    "\n",
    "⚙️ ***Exercise:*** \n",
    "- What is the value of `z` in the cell below?\n",
    "\n",
    "***"
   ]
  },
  {
   "cell_type": "code",
   "execution_count": null,
   "id": "ac5de166-e916-46d9-9a9d-2f94846f25cb",
   "metadata": {},
   "outputs": [],
   "source": [
    "x = 3\n",
    "y = 4\n",
    "z = x < 4 and y < 5"
   ]
  },
  {
   "cell_type": "markdown",
   "id": "740e899c-9c3d-42dd-9944-212fc0d816b6",
   "metadata": {},
   "source": [
    "#### Remarks on the order of operation\n",
    "\n",
    "Artithmetic operations follow \"BIDMAS\"... evaluating in the order\n",
    "1. Brackets\n",
    "2. Indices/exponents\n",
    "3. Division/Multiplication\n",
    "4. Addition/Subtraction\n",
    "\n",
    "*** \n",
    "\n",
    "⚙️ ***Exercise:***\n",
    "- Print the following results, and check they make sense\n",
    "\n",
    "***"
   ]
  },
  {
   "cell_type": "code",
   "execution_count": null,
   "id": "28e1071d-dcbd-4deb-b977-6f18f04de94e",
   "metadata": {},
   "outputs": [],
   "source": [
    "res_1 = 5 * 2 - 1\n",
    "res_2 = 5 * (2 - 1)"
   ]
  },
  {
   "cell_type": "markdown",
   "id": "5bed4702-1739-4e9e-9f9c-d8e39e2e7b39",
   "metadata": {},
   "source": [
    "Boolean operators take **precedence** over comparison operators\n",
    "\n",
    "***\n",
    "\n",
    "⚙️ ***Exercise:*** \n",
    "- Print the following results, and try to explain the difference in the results.\n",
    "\n",
    "***"
   ]
  },
  {
   "cell_type": "code",
   "execution_count": null,
   "id": "3c269d8c-ef5d-453c-ad55-dab3f59ec30e",
   "metadata": {},
   "outputs": [],
   "source": [
    "res_3 = 4 < 5 == True\n",
    "res_4 = (4 < 5) == True"
   ]
  },
  {
   "cell_type": "markdown",
   "id": "4ddb8916-d541-492d-8449-ac9dce33ffc1",
   "metadata": {},
   "source": [
    "Boolean values can be used arithmetically...\n",
    "\n",
    "***\n",
    "\n",
    "⚙️ ***Exercise:***\n",
    "- Can you rationalize the following results?\n",
    "\n",
    "***"
   ]
  },
  {
   "cell_type": "code",
   "execution_count": null,
   "id": "7edaf638-db87-4363-885b-238e5ac35127",
   "metadata": {},
   "outputs": [],
   "source": [
    "print(4 + 3 > 6)\n",
    "print(6 < 4 + 3)\n",
    "print((6 < 4) + 3)\n",
    "print((6 > 4) + 3)"
   ]
  }
 ],
 "metadata": {
  "kernelspec": {
   "display_name": "Python 3 (ipykernel)",
   "language": "python",
   "name": "python3"
  },
  "language_info": {
   "codemirror_mode": {
    "name": "ipython",
    "version": 3
   },
   "file_extension": ".py",
   "mimetype": "text/x-python",
   "name": "python",
   "nbconvert_exporter": "python",
   "pygments_lexer": "ipython3",
   "version": "3.11.0"
  }
 },
 "nbformat": 4,
 "nbformat_minor": 5
}
