{
 "cells": [
  {
   "cell_type": "markdown",
   "id": "57151cecb24ed1dc",
   "metadata": {
    "jupyter": {
     "outputs_hidden": false
    }
   },
   "source": [
    "<img src=\"graphics/icr_logo.png\" alt=\"drawing\" width=\"300\"/>\n",
    "\n",
    "# An introduction to programming with Python"
   ]
  },
  {
   "cell_type": "markdown",
   "id": "c3805eca-305a-4a2f-a0cf-a2ee7be1631d",
   "metadata": {},
   "source": [
    "## Welcome to the course! 👋\n",
    "\n",
    "_Digital Services > Scientific Computing > __Scientific Software Group___\n",
    "\n",
    "We are here to support the research offerts of the ICR, by writing software!\n",
    "\n",
    "##### Rachel Alcraft\n",
    "- Research software engineer at ICR since May 2023\n",
    "- Previously *Research Software Engineer* at UCL\n",
    "- MScs in Computing & Bioinformatics\n",
    "\n",
    "##### Kareem Marzouk\n",
    "- Research software engineer at ICR since Oct 2022\n",
    "- Previosuly MPhys/PhD in Theoretical Physics/Cosmology at Sussex\n",
    "\n",
    "#### Who are you, and why are you interested in learning Python?..."
   ]
  },
  {
   "cell_type": "markdown",
   "id": "70f1f41e-fdde-4391-9754-02d545bc7719",
   "metadata": {
    "jp-MarkdownHeadingCollapsed": true
   },
   "source": [
    "## Outline for today\n",
    "\n",
    "**00.** Preamble, explain how this course is going to work\n",
    "\n",
    "**01.** Python language syntax\n",
    "\n",
    "**02.** Variables and data types\n",
    "\n",
    "**03.** Basic operations\n",
    "\n",
    "**04.** Containers\n",
    "\n",
    "**05.** Conditional statements\n",
    "\n",
    "**06.** Loops\n"
   ]
  }
 ],
 "metadata": {
  "kernelspec": {
   "display_name": "Python 3 (ipykernel)",
   "language": "python",
   "name": "python3"
  },
  "language_info": {
   "codemirror_mode": {
    "name": "ipython",
    "version": 3
   },
   "file_extension": ".py",
   "mimetype": "text/x-python",
   "name": "python",
   "nbconvert_exporter": "python",
   "pygments_lexer": "ipython3",
   "version": "3.11.0"
  }
 },
 "nbformat": 4,
 "nbformat_minor": 5
}
