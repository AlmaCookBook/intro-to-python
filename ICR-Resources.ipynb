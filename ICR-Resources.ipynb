{
 "cells": [
  {
   "cell_type": "markdown",
   "id": "6ee4c968-7266-4aa4-a909-6d0c50c04963",
   "metadata": {},
   "source": [
    "<img src=\"graphics/icr_logo.png\" alt=\"drawing\" width=\"300\"/>\n",
    "\n",
    "# ICR Staff Additional Resources"
   ]
  },
  {
   "cell_type": "markdown",
   "id": "76dd02d3-c3cc-4510-a598-03997fa5d62b",
   "metadata": {},
   "source": [
    "### Code Club and Drop-in\n",
    "\n",
    "A code club and drop in session will take place virtually most Wednesdays between 4pm and 6pm virtually using the collaborative workspace kumpspace. \n",
    "\n",
    "It is a bit nerdy :-) but it offers a much easier space than teams or zoom to ask for help, share problems and collaborate with others.\n",
    "\n",
    "It is not anticipated for people to stay the whole session for a drop in, but welcome, especially for the Code Club.\n",
    "\n",
    "<img src=\"graphics/kumo.png\" alt=\"drawing\" width=\"600\"/>  \n",
    "\n",
    "On entering I am on the welcome mat, and you can see a light circle which is the audiozone. The welcome mat is in the audiozone of the piano playing, but as soon as you move elsewhere it will stop. You can move with arrow keys or just by double clicking where you want to go. Each of the rooms and lecture theatre is soundproofed. The screenshare is restricted to a room when the door is shut.  \n",
    "\n",
    "#### Drop-In  \n",
    "There is a 1:1 room as you can see with in the image on the postit note. I can talk to poeople 1:1 in here, and I can simply sit in here and if you see it is empty you can come and ask me a quesiton or arrange to chat to me here via the chat.  \n",
    "\n",
    "#### Code Club  \n",
    "You can work alone (and ask for help if you need it) or in groups on code quesitons to help you practice, and if you are short of inspiratikon just ask me for some ideas.  Two of the rooms have been set up with **Code Club** resources:\n",
    "- Lilac Room, the [Kaggle Club](https://www.kaggle.com/). \n",
    "- Orange Area, the [Rosalind Club](https://rosalind.info/problems/locations/)  \n",
    "\n",
    "Other resources are laid out in the Donut Room. If you want to team up to work on a challenge with someone use the chat.\n",
    "\n",
    "---  \n",
    "\n",
    "Help on how to use and navigate kumospace [is here](https://www.kumospace.com/help/category/using)  \n",
    "\n",
    "The RSE Group kumo space [is here](https://www.kumospace.com/invite/B5y9b9qKjJ7WJ3Lq9cOF). Link expires 24/5/24.\n",
    "\n",
    "**Sessions will be confirmed via the slack python-training channel**\n"
   ]
  },
  {
   "cell_type": "markdown",
   "id": "1025261f-f6a2-447b-b6d3-f0d52208e659",
   "metadata": {},
   "source": [
    "### Slack Group\n",
    "There is a slack group at the ICR with various channels, one of them is called python-teaching in the Scientific Computing Service slack group.  \n",
    "\n",
    "A join link here [will expire on 31st May](https://join.slack.com/share/enQtNzE0NjQ5MTE0NTk1My0xMzVlYWYyZjdhYzhmOWY2YTMyZmJiY2NkZmRjMTk3OWUzNjQzMzM1OTI5ZWJiNjNiMjNiNDFmNzdkMjEyOGQ1).\n",
    "\n",
    "All the workspace can be found here: [https://icr.enterprise.slack.com/](https://icr.enterprise.slack.com/)  \n",
    "<img src=\"graphics/slack.png\" alt=\"drawing\" width=\"600\"/>\n",
    "\n",
    "\n",
    "\n"
   ]
  },
  {
   "cell_type": "code",
   "execution_count": null,
   "id": "7a8d390c-48ca-4c4c-a5a3-5ac0938d8dd3",
   "metadata": {},
   "outputs": [],
   "source": []
  }
 ],
 "metadata": {
  "kernelspec": {
   "display_name": "Python 3 (ipykernel)",
   "language": "python",
   "name": "python3"
  },
  "language_info": {
   "codemirror_mode": {
    "name": "ipython",
    "version": 3
   },
   "file_extension": ".py",
   "mimetype": "text/x-python",
   "name": "python",
   "nbconvert_exporter": "python",
   "pygments_lexer": "ipython3",
   "version": "3.10.9"
  }
 },
 "nbformat": 4,
 "nbformat_minor": 5
}
