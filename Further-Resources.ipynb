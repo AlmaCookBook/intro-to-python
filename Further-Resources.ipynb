{
 "cells": [
  {
   "cell_type": "markdown",
   "id": "1025261f-f6a2-447b-b6d3-f0d52208e659",
   "metadata": {},
   "source": [
    "<img src=\"graphics/icr_logo.png\" alt=\"drawing\" width=\"300\"/>\n",
    "\n",
    "# Further Resources for Python and Data Science\n",
    "\n",
    "### Books online  \n",
    "- [AutomateTheBoringStuff](https://automatetheboringstuff.com/2e/chapter1)  \n",
    "- [Python Data Science Handbook](https://jakevdp.github.io/PythonDataScienceHandbook/) *with jupyter notebooks\n",
    "- [Python for Biologists](https://pythonforbiologists.com/tutorial.html)\n",
    "\n",
    "### Useful code reference\n",
    "- [w3schools](https://www.w3schools.com/python)\n",
    "- [Python Cheatsheet](https://www.pythoncheatsheet.org/)\n",
    "- [Geeksforgeeks library article](https://www.geeksforgeeks.org/libraries-in-python)\n",
    "- [built in python libs](https://docs.python.org/3/library/index.html)\n",
    "- [pip article](https://www.datacamp.com/tutorial/pip-python-package-manager)\n",
    "\n",
    "### Data visualisation libraries  \n",
    "- [Matplotlib](https://matplotlib.org/)\n",
    "- [Seaborn](https://seaborn.pydata.org/)\n",
    "- [Plotly](https://plot.ly/python/) - interactive plots  \n",
    "\n",
    "### Learn code with bioinformatics problems  \n",
    "- [Rosalind bioinformatics](https://rosalind.info/problems/topics/bioinformatics-tools/)\n",
    "- [Rosalind all problems](https://rosalind.info/problems/list-view/)\n",
    "\n",
    "### Other IDEs\n",
    "Jupyter notebooks are great for small problems that you want to test out, and for sharing and demonstrating ideas. \n",
    "For larger projects you may want to use a different IDE.\n",
    "- [PyCharm](https://www.jetbrains.com/pycharm/), Kareem’s favourite, but maybe not the easiest to use on first pass.\n",
    "- [VSCode](https://code.visualstudio.com/), another popular choice amongst developers and Rachel’s favourite– it is language agnostic – but relies on the user installing extensions they care about.\n",
    "\n",
    "### Jupyter notebooks\n",
    "- [Python Data Science Handbook](https://github.com/jakevdp/PythonDataScienceHandbook)\n",
    "- [Probabilistic Machine learning, by Kevin Murphy](https://github.com/probml/pyprobml)\n",
    "- [AlphaFold on google colab](https://colab.research.google.com/github/sokrypton/ColabFold/blob/main/AlphaFold2.ipynb)"
   ]
  }
 ],
 "metadata": {
  "kernelspec": {
   "display_name": "Python 3 (ipykernel)",
   "language": "python",
   "name": "python3"
  },
  "language_info": {
   "codemirror_mode": {
    "name": "ipython",
    "version": 3
   },
   "file_extension": ".py",
   "mimetype": "text/x-python",
   "name": "python",
   "nbconvert_exporter": "python",
   "pygments_lexer": "ipython3",
   "version": "3.10.9"
  }
 },
 "nbformat": 4,
 "nbformat_minor": 5
}
